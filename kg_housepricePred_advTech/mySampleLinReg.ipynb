{
 "cells": [
  {
   "cell_type": "code",
   "execution_count": 1,
   "metadata": {},
   "outputs": [],
   "source": [
    "import numpy as np\n",
    "import pandas as pd\n",
    "import matplotlib.pyplot as plt\n",
    "import seaborn as sns\n",
    "\n",
    "%matplotlib inline"
   ]
  },
  {
   "cell_type": "code",
   "execution_count": 3,
   "metadata": {},
   "outputs": [],
   "source": [
    "train = pd.read_csv(\"train.csv\")\n",
    "test = pd.read_csv(\"test.csv\")\n",
    "submission = pd.read_csv(\"sample_submission.csv\")"
   ]
  },
  {
   "cell_type": "code",
   "execution_count": 5,
   "metadata": {},
   "outputs": [
    {
     "data": {
      "text/plain": [
       "((1460, 81), (1459, 80), (1459, 2))"
      ]
     },
     "execution_count": 5,
     "metadata": {},
     "output_type": "execute_result"
    }
   ],
   "source": [
    "train.shape, test.shape, submission.shape"
   ]
  },
  {
   "cell_type": "code",
   "execution_count": 6,
   "metadata": {},
   "outputs": [
    {
     "data": {
      "text/plain": [
       "(RangeIndex(start=0, stop=1460, step=1),\n",
       " RangeIndex(start=0, stop=1459, step=1),\n",
       " RangeIndex(start=0, stop=1459, step=1))"
      ]
     },
     "execution_count": 6,
     "metadata": {},
     "output_type": "execute_result"
    }
   ],
   "source": [
    "train.index, test.index, submission.index"
   ]
  },
  {
   "cell_type": "code",
   "execution_count": 10,
   "metadata": {},
   "outputs": [
    {
     "name": "stdout",
     "output_type": "stream",
     "text": [
      "<class 'pandas.core.frame.DataFrame'>\n",
      "RangeIndex: 1460 entries, 0 to 1459\n",
      "Data columns (total 81 columns):\n",
      " #   Column         Non-Null Count  Dtype  \n",
      "---  ------         --------------  -----  \n",
      " 0   Id             1460 non-null   int64  \n",
      " 1   MSSubClass     1460 non-null   int64  \n",
      " 2   MSZoning       1460 non-null   object \n",
      " 3   LotFrontage    1201 non-null   float64\n",
      " 4   LotArea        1460 non-null   int64  \n",
      " 5   Street         1460 non-null   object \n",
      " 6   Alley          91 non-null     object \n",
      " 7   LotShape       1460 non-null   object \n",
      " 8   LandContour    1460 non-null   object \n",
      " 9   Utilities      1460 non-null   object \n",
      " 10  LotConfig      1460 non-null   object \n",
      " 11  LandSlope      1460 non-null   object \n",
      " 12  Neighborhood   1460 non-null   object \n",
      " 13  Condition1     1460 non-null   object \n",
      " 14  Condition2     1460 non-null   object \n",
      " 15  BldgType       1460 non-null   object \n",
      " 16  HouseStyle     1460 non-null   object \n",
      " 17  OverallQual    1460 non-null   int64  \n",
      " 18  OverallCond    1460 non-null   int64  \n",
      " 19  YearBuilt      1460 non-null   int64  \n",
      " 20  YearRemodAdd   1460 non-null   int64  \n",
      " 21  RoofStyle      1460 non-null   object \n",
      " 22  RoofMatl       1460 non-null   object \n",
      " 23  Exterior1st    1460 non-null   object \n",
      " 24  Exterior2nd    1460 non-null   object \n",
      " 25  MasVnrType     1452 non-null   object \n",
      " 26  MasVnrArea     1452 non-null   float64\n",
      " 27  ExterQual      1460 non-null   object \n",
      " 28  ExterCond      1460 non-null   object \n",
      " 29  Foundation     1460 non-null   object \n",
      " 30  BsmtQual       1423 non-null   object \n",
      " 31  BsmtCond       1423 non-null   object \n",
      " 32  BsmtExposure   1422 non-null   object \n",
      " 33  BsmtFinType1   1423 non-null   object \n",
      " 34  BsmtFinSF1     1460 non-null   int64  \n",
      " 35  BsmtFinType2   1422 non-null   object \n",
      " 36  BsmtFinSF2     1460 non-null   int64  \n",
      " 37  BsmtUnfSF      1460 non-null   int64  \n",
      " 38  TotalBsmtSF    1460 non-null   int64  \n",
      " 39  Heating        1460 non-null   object \n",
      " 40  HeatingQC      1460 non-null   object \n",
      " 41  CentralAir     1460 non-null   object \n",
      " 42  Electrical     1459 non-null   object \n",
      " 43  1stFlrSF       1460 non-null   int64  \n",
      " 44  2ndFlrSF       1460 non-null   int64  \n",
      " 45  LowQualFinSF   1460 non-null   int64  \n",
      " 46  GrLivArea      1460 non-null   int64  \n",
      " 47  BsmtFullBath   1460 non-null   int64  \n",
      " 48  BsmtHalfBath   1460 non-null   int64  \n",
      " 49  FullBath       1460 non-null   int64  \n",
      " 50  HalfBath       1460 non-null   int64  \n",
      " 51  BedroomAbvGr   1460 non-null   int64  \n",
      " 52  KitchenAbvGr   1460 non-null   int64  \n",
      " 53  KitchenQual    1460 non-null   object \n",
      " 54  TotRmsAbvGrd   1460 non-null   int64  \n",
      " 55  Functional     1460 non-null   object \n",
      " 56  Fireplaces     1460 non-null   int64  \n",
      " 57  FireplaceQu    770 non-null    object \n",
      " 58  GarageType     1379 non-null   object \n",
      " 59  GarageYrBlt    1379 non-null   float64\n",
      " 60  GarageFinish   1379 non-null   object \n",
      " 61  GarageCars     1460 non-null   int64  \n",
      " 62  GarageArea     1460 non-null   int64  \n",
      " 63  GarageQual     1379 non-null   object \n",
      " 64  GarageCond     1379 non-null   object \n",
      " 65  PavedDrive     1460 non-null   object \n",
      " 66  WoodDeckSF     1460 non-null   int64  \n",
      " 67  OpenPorchSF    1460 non-null   int64  \n",
      " 68  EnclosedPorch  1460 non-null   int64  \n",
      " 69  3SsnPorch      1460 non-null   int64  \n",
      " 70  ScreenPorch    1460 non-null   int64  \n",
      " 71  PoolArea       1460 non-null   int64  \n",
      " 72  PoolQC         7 non-null      object \n",
      " 73  Fence          281 non-null    object \n",
      " 74  MiscFeature    54 non-null     object \n",
      " 75  MiscVal        1460 non-null   int64  \n",
      " 76  MoSold         1460 non-null   int64  \n",
      " 77  YrSold         1460 non-null   int64  \n",
      " 78  SaleType       1460 non-null   object \n",
      " 79  SaleCondition  1460 non-null   object \n",
      " 80  SalePrice      1460 non-null   int64  \n",
      "dtypes: float64(3), int64(35), object(43)\n",
      "memory usage: 924.0+ KB\n"
     ]
    }
   ],
   "source": [
    "train.info()"
   ]
  },
  {
   "cell_type": "code",
   "execution_count": 20,
   "metadata": {},
   "outputs": [
    {
     "data": {
      "text/plain": [
       "(Index(['SalePrice'], dtype='object'),\n",
       " Index(['Id', 'SalePrice'], dtype='object'))"
      ]
     },
     "execution_count": 20,
     "metadata": {},
     "output_type": "execute_result"
    }
   ],
   "source": [
    "train.columns.difference(test.columns), train.columns.intersection(submission.columns)"
   ]
  },
  {
   "cell_type": "code",
   "execution_count": 19,
   "metadata": {},
   "outputs": [
    {
     "name": "stdout",
     "output_type": "stream",
     "text": [
      "<class 'pandas.core.frame.DataFrame'>\n",
      "RangeIndex: 1459 entries, 0 to 1458\n",
      "Data columns (total 2 columns):\n",
      " #   Column     Non-Null Count  Dtype  \n",
      "---  ------     --------------  -----  \n",
      " 0   Id         1459 non-null   int64  \n",
      " 1   SalePrice  1459 non-null   float64\n",
      "dtypes: float64(1), int64(1)\n",
      "memory usage: 22.9 KB\n"
     ]
    }
   ],
   "source": [
    "submission.info()"
   ]
  },
  {
   "cell_type": "code",
   "execution_count": null,
   "metadata": {},
   "outputs": [],
   "source": [
    "import "
   ]
  },
  {
   "cell_type": "code",
   "execution_count": 53,
   "metadata": {},
   "outputs": [],
   "source": [
    "df1 = pd.DataFrame(np.array([[1,'chn','bread',44],[2,'chn','rice',55],[3,'mum','rice',50],[4,'del','honey',155]]),\n",
    "                   columns=['id','city','item','price']\n",
    "                  )"
   ]
  },
  {
   "cell_type": "code",
   "execution_count": 310,
   "metadata": {},
   "outputs": [
    {
     "name": "stdout",
     "output_type": "stream",
     "text": [
      "  id city   item price\n",
      "0  1  chn  bread    44\n",
      "1  2  chn   rice    55\n",
      "2  3  mum   rice    50\n",
      "3  4  del  honey   155\n"
     ]
    }
   ],
   "source": [
    "print(df1)\n",
    "data=df1.copy()"
   ]
  },
  {
   "cell_type": "code",
   "execution_count": 311,
   "metadata": {},
   "outputs": [
    {
     "data": {
      "text/plain": [
       "(numpy.ndarray, pandas.core.frame.DataFrame)"
      ]
     },
     "execution_count": 311,
     "metadata": {},
     "output_type": "execute_result"
    }
   ],
   "source": [
    "X = data.iloc[:,:-1].values\n",
    "#X.drop(columns='price',inplace=True)\n",
    "X.dtype,data.dtypes\n",
    "type(X), type(data)"
   ]
  },
  {
   "cell_type": "code",
   "execution_count": 312,
   "metadata": {},
   "outputs": [
    {
     "data": {
      "text/plain": [
       "array(['44', '55', '50', '155'], dtype=object)"
      ]
     },
     "execution_count": 312,
     "metadata": {},
     "output_type": "execute_result"
    }
   ],
   "source": [
    "y = data.iloc[:,3].values\n",
    "y"
   ]
  },
  {
   "cell_type": "code",
   "execution_count": 313,
   "metadata": {},
   "outputs": [
    {
     "data": {
      "text/plain": [
       "array([['chn', 'bread'],\n",
       "       ['chn', 'rice'],\n",
       "       ['mum', 'rice'],\n",
       "       ['del', 'honey']], dtype=object)"
      ]
     },
     "execution_count": 313,
     "metadata": {},
     "output_type": "execute_result"
    }
   ],
   "source": [
    "X[:,1:3]"
   ]
  },
  {
   "cell_type": "code",
   "execution_count": 314,
   "metadata": {},
   "outputs": [
    {
     "data": {
      "text/plain": [
       "Index(['id', 'city', 'item'], dtype='object')"
      ]
     },
     "execution_count": 314,
     "metadata": {},
     "output_type": "execute_result"
    }
   ],
   "source": [
    "z=data.drop(columns='price').columns\n",
    "z"
   ]
  },
  {
   "cell_type": "code",
   "execution_count": 315,
   "metadata": {},
   "outputs": [
    {
     "name": "stdout",
     "output_type": "stream",
     "text": [
      "[['1' 'chn' 'bread']\n",
      " ['2' 'chn' 'rice']\n",
      " ['3' 'mum' 'rice']\n",
      " ['4' 'del' 'honey']]\n",
      "[['1' 0 'bread']\n",
      " ['2' 0 'rice']\n",
      " ['3' 2 'rice']\n",
      " ['4' 1 'honey']]\n",
      "[['1' 0 0]\n",
      " ['2' 0 2]\n",
      " ['3' 2 2]\n",
      " ['4' 1 1]]\n",
      "[['1' 0 0]\n",
      " ['2' 0 2]\n",
      " ['3' 2 2]\n",
      " ['4' 1 1]]\n",
      "[[0]\n",
      " [2]\n",
      " [2]\n",
      " [1]]\n"
     ]
    }
   ],
   "source": [
    "from sklearn.preprocessing import LabelEncoder, OneHotEncoder\n",
    "labelencoder_X = LabelEncoder()\n",
    "#X=X.drop(columns='id')\n",
    "print(X)\n",
    "X[:,1] = labelencoder_X.fit_transform(X[:,1])\n",
    "print(X)\n",
    "X[:,2] = labelencoder_X.fit_transform(X[:,2])\n",
    "print(X)\n",
    "#X=pd.DataFrame(data=X,columns=data.drop(columns='price').columns)\n",
    "#print(X)\n",
    "onehotencoder = OneHotEncoder()\n",
    "#X = onehotencoder.fit_transform(X).toarray() \n",
    "print(X)\n",
    "print(X[:,2:])"
   ]
  },
  {
   "cell_type": "code",
   "execution_count": 322,
   "metadata": {},
   "outputs": [],
   "source": [
    "from sklearn.model_selection import train_test_split\n",
    "X_train, X_test, y_train, y_test =  train_test_split(X,y,test_size = 0.2, random_state= 0) #fitting multiple regression model to the training set \n"
   ]
  },
  {
   "cell_type": "code",
   "execution_count": 320,
   "metadata": {},
   "outputs": [
    {
     "name": "stdout",
     "output_type": "stream",
     "text": [
      "  id city item price\n",
      "0  1    0    0    44\n",
      "1  2    0    2    55\n",
      "2  3    2    2    50\n",
      "3  4    1    1   155\n",
      "[['4' 1 1]\n",
      " ['2' 0 2]\n",
      " ['1' 0 0]] [['3' 2 2]] ['155' '55' '44'] ['50']\n"
     ]
    }
   ],
   "source": [
    "print(data)\n",
    "print(X_train, X_test, y_train, y_test )"
   ]
  },
  {
   "cell_type": "code",
   "execution_count": 242,
   "metadata": {},
   "outputs": [],
   "source": [
    "from sklearn.linear_model import LinearRegression\n",
    "regressor = LinearRegression()\n",
    "regressor.fit(X_train, y_train)#predicting the test set results\n",
    "y_train_pred = regressor.predict(X_train)\n",
    "y_pred = regressor.predict(X_test)"
   ]
  },
  {
   "cell_type": "code",
   "execution_count": 243,
   "metadata": {},
   "outputs": [
    {
     "name": "stdout",
     "output_type": "stream",
     "text": [
      "[83.9]\n",
      "['50']\n"
     ]
    }
   ],
   "source": [
    "print(y_pred)\n",
    "print(y_test)"
   ]
  },
  {
   "cell_type": "code",
   "execution_count": 245,
   "metadata": {},
   "outputs": [
    {
     "name": "stdout",
     "output_type": "stream",
     "text": [
      "train rmse 1.160311428702309e-14\n",
      "test  rmse 33.900000000000006\n",
      "mae 33.900000000000006\n",
      "r2 nan\n"
     ]
    },
    {
     "name": "stderr",
     "output_type": "stream",
     "text": [
      "D:\\Program Files\\anaconda3\\lib\\site-packages\\sklearn\\metrics\\_regression.py:594: UndefinedMetricWarning: R^2 score is not well-defined with less than two samples.\n",
      "  warnings.warn(msg, UndefinedMetricWarning)\n"
     ]
    }
   ],
   "source": [
    "from sklearn.metrics import mean_squared_error, mean_absolute_error,r2_score\n",
    "print('train rmse',mean_squared_error(y_train,y_train_pred,squared=False))\n",
    "print('test  rmse',mean_squared_error(y_test,y_pred,squared=False))\n",
    "print('mae',mean_absolute_error(y_test,y_pred))\n",
    "print('r2',r2_score(y_test,y_pred))"
   ]
  },
  {
   "cell_type": "code",
   "execution_count": 223,
   "metadata": {},
   "outputs": [
    {
     "data": {
      "text/plain": [
       "((4, 10), (4,), (3, 10), (1, 10), (3,), (1,))"
      ]
     },
     "execution_count": 223,
     "metadata": {},
     "output_type": "execute_result"
    }
   ],
   "source": [
    "X.shape,y.shape, X_train.shape, X_test.shape, y_train.shape, y_test.shape"
   ]
  },
  {
   "cell_type": "code",
   "execution_count": 224,
   "metadata": {},
   "outputs": [
    {
     "ename": "AttributeError",
     "evalue": "'numpy.ndarray' object has no attribute 'columns'",
     "output_type": "error",
     "traceback": [
      "\u001b[1;31m---------------------------------------------------------------------------\u001b[0m",
      "\u001b[1;31mAttributeError\u001b[0m                            Traceback (most recent call last)",
      "\u001b[1;32m<ipython-input-224-2625f76b8a6d>\u001b[0m in \u001b[0;36m<module>\u001b[1;34m\u001b[0m\n\u001b[1;32m----> 1\u001b[1;33m \u001b[0mX_train\u001b[0m\u001b[1;33m.\u001b[0m\u001b[0mcolumns\u001b[0m\u001b[1;33m\u001b[0m\u001b[1;33m\u001b[0m\u001b[0m\n\u001b[0m",
      "\u001b[1;31mAttributeError\u001b[0m: 'numpy.ndarray' object has no attribute 'columns'"
     ]
    }
   ],
   "source": [
    "X_train.columns"
   ]
  },
  {
   "cell_type": "code",
   "execution_count": 231,
   "metadata": {},
   "outputs": [
    {
     "name": "stdout",
     "output_type": "stream",
     "text": [
      "(3, 2)\n",
      "[0.00703286 0.00109978]\n",
      "[[1 1]\n",
      " [0 2]\n",
      " [0 0]]\n",
      "[84.67948789]\n",
      "['50']\n",
      "rmse 34.6794878875035\n",
      "mae 34.6794878875035\n",
      "r2 nan\n"
     ]
    },
    {
     "name": "stderr",
     "output_type": "stream",
     "text": [
      "D:\\Program Files\\anaconda3\\lib\\site-packages\\sklearn\\metrics\\_regression.py:594: UndefinedMetricWarning: R^2 score is not well-defined with less than two samples.\n",
      "  warnings.warn(msg, UndefinedMetricWarning)\n"
     ]
    },
    {
     "data": {
      "image/png": "[encoded data removed]",
      "text/plain": [
       "<Figure size 432x288 with 1 Axes>"
      ]
     },
     "metadata": {
      "needs_background": "light"
     },
     "output_type": "display_data"
    }
   ],
   "source": [
    "# Regularization\n",
    "# Ridge Regression\n",
    "\n",
    "from sklearn.linear_model import Ridge\n",
    "#X2_train = X_train.drop(columns='id')\n",
    "#X2_test = X_test.drop(columns='id')\n",
    "\n",
    "ridge_model = Ridge(alpha = 10000)\n",
    "ridge_model.fit(X2_train,y_train)\n",
    "print(X2_train.shape)\n",
    "print(ridge_model.coef_)\n",
    "print(X2_train.values)\n",
    "modelSlope = pd.Series(ridge_model.coef_, index=X2_train.columns).sort_values(ascending=False)\n",
    "modelSlope.plot(kind = \"bar\")\n",
    "\n",
    "y_pred = ridge_model.predict(X2_test)\n",
    "print(y_pred)\n",
    "print(y_test)\n",
    "print('rmse',mean_squared_error(y_test,y_pred,squared=False))\n",
    "print('mae',mean_absolute_error(y_test,y_pred))\n",
    "print('r2',r2_score(y_test,y_pred))"
   ]
  },
  {
   "cell_type": "code",
   "execution_count": 233,
   "metadata": {},
   "outputs": [
    {
     "name": "stdout",
     "output_type": "stream",
     "text": [
      "(3, 10)\n",
      "[-0. -0.  0.  0. -0.  0.  0. -0.  0. -0.]\n"
     ]
    },
    {
     "ename": "AttributeError",
     "evalue": "'numpy.ndarray' object has no attribute 'columns'",
     "output_type": "error",
     "traceback": [
      "\u001b[1;31m---------------------------------------------------------------------------\u001b[0m",
      "\u001b[1;31mAttributeError\u001b[0m                            Traceback (most recent call last)",
      "\u001b[1;32m<ipython-input-233-e75b88a1d877>\u001b[0m in \u001b[0;36m<module>\u001b[1;34m\u001b[0m\n\u001b[0;32m     13\u001b[0m \u001b[0mprint\u001b[0m\u001b[1;33m(\u001b[0m\u001b[0mlasso_model\u001b[0m\u001b[1;33m.\u001b[0m\u001b[0mcoef_\u001b[0m\u001b[1;33m)\u001b[0m\u001b[1;33m\u001b[0m\u001b[1;33m\u001b[0m\u001b[0m\n\u001b[0;32m     14\u001b[0m \u001b[1;31m#print(X2_train.values)\u001b[0m\u001b[1;33m\u001b[0m\u001b[1;33m\u001b[0m\u001b[1;33m\u001b[0m\u001b[0m\n\u001b[1;32m---> 15\u001b[1;33m \u001b[0mmodelSlope\u001b[0m \u001b[1;33m=\u001b[0m \u001b[0mpd\u001b[0m\u001b[1;33m.\u001b[0m\u001b[0mSeries\u001b[0m\u001b[1;33m(\u001b[0m\u001b[0mlasso_model\u001b[0m\u001b[1;33m.\u001b[0m\u001b[0mcoef_\u001b[0m\u001b[1;33m,\u001b[0m \u001b[0mindex\u001b[0m\u001b[1;33m=\u001b[0m\u001b[0mX2_train\u001b[0m\u001b[1;33m.\u001b[0m\u001b[0mcolumns\u001b[0m\u001b[1;33m)\u001b[0m\u001b[1;33m.\u001b[0m\u001b[0msort_values\u001b[0m\u001b[1;33m(\u001b[0m\u001b[0mascending\u001b[0m\u001b[1;33m=\u001b[0m\u001b[1;32mFalse\u001b[0m\u001b[1;33m)\u001b[0m\u001b[1;33m\u001b[0m\u001b[1;33m\u001b[0m\u001b[0m\n\u001b[0m\u001b[0;32m     16\u001b[0m \u001b[0mmodelSlope\u001b[0m\u001b[1;33m.\u001b[0m\u001b[0mplot\u001b[0m\u001b[1;33m(\u001b[0m\u001b[0mkind\u001b[0m \u001b[1;33m=\u001b[0m \u001b[1;34m\"bar\"\u001b[0m\u001b[1;33m)\u001b[0m\u001b[1;33m\u001b[0m\u001b[1;33m\u001b[0m\u001b[0m\n\u001b[0;32m     17\u001b[0m \u001b[1;33m\u001b[0m\u001b[0m\n",
      "\u001b[1;31mAttributeError\u001b[0m: 'numpy.ndarray' object has no attribute 'columns'"
     ]
    }
   ],
   "source": [
    "# Regularization\n",
    "# Lasso Regression\n",
    "\n",
    "from sklearn.linear_model import Lasso\n",
    "X2_train = X_train\n",
    "X2_test = X_test\n",
    "#X2_train = X_train.drop(columns='id')\n",
    "#X2_test = X_test.drop(columns='id')\n",
    "\n",
    "lasso_model = Lasso(alpha = 24)\n",
    "lasso_model.fit(X2_train,y_train)\n",
    "print(X2_train.shape)\n",
    "print(lasso_model.coef_)\n",
    "#print(X2_train.values)\n",
    "modelSlope = pd.Series(lasso_model.coef_, index=X2_train.columns).sort_values(ascending=False)\n",
    "modelSlope.plot(kind = \"bar\")\n",
    "\n",
    "y_train_pred = lasso_model.predict(X2_train)\n",
    "y_pred = lasso_model.predict(X2_test)\n",
    "print(y_pred)\n",
    "print(y_test)\n",
    "print('train rmse',mean_squared_error(y_train,y_pred,squared=False))\n",
    "print('test  rmse',mean_squared_error(y_test,y_pred,squared=False))\n",
    "print('mae',mean_absolute_error(y_test,y_pred))\n",
    "print('r2',r2_score(y_test,y_pred))"
   ]
  },
  {
   "cell_type": "code",
   "execution_count": 331,
   "metadata": {},
   "outputs": [
    {
     "name": "stdout",
     "output_type": "stream",
     "text": [
      "[['4' 1 1]\n",
      " ['2' 0 2]\n",
      " ['1' 0 0]]\n",
      "[[1 1]\n",
      " [0 2]\n",
      " [0 0]]\n",
      "[[1. 1. 1.]\n",
      " [1. 0. 2.]\n",
      " [1. 0. 0.]]\n",
      "[['3' 2 2]]\n",
      "[[2 2]]\n",
      "[[1. 2. 2.]]\n",
      "[155.  55.  44.]\n",
      "[266.]\n",
      "Train MSE :  5.801557143511545e-15\n",
      "Test MSE :  216.0\n"
     ]
    }
   ],
   "source": [
    "X_train, X_test, y_train, y_test =  train_test_split(X,y,test_size = 0.2, random_state= 0) #fitting multiple regression model to the training set \n",
    "\n",
    "from sklearn.preprocessing import PolynomialFeatures\n",
    "print(X_train)\n",
    "print(X_train[:,[1,2]])\n",
    "X_train = X_train[:,[1,2]]\n",
    "poly = PolynomialFeatures(degree = 1)\n",
    "X_poly = poly.fit_transform(X_train)\n",
    "print(X_poly)\n",
    "lin2 = LinearRegression()\n",
    "lin2.fit(X_poly,y_train)\n",
    "#plt.scatter(x = train_X, y = train_y, color=\"b\" )\n",
    "#plt.scatter(x = test_X, y = test_y, color=\"r\" )\n",
    "#plt.plot(train_X, lin2.predict(poly.fit_transform(train_X)))\n",
    "print(X_test)\n",
    "print(X_test[:,[1,2]])\n",
    "X_test = X_test[:,[1,2]]\n",
    "X_test_poly = poly.fit_transform(X_test)\n",
    "print(X_test_poly)\n",
    "y_train_pred=lin2.predict(X_poly)\n",
    "y_pred=lin2.predict(X_test_poly)\n",
    "print(y_train_pred)\n",
    "print(y_pred)\n",
    "#print(\"Train MSE : \",mean_squared_error(y_train, poly.fit_transform(X_train)),squared=False))\n",
    "#print(\"Test MSE : \",mean_squared_error(y_test, lin2.predict(poly.fit_transform(X_test)),squared=False))\n",
    "print(\"Train MSE : \",mean_squared_error(y_train, y_train_pred,squared=False))\n",
    "print(\"Test MSE : \",mean_squared_error(y_test, y_pred,squared=False))"
   ]
  }
 ],
 "metadata": {
  "kernelspec": {
   "display_name": "Python 3",
   "language": "python",
   "name": "python3"
  },
  "language_info": {
   "codemirror_mode": {
    "name": "ipython",
    "version": 3
   },
   "file_extension": ".py",
   "mimetype": "text/x-python",
   "name": "python",
   "nbconvert_exporter": "python",
   "pygments_lexer": "ipython3",
   "version": "3.8.5"
  }
 },
 "nbformat": 4,
 "nbformat_minor": 4
}
