{
 "cells": [
  {
   "cell_type": "code",
   "execution_count": 129,
   "metadata": {
    "colab": {
     "base_uri": "https://localhost:8080/"
    },
    "executionInfo": {
     "elapsed": 404,
     "status": "ok",
     "timestamp": 1627221958033,
     "user": {
      "displayName": "Mohamed Noordeen Alaudeen",
      "photoUrl": "",
      "userId": "13097854355562551879"
     },
     "user_tz": -330
    },
    "id": "FY30_SDgFeit",
    "outputId": "e3e4eda5-e792-4044-b6fa-9a303c63aa73"
   },
   "outputs": [
    {
     "name": "stdout",
     "output_type": "stream",
     "text": [
      "Drive already mounted at /content/drive; to attempt to forcibly remount, call drive.mount(\"/content/drive\", force_remount=True).\n"
     ]
    }
   ],
   "source": [
    "from google.colab import drive\n",
    "drive.mount('/content/drive')"
   ]
  },
  {
   "cell_type": "code",
   "execution_count": 130,
   "metadata": {
    "colab": {
     "base_uri": "https://localhost:8080/"
    },
    "executionInfo": {
     "elapsed": 81,
     "status": "ok",
     "timestamp": 1627221960050,
     "user": {
      "displayName": "Mohamed Noordeen Alaudeen",
      "photoUrl": "",
      "userId": "13097854355562551879"
     },
     "user_tz": -330
    },
    "id": "M0FDS2vOzp4F",
    "outputId": "d60d9e83-2f3a-40e9-8b66-c105173013fb"
   },
   "outputs": [
    {
     "name": "stdout",
     "output_type": "stream",
     "text": [
      "'02_Analytics_Python (1).pptx'\n",
      " 02_Analytics_Python.pptx\n",
      "'06 - Supervised-Sentiment_chapter6.docx'\n",
      "'08 - Recommendation-Systems_chapter8.docx'\n",
      " 1019_MohamedNoordeenAlaudeen_CEE.pdf\n",
      " 10th.jpg\n",
      "'10th to CPEE.pdf'\n",
      "'10 - Transfer Learning_Chapter 10.docx'\n",
      "'174_10_revised_Transfer_Learning (1).docx'\n",
      "'174_6_Supervised_Sentiment_Classification_Using_ML (1) (1).docx'\n",
      " 20161210_Batch25_CSE7315c_StatisticsBasics_LectureSlides.zip\n",
      " 20161217_Batch25_CSE7315c_Day02_ProbabilityBasics_Distributions_LectureNotes.zip\n",
      " 20161218_Batch25_CSE7315c_Day03_ProbabilityDistributions_LectureNotes.zip\n",
      " 20161224_Batch25_CSE7315c_Day04_LectureNotes_ConfidenceIntervalsHypothesisTesting.zip\n",
      " 20161225_Batch25_CSE7315c_Day05_t_Chi_F_Anova_LectureNotes.zip\n",
      " 2018-08-27-15-36-25-772_1535364385772_XXXPM4101X_Acknowledgement.zip\n",
      "\u001b[0m\u001b[01;34m'2018-08-27-15-36-25-772_1535364385772_XXXPM4101X_Acknowledgement.zip (Unzipped Files)'\u001b[0m\u001b[K/\n",
      "\"2020-06-28 18.55.25 Inceptez Datascience's Zoom Meeting 82049550372.zip\"\n",
      " 2020-12-31-15-16-30-248_1609407990248_XXXPM4101X_Acknowledgement.zip\n",
      " 2020-12-31-15-21-53-405_1609408313405_XXXPN9676X_Acknowledgement.zip\n",
      " 2020-12-31-15-53-07-549_1609410187549_XXXPS8360X_ITRV.zip\n",
      " 2020-12-31-15-55-59-768_1609410359768_XXXPS8360X_Acknowledgement.zip\n",
      "'25DaysInMachineLearning Introduction.pdf at master · nursnaaz 25DaysInMachineLearning'\n",
      " 400621.zip\n",
      " 76_7144FP121_30_A.pdf\n",
      " 817611ebfe0d72a027ced9b072ec5c87-dcf280780a316b37cc48683ca0eb5c7da3a2b0c8.zip\n",
      " AadharBack.jpg\n",
      " AadharFront.jpg\n",
      "'About Me.gdoc'\n",
      "'Acknowledgement from Noor.gsheet'\n",
      "'Advertising &Titanic workings.ipynb'\n",
      "'Alaudn-programming excersises.txt'\n",
      " \u001b[01;34mAnalytics_Vidhya-master\u001b[0m/\n",
      "'Application Documents.zip'\n",
      " Aslam_Profile.doc\n",
      " Aslam_Profile.gdoc\n",
      " Assessment.gform\n",
      " att_desc.csv\n",
      " att_desc.gsheet\n",
      " att_type.csv\n",
      " att_type.gsheet\n",
      "'Aviso Document.zip'\n",
      "'Aviso offer comparison.gsheet'\n",
      "'AWS Day 1 Test.gform'\n",
      "'AWS Test 2.gform'\n",
      " AxisBank.xls\n",
      "\u001b[01;34m'Background Verification File'\u001b[0m/\n",
      "'bank  statement .pdf'\n",
      "\u001b[01;34m'Batch_10 - Python Scholarship test (File responses)'\u001b[0m/\n",
      "\u001b[01;34m'Batch_10 - Python Scholarship test (File responses) (1)'\u001b[0m/\n",
      "'Batch_10 - Python Scholarship test.gform'\n",
      "'Batch_10 - Statistics - Scholarship test.gform'\n",
      "'Batch_10 - Statistics - Scholarship test (Responses).gsheet'\n",
      "\u001b[01;34m'Batch_11 - Python Scholarship test  (File responses)'\u001b[0m/\n",
      "'Batch_11 - Python Scholarship test .gform'\n",
      "'Batch_12 - Python Scholarship test.gform'\n",
      "'Batch_12 - Python Scholarship test (Responses).gsheet'\n",
      "'Batch_12 - Statistics - Scholarship test.gform'\n",
      " Batch_6_Day1.ppt\n",
      "'Bert Explanation.gslides'\n",
      "'Big data mart problem.ipynb'\n",
      " BIG_MART_Hackathon_Sales.ipynb\n",
      " BoardingPass-Journey13427812084062644-I8DERS.pdf\n",
      " BoardingPass-Journey13797151944943991-GDUT3N.pdf\n",
      " BoardingPass-Journey17330781968288535-GDUT3N.pdf\n",
      " BoardingPass-Journey25393854477871463-GDUT3N.pdf\n",
      " BOOK_final.docx\n",
      "\u001b[01;34m'Book Packt'\u001b[0m/\n",
      " C13322_Chapter3_correction.docx\n",
      "'C13322_Packt Author Contract_Mohamed Noordeen Alaudeen.pdf'\n",
      "'Cab to and from Inceptez.gsheet'\n",
      " \u001b[01;34mCCRA\u001b[0m/\n",
      " Chapter_03.gdoc\n",
      " Chapter1_updated.docx\n",
      "'Chapter 2.gdoc'\n",
      " Chapter3_V1.docx\n",
      "'Chapter3_V5_jw_draft_rev_updatedActivity1 (2).gdoc'\n",
      "'Churn Prediction.pptm'\n",
      " \u001b[01;34mClassroom\u001b[0m/\n",
      " Cleaning_15min_APIP_RUP.IPYNB\n",
      " CNN.mp4\n",
      "\u001b[01;34m'Colab Notebooks'\u001b[0m/\n",
      "\u001b[01;34m'Collabera Hadoop'\u001b[0m/\n",
      "'columns required for NLG.gsheet'\n",
      "'Competition Analysis.gsheet'\n",
      " Confidence_Interval_Hypothesis_Testing.pptx\n",
      "'CONGRATULATIONS - Hackathon Winners.gslides'\n",
      "'Congratulations to all the Participants.gslides'\n",
      " convertcsv.xlsx\n",
      " Conveyance_sheet.gsheet\n",
      " Conveyance_sheet.xlsx\n",
      "'Copy of Hackathon Assignment.gsheet'\n",
      "'DataScience Batch 15.gsheet'\n",
      "\u001b[01;34m'data science class'\u001b[0m/\n",
      "'Data Science in Practise part 1.gslides'\n",
      " \u001b[01;34mdata-science-ipython-notebooks-master\u001b[0m/\n",
      "\u001b[01;34m'Data Science Project'\u001b[0m/\n",
      "'Data Science Sylabus - TestLeaf.gsheet'\n",
      " \u001b[01;34mDataSet\u001b[0m/\n",
      "'Day_18_Boosting_Stacking_SVM (1).pptx'\n",
      " Day_18_Boosting_Stacking_SVM.pptx\n",
      "'Day_4_5_Foundation of Statistics (1).gslides'\n",
      " Decision_Tree_updated.pptx\n",
      " \u001b[01;34mDeeplearning\u001b[0m/\n",
      "'Deep learning 1 (1).pdf'\n",
      "'Deep learning 1.gjam'\n",
      "'Deep learning 1.pdf'\n",
      "'Deep learning 2.gjam'\n",
      "'Deep learning 2.pdf'\n",
      "'Deep learning 3.gjam'\n",
      "'DemystifyingML (1).key'\n",
      "'DemystifyingML copy.key'\n",
      " DemystifyingML.key\n",
      " DemystifyingML_ppt.pptx\n",
      " DemystifyingML_ppt.pptx.gslides\n",
      "'Describe a data science project you have worked on in the past to solve a specific problem. Explain what the problem was, any algorithms or techniques you employed to solve the problem, and why you decided to use the methods you did..gdoc'\n",
      "'Document Sales Preprocessing .ipynb'\n",
      " DrivingLicenseBack.jpg\n",
      " DrivingLicenseFront.jpg\n",
      " DSC_3344W.jpg\n",
      "'EC2 .gform'\n",
      " \u001b[01;34mEDIFYCONS\u001b[0m/\n",
      "'EPDDPM-01 Certificate_Mohamed Noordeen Alaudeen_057.jpg'\n",
      "'Event marketing timeline.gsheet'\n",
      "'Feedback for Mohamed Noordeen Inceptez 14.gform'\n",
      "'Feedback for Mohamed Noordeen Inceptez 14 (Responses).gsheet'\n",
      "'Form F Nomination Gratuity 7.2017.pdf'\n",
      "'Full Stack Academy Action plan Inshallah.gsheet'\n",
      "'FullStack Academy DataScience Course.gdoc'\n",
      "'FULLSTACK DATA SCIENCE 2021.gslides'\n",
      "'Fundamentals of Machine Learning.gdoc'\n",
      " GC_Certificate_Mumbai_338.pdf\n",
      "'Gradient Descent Article.gform'\n",
      " GreatLearningKNN.pptx\n",
      "'Great Learning.zip'\n",
      "'Guest Lecture (1).gslides'\n",
      "'Guest Lecture.gslides'\n",
      "'Guest Lecture in Malaysia.gslides'\n",
      "'Hackathon Assignment.gsheet'\n",
      " Handout.gdoc\n",
      " HDFC.xls\n",
      " HDFS.ppt\n",
      "'Higher Secondary.jpg'\n",
      " ICICI.xls\n",
      "'IIML Registration form - DDPM C1.doc'\n",
      "'IIML Registration form - DDPM C1.docx'\n",
      "'IIML Registration form - DDPM C1.pages'\n",
      " \u001b[01;34mImarticus\u001b[0m/\n",
      "'imarticus aggrement_6.pdf'\n",
      " IMG_20170325_181616.jpg\n",
      " IMG-20180110-WA0010.jpg\n",
      "'Inceptez-14- Day 1 - Intro 27thSep.pdf'\n",
      "'Inceptez Action plan Inshallah.gsheet'\n",
      "\u001b[01;34m'Inceptez Batch 14'\u001b[0m/\n",
      "\u001b[01;34m'Inceptez Batch 16'\u001b[0m/\n",
      "'Inceptez batch 16.gsheet'\n",
      "\u001b[01;34m'Inceptez DataScience 13'\u001b[0m/\n",
      "'Inceptez_Data science_Bigdata_expert_level_python_spark_new.pdf'\n",
      "'INCEPTEZ FULLSTACK DATASCIENCE, BIGDATA AND CLOUD - final (1)-converted.gslides'\n",
      " IndusInd.csv\n",
      "'Insurance Problem.ipynb'\n",
      "'Internship Program.gslides'\n",
      "'Interview Question Altimetrix.docx'\n",
      "'Interview Question and answers.gdoc'\n",
      "'Interview status.gsheet'\n",
      " Introduction.gform\n",
      " Introduction.gslides\n",
      " Introduction.pdf\n",
      "'Introductory Survey.gform'\n",
      "'IT data_IDRIS.docx'\n",
      "'IT data_NAZIA.docx'\n",
      "'IT Recognition Presentation - Self_service_NLP (1).pptx'\n",
      "'Jan Holiday Preference.gform'\n",
      "'JOURNEY OF MACHINE LEARNING AND HOW TO TAME.pptx'\n",
      " JourneyOfMachineLearning.gslides\n",
      " KNN_Implementation_14.ipynb\n",
      "'LDA Step by Step.gsheet'\n",
      "'LDA Step with formula.gdoc'\n",
      " linearLogistic.zip\n",
      " logiconnect-Q219.pdf\n",
      " Logi_Day1.pdf\n",
      " Logi_Day1.pptx\n",
      " Logi_Day_3.pptx\n",
      " Logi_Days1.pdf\n",
      "\u001b[01;34m'Logitech-Travel Essential'\u001b[0m/\n",
      "'Lunch Preference.gsheet'\n",
      "'Lunch Preference on 17th November 2019 Batch 12 .gsheet'\n",
      "'Machine Learning.gslides'\n",
      "\u001b[01;34m'Machine Learning With Python (File responses)'\u001b[0m/\n",
      "'Machine Learning Workshop Attendees.gsheet'\n",
      "'Mini Hackathon Pooling .gform'\n",
      " ML_May_Registrations_noor.xlsx\n",
      "\u001b[01;34m'ML ppt'\u001b[0m/\n",
      "\u001b[01;34m'ML Training Content'\u001b[0m/\n",
      "'Mohamed Noordeen Alaudeen Offer Letter.pdf'\n",
      " MohamedNoordeen_DataScientist.doc\n",
      " MohamedNoordeen_DataScientist.doc.gdoc\n",
      "'MohamedNoordeen_Lead_DataScientist (1).doc'\n",
      "'MohamedNoordeen_Lead_DataScientist (2).doc'\n",
      " MohamedNoordeen_Lead_DataScientist.doc\n",
      " MohamedNoordeen_Lead_DataScientist.docx\n",
      " MohamedNoordeen-Lead-DataScientist.docx\n",
      "'MohamedNoordeen_Lead_DataScientist.docx (1).pdf'\n",
      " MohamedNoordeen_Lead_DataScientist.gdoc\n",
      " MohamedNoordeen_Senior_DataScientist.pdf\n",
      " Myfoo.zip\n",
      "'My Introduction_online.pdf'\n",
      "'My Introduction.pdf'\n",
      "'My Introduction.pptx'\n",
      " my_Logistic_UnivBank_2.ipynb\n",
      "'New Doc 2018-12-15 22.05.59.pdf'\n",
      " \u001b[01;34mNewsDataset\u001b[0m/\n",
      " \u001b[01;34mNLP\u001b[0m/\n",
      "\u001b[01;34m'NLP (1)'\u001b[0m/\n",
      "'NLP using Python_RBS .pdf'\n",
      " Noordeen.pdf\n",
      " Noor.jpg\n",
      " \u001b[01;34mNotability\u001b[0m/\n",
      "'OCR - ML Ops .gdoc'\n",
      "'Offer Letter - Mohamed Noordeen A( Revised).pdf'\n",
      "'onehotData (1).csv'\n",
      "'onehotData (2).csv'\n",
      " onehotData.csv\n",
      " \u001b[01;34mOnlineItTraining\u001b[0m/\n",
      " \u001b[01;34moozie\u001b[0m/\n",
      "'PAN Card.pdf'\n",
      " Pandas1.ipynb\n",
      "'Pandas2 (1).ipynb'\n",
      " Pandas2.ipynb\n",
      "\u001b[01;34m'Pandas Test'\u001b[0m/\n",
      " Pandastest1.ipynb\n",
      " Passport.pdf\n",
      "'Payment status update.gsheet'\n",
      " Phd.zip\n",
      "'Privacy data.gsheet'\n",
      " Profit_Loss_Report_AD9267_20204219054227.pdf\n",
      " Proof.zip\n",
      "'Provisional +All Semester marksheets.pdf'\n",
      "'Py ques.docx'\n",
      "'Python Basics.zip'\n",
      "'Python Scholarship Sharik .gform'\n",
      "\u001b[01;34m'Python Scholarship test (File responses)'\u001b[0m/\n",
      "'Python Scholarship test.gform'\n",
      "'Python Scholarship test (Responses).gsheet'\n",
      "'Python Understanding Check.gform'\n",
      " retrain.py\n",
      " Route53.gform\n",
      "\u001b[01;34m'Sample Class'\u001b[0m/\n",
      " Sasco.doc\n",
      "'Savings Account transaction.gsheet'\n",
      " SB.ipynb\n",
      " Scholarship_March.gform\n",
      "'Scholarship Test 13th May.gform'\n",
      "'Scholarship Test 13th May (Responses).gsheet'\n",
      " Script.gdoc\n",
      "'Skill set.gsheet'\n",
      "'Spam Classification.ipynb'\n",
      "'Standard Chartered.csv'\n",
      "'Statistics_Scholarship test.gform'\n",
      "'Statistics test.gform'\n",
      " stockdata.csv\n",
      " Syllabus.gsheet\n",
      "'Telecom Assignment.ipynb'\n",
      " TensorFlow-CNN.pdf\n",
      "'Tensorflow for Poets.ipynb'\n",
      " test.csv\n",
      " test.gsheet\n",
      " Test.gslides\n",
      " TigerID.pdf\n",
      "'Topic Description for new learners.gdoc'\n",
      " trade_details_BQOXXXXX1R_1083503491.pdf\n",
      " train.csv\n",
      " train.gsheet\n",
      "'Training Invoice Template python.gsheet'\n",
      "'Training Invoice Template python.xlsx'\n",
      " Transactions.gsheet\n",
      " transcript.jpg\n",
      "'TripleM Course.gsheet'\n",
      " Untitled0.ipynb\n",
      " Untitled1.ipynb\n",
      " Untitled2.ipynb\n",
      " Untitled3.ipynb\n",
      " Untitled4.ipynb\n",
      "'Untitled document (1).gdoc'\n",
      "'Untitled document (2).gdoc'\n",
      "'Untitled document (3).gdoc'\n",
      "'Untitled document (4).gdoc'\n",
      "'Untitled document (5).gdoc'\n",
      "'Untitled document (6).gdoc'\n",
      "'Untitled document (7).gdoc'\n",
      "'Untitled document.gdoc'\n",
      "'Untitled form (1).gform'\n",
      "'Untitled form (2).gform'\n",
      "'Untitled form (3).gform'\n",
      "'Untitled form (4).gform'\n",
      "'Untitled form.gform'\n",
      "'Untitled Jam.gjam'\n",
      "'Untitled presentation (1).gslides'\n",
      "'Untitled presentation (2).gslides'\n",
      "'Untitled presentation (3).gslides'\n",
      "'Untitled presentation.gslides'\n",
      "'Untitled spreadsheet (1).gsheet'\n",
      "'Untitled spreadsheet (2).gsheet'\n",
      "'Untitled spreadsheet (3).gsheet'\n",
      "'Untitled spreadsheet (4).gsheet'\n",
      "'Untitled spreadsheet (5).gsheet'\n",
      "'Untitled spreadsheet (6).gsheet'\n",
      "'Untitled spreadsheet (7).gsheet'\n",
      "'Untitled spreadsheet (8).gsheet'\n",
      "'Untitled spreadsheet.gsheet'\n",
      "'Untitled spreadsheet.xlsx'\n",
      " videoplayback.mp4\n",
      " Visa.pdf\n",
      "'VM and Cluster Commands.rar'\n",
      "'Webinar College.gslides'\n",
      "'Webinar Discussion.gdoc'\n",
      "'When first obtaining a raw dataset, what are some important steps to apply to the data to prepare it for analysis?.gdoc'\n",
      " Workshop.zip\n"
     ]
    }
   ],
   "source": [
    "ls /content/drive/MyDrive"
   ]
  },
  {
   "cell_type": "code",
   "execution_count": 131,
   "metadata": {
    "colab": {
     "base_uri": "https://localhost:8080/"
    },
    "executionInfo": {
     "elapsed": 67,
     "status": "ok",
     "timestamp": 1627221960050,
     "user": {
      "displayName": "Mohamed Noordeen Alaudeen",
      "photoUrl": "",
      "userId": "13097854355562551879"
     },
     "user_tz": -330
    },
    "id": "UIflppghFp6B",
    "outputId": "d322f92d-4245-4ca9-cc94-2e6fcfa8ded9"
   },
   "outputs": [
    {
     "name": "stdout",
     "output_type": "stream",
     "text": [
      "Analytics_vidhya_BigMartSales.ipynb  SampleSubmission_TmnO39y.txt\n",
      "item_identifier_type.csv             test_preprocessed.csv\n",
      "linear_regression_result.csv         Test_u94Q5KV.txt\n",
      "res-LinearRegression.csv             train_preprocessed.csv\n",
      "result_av_check.png                  Train_UWu5bXk.txt\n"
     ]
    }
   ],
   "source": [
    "ls /content/drive/MyDrive/Inceptez\\ Batch\\ 16/06.\\ Linear\\ Regression\\ -\\ Hackathon\\ Sample"
   ]
  },
  {
   "cell_type": "code",
   "execution_count": 132,
   "metadata": {
    "colab": {
     "base_uri": "https://localhost:8080/"
    },
    "executionInfo": {
     "elapsed": 55,
     "status": "ok",
     "timestamp": 1627221960051,
     "user": {
      "displayName": "Mohamed Noordeen Alaudeen",
      "photoUrl": "",
      "userId": "13097854355562551879"
     },
     "user_tz": -330
    },
    "id": "2MAwLsxeF4Be",
    "outputId": "178af3d4-dd9a-4619-9fa9-19eabc1936be"
   },
   "outputs": [
    {
     "name": "stdout",
     "output_type": "stream",
     "text": [
      "/content/drive/MyDrive/Inceptez Batch 16/06. Linear Regression - Hackathon Sample\n"
     ]
    }
   ],
   "source": [
    "cd /content/drive/MyDrive/Inceptez\\ Batch\\ 16/06.\\ Linear\\ Regression\\ -\\ Hackathon\\ Sample"
   ]
  },
  {
   "cell_type": "code",
   "execution_count": 133,
   "metadata": {
    "executionInfo": {
     "elapsed": 50,
     "status": "ok",
     "timestamp": 1627221960051,
     "user": {
      "displayName": "Mohamed Noordeen Alaudeen",
      "photoUrl": "",
      "userId": "13097854355562551879"
     },
     "user_tz": -330
    },
    "id": "d7A74vae5mVR"
   },
   "outputs": [],
   "source": [
    "import numpy as np\n",
    "import pandas as pd\n",
    "import matplotlib.pyplot as plt\n",
    "import seaborn as sns\n",
    "\n",
    "fol\n",
    "from sklearn.linear_model import LinearRegression, Ridge, Lasso, ElasticNet\n",
    "from sklearn.metrics import mean_squared_error\n"
   ]
  },
  {
   "cell_type": "code",
   "execution_count": 134,
   "metadata": {
    "executionInfo": {
     "elapsed": 49,
     "status": "ok",
     "timestamp": 1627221960052,
     "user": {
      "displayName": "Mohamed Noordeen Alaudeen",
      "photoUrl": "",
      "userId": "13097854355562551879"
     },
     "user_tz": -330
    },
    "id": "LeI13pUI5mVT"
   },
   "outputs": [],
   "source": [
    "train = pd.read_csv(\"Train_UWu5bXk.txt\")\n",
    "test = pd.read_csv(\"Test_u94Q5KV.txt\")\n",
    "submission = pd.read_csv(\"SampleSubmission_TmnO39y.txt\")"
   ]
  },
  {
   "cell_type": "code",
   "execution_count": 135,
   "metadata": {
    "colab": {
     "base_uri": "https://localhost:8080/"
    },
    "executionInfo": {
     "elapsed": 49,
     "status": "ok",
     "timestamp": 1627221960052,
     "user": {
      "displayName": "Mohamed Noordeen Alaudeen",
      "photoUrl": "",
      "userId": "13097854355562551879"
     },
     "user_tz": -330
    },
    "id": "_xaiiz9j5mVU",
    "outputId": "00001b79-19ea-4a97-9c0a-cdafceba2071",
    "scrolled": true
   },
   "outputs": [
    {
     "data": {
      "text/plain": [
       "Index(['Item_Identifier', 'Item_Weight', 'Item_Fat_Content', 'Item_Visibility',\n",
       "       'Item_Type', 'Item_MRP', 'Outlet_Identifier',\n",
       "       'Outlet_Establishment_Year', 'Outlet_Size', 'Outlet_Location_Type',\n",
       "       'Outlet_Type', 'Item_Outlet_Sales'],\n",
       "      dtype='object')"
      ]
     },
     "execution_count": 135,
     "metadata": {
      "tags": []
     },
     "output_type": "execute_result"
    }
   ],
   "source": [
    "train.columns"
   ]
  },
  {
   "cell_type": "code",
   "execution_count": 136,
   "metadata": {
    "colab": {
     "base_uri": "https://localhost:8080/",
     "height": 311
    },
    "executionInfo": {
     "elapsed": 49,
     "status": "ok",
     "timestamp": 1627221960059,
     "user": {
      "displayName": "Mohamed Noordeen Alaudeen",
      "photoUrl": "",
      "userId": "13097854355562551879"
     },
     "user_tz": -330
    },
    "id": "4EZ1m2TW5mVV",
    "outputId": "83e21d42-e1f1-4cdc-8f36-534ca4838cc2",
    "scrolled": true
   },
   "outputs": [
    {
     "data": {
      "text/html": [
       "<div>\n",
       "<style scoped>\n",
       "    .dataframe tbody tr th:only-of-type {\n",
       "        vertical-align: middle;\n",
       "    }\n",
       "\n",
       "    .dataframe tbody tr th {\n",
       "        vertical-align: top;\n",
       "    }\n",
       "\n",
       "    .dataframe thead th {\n",
       "        text-align: right;\n",
       "    }\n",
       "</style>\n",
       "<table border=\"1\" class=\"dataframe\">\n",
       "  <thead>\n",
       "    <tr style=\"text-align: right;\">\n",
       "      <th></th>\n",
       "      <th>Item_Identifier</th>\n",
       "      <th>Item_Weight</th>\n",
       "      <th>Item_Fat_Content</th>\n",
       "      <th>Item_Visibility</th>\n",
       "      <th>Item_Type</th>\n",
       "      <th>Item_MRP</th>\n",
       "      <th>Outlet_Identifier</th>\n",
       "      <th>Outlet_Establishment_Year</th>\n",
       "      <th>Outlet_Size</th>\n",
       "      <th>Outlet_Location_Type</th>\n",
       "      <th>Outlet_Type</th>\n",
       "      <th>Item_Outlet_Sales</th>\n",
       "    </tr>\n",
       "  </thead>\n",
       "  <tbody>\n",
       "    <tr>\n",
       "      <th>0</th>\n",
       "      <td>FDA15</td>\n",
       "      <td>9.30</td>\n",
       "      <td>Low Fat</td>\n",
       "      <td>0.016047</td>\n",
       "      <td>Dairy</td>\n",
       "      <td>249.8092</td>\n",
       "      <td>OUT049</td>\n",
       "      <td>1999</td>\n",
       "      <td>Medium</td>\n",
       "      <td>Tier 1</td>\n",
       "      <td>Supermarket Type1</td>\n",
       "      <td>3735.1380</td>\n",
       "    </tr>\n",
       "    <tr>\n",
       "      <th>1</th>\n",
       "      <td>DRC01</td>\n",
       "      <td>5.92</td>\n",
       "      <td>Regular</td>\n",
       "      <td>0.019278</td>\n",
       "      <td>Soft Drinks</td>\n",
       "      <td>48.2692</td>\n",
       "      <td>OUT018</td>\n",
       "      <td>2009</td>\n",
       "      <td>Medium</td>\n",
       "      <td>Tier 3</td>\n",
       "      <td>Supermarket Type2</td>\n",
       "      <td>443.4228</td>\n",
       "    </tr>\n",
       "    <tr>\n",
       "      <th>2</th>\n",
       "      <td>FDN15</td>\n",
       "      <td>17.50</td>\n",
       "      <td>Low Fat</td>\n",
       "      <td>0.016760</td>\n",
       "      <td>Meat</td>\n",
       "      <td>141.6180</td>\n",
       "      <td>OUT049</td>\n",
       "      <td>1999</td>\n",
       "      <td>Medium</td>\n",
       "      <td>Tier 1</td>\n",
       "      <td>Supermarket Type1</td>\n",
       "      <td>2097.2700</td>\n",
       "    </tr>\n",
       "    <tr>\n",
       "      <th>3</th>\n",
       "      <td>FDX07</td>\n",
       "      <td>19.20</td>\n",
       "      <td>Regular</td>\n",
       "      <td>0.000000</td>\n",
       "      <td>Fruits and Vegetables</td>\n",
       "      <td>182.0950</td>\n",
       "      <td>OUT010</td>\n",
       "      <td>1998</td>\n",
       "      <td>NaN</td>\n",
       "      <td>Tier 3</td>\n",
       "      <td>Grocery Store</td>\n",
       "      <td>732.3800</td>\n",
       "    </tr>\n",
       "    <tr>\n",
       "      <th>4</th>\n",
       "      <td>NCD19</td>\n",
       "      <td>8.93</td>\n",
       "      <td>Low Fat</td>\n",
       "      <td>0.000000</td>\n",
       "      <td>Household</td>\n",
       "      <td>53.8614</td>\n",
       "      <td>OUT013</td>\n",
       "      <td>1987</td>\n",
       "      <td>High</td>\n",
       "      <td>Tier 3</td>\n",
       "      <td>Supermarket Type1</td>\n",
       "      <td>994.7052</td>\n",
       "    </tr>\n",
       "  </tbody>\n",
       "</table>\n",
       "</div>"
      ],
      "text/plain": [
       "  Item_Identifier  Item_Weight  ...        Outlet_Type  Item_Outlet_Sales\n",
       "0           FDA15         9.30  ...  Supermarket Type1          3735.1380\n",
       "1           DRC01         5.92  ...  Supermarket Type2           443.4228\n",
       "2           FDN15        17.50  ...  Supermarket Type1          2097.2700\n",
       "3           FDX07        19.20  ...      Grocery Store           732.3800\n",
       "4           NCD19         8.93  ...  Supermarket Type1           994.7052\n",
       "\n",
       "[5 rows x 12 columns]"
      ]
     },
     "execution_count": 136,
     "metadata": {
      "tags": []
     },
     "output_type": "execute_result"
    }
   ],
   "source": [
    "train.head()"
   ]
  },
  {
   "cell_type": "markdown",
   "metadata": {
    "id": "IyJlloU55mVV"
   },
   "source": [
    "# Assumption or Intution"
   ]
  },
  {
   "cell_type": "markdown",
   "metadata": {
    "id": "MFTpAfeA5mVV"
   },
   "source": [
    "Outlet level \n",
    "\n",
    "1. Location           - Available\n",
    "2. Population         - No\n",
    "3. Size               - Available\n",
    "4. Outlet Age         - Available\n",
    "5. Advertisement      - No\n",
    "6. No OF Employees    - No\n",
    "7. Customer Service   - No \n",
    "8. Brand              - No\n",
    "9. Quality            - No\n",
    "10. Competitor        - No\n",
    "11. Timing            - No\n"
   ]
  },
  {
   "cell_type": "markdown",
   "metadata": {
    "id": "tKXF2C1G5mVW"
   },
   "source": [
    "Product Level\n",
    "\n",
    "1. Quality                  - NO\n",
    "2. Pricing                  - Avaliable\n",
    "3. Discount                 - No\n",
    "4. Frequent use of Product  - Available\n",
    "5. Visibility               - Available\n",
    "6. Avaliabilty              - No\n",
    "7. Advertisement            - No\n"
   ]
  },
  {
   "cell_type": "markdown",
   "metadata": {
    "id": "t8954QPm5mVW"
   },
   "source": [
    "# Decriptive Analytics"
   ]
  },
  {
   "cell_type": "markdown",
   "metadata": {
    "id": "2NavWAgl5mVW"
   },
   "source": [
    "### Observation"
   ]
  },
  {
   "cell_type": "code",
   "execution_count": 137,
   "metadata": {
    "colab": {
     "base_uri": "https://localhost:8080/"
    },
    "executionInfo": {
     "elapsed": 47,
     "status": "ok",
     "timestamp": 1627221960060,
     "user": {
      "displayName": "Mohamed Noordeen Alaudeen",
      "photoUrl": "",
      "userId": "13097854355562551879"
     },
     "user_tz": -330
    },
    "id": "SL-kGRkr5mVX",
    "outputId": "b18a2f8a-5551-4c64-c9db-c271da00d27d"
   },
   "outputs": [
    {
     "data": {
      "text/plain": [
       "Index(['Item_Identifier', 'Item_Weight', 'Item_Fat_Content', 'Item_Visibility',\n",
       "       'Item_Type', 'Item_MRP', 'Outlet_Identifier',\n",
       "       'Outlet_Establishment_Year', 'Outlet_Size', 'Outlet_Location_Type',\n",
       "       'Outlet_Type', 'Item_Outlet_Sales'],\n",
       "      dtype='object')"
      ]
     },
     "execution_count": 137,
     "metadata": {
      "tags": []
     },
     "output_type": "execute_result"
    }
   ],
   "source": [
    "train.columns"
   ]
  },
  {
   "cell_type": "code",
   "execution_count": 138,
   "metadata": {
    "colab": {
     "base_uri": "https://localhost:8080/"
    },
    "executionInfo": {
     "elapsed": 42,
     "status": "ok",
     "timestamp": 1627221960060,
     "user": {
      "displayName": "Mohamed Noordeen Alaudeen",
      "photoUrl": "",
      "userId": "13097854355562551879"
     },
     "user_tz": -330
    },
    "id": "mfgQL4EL5mVX",
    "outputId": "31077f43-8b5b-438f-a516-a9e971614318"
   },
   "outputs": [
    {
     "data": {
      "text/plain": [
       "(8523, 12)"
      ]
     },
     "execution_count": 138,
     "metadata": {
      "tags": []
     },
     "output_type": "execute_result"
    }
   ],
   "source": [
    "train.shape"
   ]
  },
  {
   "cell_type": "code",
   "execution_count": 139,
   "metadata": {
    "colab": {
     "base_uri": "https://localhost:8080/"
    },
    "executionInfo": {
     "elapsed": 39,
     "status": "ok",
     "timestamp": 1627221960061,
     "user": {
      "displayName": "Mohamed Noordeen Alaudeen",
      "photoUrl": "",
      "userId": "13097854355562551879"
     },
     "user_tz": -330
    },
    "id": "EHrpYjbW5mVX",
    "outputId": "c6e9c8b0-1b44-40ed-9ae6-0f0ca68b9ce9"
   },
   "outputs": [
    {
     "data": {
      "text/plain": [
       "(5681, 11)"
      ]
     },
     "execution_count": 139,
     "metadata": {
      "tags": []
     },
     "output_type": "execute_result"
    }
   ],
   "source": [
    "test.shape"
   ]
  },
  {
   "cell_type": "code",
   "execution_count": 140,
   "metadata": {
    "colab": {
     "base_uri": "https://localhost:8080/",
     "height": 421
    },
    "executionInfo": {
     "elapsed": 33,
     "status": "ok",
     "timestamp": 1627221960061,
     "user": {
      "displayName": "Mohamed Noordeen Alaudeen",
      "photoUrl": "",
      "userId": "13097854355562551879"
     },
     "user_tz": -330
    },
    "id": "MjT6_BWG5mVX",
    "outputId": "5236a70e-5fb7-4f8c-90f2-ebf89f582811"
   },
   "outputs": [
    {
     "data": {
      "text/html": [
       "<div>\n",
       "<style scoped>\n",
       "    .dataframe tbody tr th:only-of-type {\n",
       "        vertical-align: middle;\n",
       "    }\n",
       "\n",
       "    .dataframe tbody tr th {\n",
       "        vertical-align: top;\n",
       "    }\n",
       "\n",
       "    .dataframe thead th {\n",
       "        text-align: right;\n",
       "    }\n",
       "</style>\n",
       "<table border=\"1\" class=\"dataframe\">\n",
       "  <thead>\n",
       "    <tr style=\"text-align: right;\">\n",
       "      <th></th>\n",
       "      <th>Item_Identifier</th>\n",
       "      <th>Outlet_Identifier</th>\n",
       "      <th>Item_Outlet_Sales</th>\n",
       "    </tr>\n",
       "  </thead>\n",
       "  <tbody>\n",
       "    <tr>\n",
       "      <th>0</th>\n",
       "      <td>FDW58</td>\n",
       "      <td>OUT049</td>\n",
       "      <td>NaN</td>\n",
       "    </tr>\n",
       "    <tr>\n",
       "      <th>1</th>\n",
       "      <td>FDW14</td>\n",
       "      <td>OUT017</td>\n",
       "      <td>NaN</td>\n",
       "    </tr>\n",
       "    <tr>\n",
       "      <th>2</th>\n",
       "      <td>NCN55</td>\n",
       "      <td>OUT010</td>\n",
       "      <td>NaN</td>\n",
       "    </tr>\n",
       "    <tr>\n",
       "      <th>3</th>\n",
       "      <td>FDQ58</td>\n",
       "      <td>OUT017</td>\n",
       "      <td>NaN</td>\n",
       "    </tr>\n",
       "    <tr>\n",
       "      <th>4</th>\n",
       "      <td>FDY38</td>\n",
       "      <td>OUT027</td>\n",
       "      <td>NaN</td>\n",
       "    </tr>\n",
       "    <tr>\n",
       "      <th>...</th>\n",
       "      <td>...</td>\n",
       "      <td>...</td>\n",
       "      <td>...</td>\n",
       "    </tr>\n",
       "    <tr>\n",
       "      <th>5676</th>\n",
       "      <td>FDB58</td>\n",
       "      <td>OUT046</td>\n",
       "      <td>NaN</td>\n",
       "    </tr>\n",
       "    <tr>\n",
       "      <th>5677</th>\n",
       "      <td>FDD47</td>\n",
       "      <td>OUT018</td>\n",
       "      <td>NaN</td>\n",
       "    </tr>\n",
       "    <tr>\n",
       "      <th>5678</th>\n",
       "      <td>NCO17</td>\n",
       "      <td>OUT045</td>\n",
       "      <td>NaN</td>\n",
       "    </tr>\n",
       "    <tr>\n",
       "      <th>5679</th>\n",
       "      <td>FDJ26</td>\n",
       "      <td>OUT017</td>\n",
       "      <td>NaN</td>\n",
       "    </tr>\n",
       "    <tr>\n",
       "      <th>5680</th>\n",
       "      <td>FDU37</td>\n",
       "      <td>OUT045</td>\n",
       "      <td>NaN</td>\n",
       "    </tr>\n",
       "  </tbody>\n",
       "</table>\n",
       "<p>5681 rows × 3 columns</p>\n",
       "</div>"
      ],
      "text/plain": [
       "     Item_Identifier Outlet_Identifier  Item_Outlet_Sales\n",
       "0              FDW58            OUT049                NaN\n",
       "1              FDW14            OUT017                NaN\n",
       "2              NCN55            OUT010                NaN\n",
       "3              FDQ58            OUT017                NaN\n",
       "4              FDY38            OUT027                NaN\n",
       "...              ...               ...                ...\n",
       "5676           FDB58            OUT046                NaN\n",
       "5677           FDD47            OUT018                NaN\n",
       "5678           NCO17            OUT045                NaN\n",
       "5679           FDJ26            OUT017                NaN\n",
       "5680           FDU37            OUT045                NaN\n",
       "\n",
       "[5681 rows x 3 columns]"
      ]
     },
     "execution_count": 140,
     "metadata": {
      "tags": []
     },
     "output_type": "execute_result"
    }
   ],
   "source": [
    "submission"
   ]
  },
  {
   "cell_type": "code",
   "execution_count": 141,
   "metadata": {
    "colab": {
     "base_uri": "https://localhost:8080/",
     "height": 311
    },
    "executionInfo": {
     "elapsed": 33,
     "status": "ok",
     "timestamp": 1627221960062,
     "user": {
      "displayName": "Mohamed Noordeen Alaudeen",
      "photoUrl": "",
      "userId": "13097854355562551879"
     },
     "user_tz": -330
    },
    "id": "fGKsIxos5mVY",
    "outputId": "e7c06c16-5e33-4394-8c8f-10309ebf0a3b"
   },
   "outputs": [
    {
     "data": {
      "text/html": [
       "<div>\n",
       "<style scoped>\n",
       "    .dataframe tbody tr th:only-of-type {\n",
       "        vertical-align: middle;\n",
       "    }\n",
       "\n",
       "    .dataframe tbody tr th {\n",
       "        vertical-align: top;\n",
       "    }\n",
       "\n",
       "    .dataframe thead th {\n",
       "        text-align: right;\n",
       "    }\n",
       "</style>\n",
       "<table border=\"1\" class=\"dataframe\">\n",
       "  <thead>\n",
       "    <tr style=\"text-align: right;\">\n",
       "      <th></th>\n",
       "      <th>Item_Identifier</th>\n",
       "      <th>Item_Weight</th>\n",
       "      <th>Item_Fat_Content</th>\n",
       "      <th>Item_Visibility</th>\n",
       "      <th>Item_Type</th>\n",
       "      <th>Item_MRP</th>\n",
       "      <th>Outlet_Identifier</th>\n",
       "      <th>Outlet_Establishment_Year</th>\n",
       "      <th>Outlet_Size</th>\n",
       "      <th>Outlet_Location_Type</th>\n",
       "      <th>Outlet_Type</th>\n",
       "      <th>Item_Outlet_Sales</th>\n",
       "    </tr>\n",
       "  </thead>\n",
       "  <tbody>\n",
       "    <tr>\n",
       "      <th>0</th>\n",
       "      <td>FDA15</td>\n",
       "      <td>9.30</td>\n",
       "      <td>Low Fat</td>\n",
       "      <td>0.016047</td>\n",
       "      <td>Dairy</td>\n",
       "      <td>249.8092</td>\n",
       "      <td>OUT049</td>\n",
       "      <td>1999</td>\n",
       "      <td>Medium</td>\n",
       "      <td>Tier 1</td>\n",
       "      <td>Supermarket Type1</td>\n",
       "      <td>3735.1380</td>\n",
       "    </tr>\n",
       "    <tr>\n",
       "      <th>1</th>\n",
       "      <td>DRC01</td>\n",
       "      <td>5.92</td>\n",
       "      <td>Regular</td>\n",
       "      <td>0.019278</td>\n",
       "      <td>Soft Drinks</td>\n",
       "      <td>48.2692</td>\n",
       "      <td>OUT018</td>\n",
       "      <td>2009</td>\n",
       "      <td>Medium</td>\n",
       "      <td>Tier 3</td>\n",
       "      <td>Supermarket Type2</td>\n",
       "      <td>443.4228</td>\n",
       "    </tr>\n",
       "    <tr>\n",
       "      <th>2</th>\n",
       "      <td>FDN15</td>\n",
       "      <td>17.50</td>\n",
       "      <td>Low Fat</td>\n",
       "      <td>0.016760</td>\n",
       "      <td>Meat</td>\n",
       "      <td>141.6180</td>\n",
       "      <td>OUT049</td>\n",
       "      <td>1999</td>\n",
       "      <td>Medium</td>\n",
       "      <td>Tier 1</td>\n",
       "      <td>Supermarket Type1</td>\n",
       "      <td>2097.2700</td>\n",
       "    </tr>\n",
       "    <tr>\n",
       "      <th>3</th>\n",
       "      <td>FDX07</td>\n",
       "      <td>19.20</td>\n",
       "      <td>Regular</td>\n",
       "      <td>0.000000</td>\n",
       "      <td>Fruits and Vegetables</td>\n",
       "      <td>182.0950</td>\n",
       "      <td>OUT010</td>\n",
       "      <td>1998</td>\n",
       "      <td>NaN</td>\n",
       "      <td>Tier 3</td>\n",
       "      <td>Grocery Store</td>\n",
       "      <td>732.3800</td>\n",
       "    </tr>\n",
       "    <tr>\n",
       "      <th>4</th>\n",
       "      <td>NCD19</td>\n",
       "      <td>8.93</td>\n",
       "      <td>Low Fat</td>\n",
       "      <td>0.000000</td>\n",
       "      <td>Household</td>\n",
       "      <td>53.8614</td>\n",
       "      <td>OUT013</td>\n",
       "      <td>1987</td>\n",
       "      <td>High</td>\n",
       "      <td>Tier 3</td>\n",
       "      <td>Supermarket Type1</td>\n",
       "      <td>994.7052</td>\n",
       "    </tr>\n",
       "  </tbody>\n",
       "</table>\n",
       "</div>"
      ],
      "text/plain": [
       "  Item_Identifier  Item_Weight  ...        Outlet_Type  Item_Outlet_Sales\n",
       "0           FDA15         9.30  ...  Supermarket Type1          3735.1380\n",
       "1           DRC01         5.92  ...  Supermarket Type2           443.4228\n",
       "2           FDN15        17.50  ...  Supermarket Type1          2097.2700\n",
       "3           FDX07        19.20  ...      Grocery Store           732.3800\n",
       "4           NCD19         8.93  ...  Supermarket Type1           994.7052\n",
       "\n",
       "[5 rows x 12 columns]"
      ]
     },
     "execution_count": 141,
     "metadata": {
      "tags": []
     },
     "output_type": "execute_result"
    }
   ],
   "source": [
    "train.head()"
   ]
  },
  {
   "cell_type": "code",
   "execution_count": 142,
   "metadata": {
    "executionInfo": {
     "elapsed": 31,
     "status": "ok",
     "timestamp": 1627221960062,
     "user": {
      "displayName": "Mohamed Noordeen Alaudeen",
      "photoUrl": "",
      "userId": "13097854355562551879"
     },
     "user_tz": -330
    },
    "id": "JcEjnpsP5mVY"
   },
   "outputs": [],
   "source": [
    "train[\"data\"] = \"train\"\n",
    "test[\"data\"] = \"test\""
   ]
  },
  {
   "cell_type": "code",
   "execution_count": 143,
   "metadata": {
    "colab": {
     "base_uri": "https://localhost:8080/",
     "height": 311
    },
    "executionInfo": {
     "elapsed": 122,
     "status": "ok",
     "timestamp": 1627221961042,
     "user": {
      "displayName": "Mohamed Noordeen Alaudeen",
      "photoUrl": "",
      "userId": "13097854355562551879"
     },
     "user_tz": -330
    },
    "id": "i7uESFCT5mVY",
    "outputId": "f10d90c8-ba8d-42dd-b394-1675c23b00d3"
   },
   "outputs": [
    {
     "data": {
      "text/html": [
       "<div>\n",
       "<style scoped>\n",
       "    .dataframe tbody tr th:only-of-type {\n",
       "        vertical-align: middle;\n",
       "    }\n",
       "\n",
       "    .dataframe tbody tr th {\n",
       "        vertical-align: top;\n",
       "    }\n",
       "\n",
       "    .dataframe thead th {\n",
       "        text-align: right;\n",
       "    }\n",
       "</style>\n",
       "<table border=\"1\" class=\"dataframe\">\n",
       "  <thead>\n",
       "    <tr style=\"text-align: right;\">\n",
       "      <th></th>\n",
       "      <th>Item_Identifier</th>\n",
       "      <th>Item_Weight</th>\n",
       "      <th>Item_Fat_Content</th>\n",
       "      <th>Item_Visibility</th>\n",
       "      <th>Item_Type</th>\n",
       "      <th>Item_MRP</th>\n",
       "      <th>Outlet_Identifier</th>\n",
       "      <th>Outlet_Establishment_Year</th>\n",
       "      <th>Outlet_Size</th>\n",
       "      <th>Outlet_Location_Type</th>\n",
       "      <th>Outlet_Type</th>\n",
       "      <th>Item_Outlet_Sales</th>\n",
       "      <th>data</th>\n",
       "    </tr>\n",
       "  </thead>\n",
       "  <tbody>\n",
       "    <tr>\n",
       "      <th>0</th>\n",
       "      <td>FDA15</td>\n",
       "      <td>9.30</td>\n",
       "      <td>Low Fat</td>\n",
       "      <td>0.016047</td>\n",
       "      <td>Dairy</td>\n",
       "      <td>249.8092</td>\n",
       "      <td>OUT049</td>\n",
       "      <td>1999</td>\n",
       "      <td>Medium</td>\n",
       "      <td>Tier 1</td>\n",
       "      <td>Supermarket Type1</td>\n",
       "      <td>3735.1380</td>\n",
       "      <td>train</td>\n",
       "    </tr>\n",
       "    <tr>\n",
       "      <th>1</th>\n",
       "      <td>DRC01</td>\n",
       "      <td>5.92</td>\n",
       "      <td>Regular</td>\n",
       "      <td>0.019278</td>\n",
       "      <td>Soft Drinks</td>\n",
       "      <td>48.2692</td>\n",
       "      <td>OUT018</td>\n",
       "      <td>2009</td>\n",
       "      <td>Medium</td>\n",
       "      <td>Tier 3</td>\n",
       "      <td>Supermarket Type2</td>\n",
       "      <td>443.4228</td>\n",
       "      <td>train</td>\n",
       "    </tr>\n",
       "    <tr>\n",
       "      <th>2</th>\n",
       "      <td>FDN15</td>\n",
       "      <td>17.50</td>\n",
       "      <td>Low Fat</td>\n",
       "      <td>0.016760</td>\n",
       "      <td>Meat</td>\n",
       "      <td>141.6180</td>\n",
       "      <td>OUT049</td>\n",
       "      <td>1999</td>\n",
       "      <td>Medium</td>\n",
       "      <td>Tier 1</td>\n",
       "      <td>Supermarket Type1</td>\n",
       "      <td>2097.2700</td>\n",
       "      <td>train</td>\n",
       "    </tr>\n",
       "    <tr>\n",
       "      <th>3</th>\n",
       "      <td>FDX07</td>\n",
       "      <td>19.20</td>\n",
       "      <td>Regular</td>\n",
       "      <td>0.000000</td>\n",
       "      <td>Fruits and Vegetables</td>\n",
       "      <td>182.0950</td>\n",
       "      <td>OUT010</td>\n",
       "      <td>1998</td>\n",
       "      <td>NaN</td>\n",
       "      <td>Tier 3</td>\n",
       "      <td>Grocery Store</td>\n",
       "      <td>732.3800</td>\n",
       "      <td>train</td>\n",
       "    </tr>\n",
       "    <tr>\n",
       "      <th>4</th>\n",
       "      <td>NCD19</td>\n",
       "      <td>8.93</td>\n",
       "      <td>Low Fat</td>\n",
       "      <td>0.000000</td>\n",
       "      <td>Household</td>\n",
       "      <td>53.8614</td>\n",
       "      <td>OUT013</td>\n",
       "      <td>1987</td>\n",
       "      <td>High</td>\n",
       "      <td>Tier 3</td>\n",
       "      <td>Supermarket Type1</td>\n",
       "      <td>994.7052</td>\n",
       "      <td>train</td>\n",
       "    </tr>\n",
       "  </tbody>\n",
       "</table>\n",
       "</div>"
      ],
      "text/plain": [
       "  Item_Identifier  Item_Weight  ... Item_Outlet_Sales   data\n",
       "0           FDA15         9.30  ...         3735.1380  train\n",
       "1           DRC01         5.92  ...          443.4228  train\n",
       "2           FDN15        17.50  ...         2097.2700  train\n",
       "3           FDX07        19.20  ...          732.3800  train\n",
       "4           NCD19         8.93  ...          994.7052  train\n",
       "\n",
       "[5 rows x 13 columns]"
      ]
     },
     "execution_count": 143,
     "metadata": {
      "tags": []
     },
     "output_type": "execute_result"
    }
   ],
   "source": [
    "train.head()"
   ]
  },
  {
   "cell_type": "code",
   "execution_count": 144,
   "metadata": {
    "colab": {
     "base_uri": "https://localhost:8080/",
     "height": 294
    },
    "executionInfo": {
     "elapsed": 121,
     "status": "ok",
     "timestamp": 1627221961043,
     "user": {
      "displayName": "Mohamed Noordeen Alaudeen",
      "photoUrl": "",
      "userId": "13097854355562551879"
     },
     "user_tz": -330
    },
    "id": "w9PU8WVl5mVZ",
    "outputId": "e2fe2352-f960-46e7-aa84-8539deeb79d7",
    "scrolled": true
   },
   "outputs": [
    {
     "data": {
      "text/html": [
       "<div>\n",
       "<style scoped>\n",
       "    .dataframe tbody tr th:only-of-type {\n",
       "        vertical-align: middle;\n",
       "    }\n",
       "\n",
       "    .dataframe tbody tr th {\n",
       "        vertical-align: top;\n",
       "    }\n",
       "\n",
       "    .dataframe thead th {\n",
       "        text-align: right;\n",
       "    }\n",
       "</style>\n",
       "<table border=\"1\" class=\"dataframe\">\n",
       "  <thead>\n",
       "    <tr style=\"text-align: right;\">\n",
       "      <th></th>\n",
       "      <th>Item_Identifier</th>\n",
       "      <th>Item_Weight</th>\n",
       "      <th>Item_Fat_Content</th>\n",
       "      <th>Item_Visibility</th>\n",
       "      <th>Item_Type</th>\n",
       "      <th>Item_MRP</th>\n",
       "      <th>Outlet_Identifier</th>\n",
       "      <th>Outlet_Establishment_Year</th>\n",
       "      <th>Outlet_Size</th>\n",
       "      <th>Outlet_Location_Type</th>\n",
       "      <th>Outlet_Type</th>\n",
       "      <th>data</th>\n",
       "    </tr>\n",
       "  </thead>\n",
       "  <tbody>\n",
       "    <tr>\n",
       "      <th>0</th>\n",
       "      <td>FDW58</td>\n",
       "      <td>20.750</td>\n",
       "      <td>Low Fat</td>\n",
       "      <td>0.007565</td>\n",
       "      <td>Snack Foods</td>\n",
       "      <td>107.8622</td>\n",
       "      <td>OUT049</td>\n",
       "      <td>1999</td>\n",
       "      <td>Medium</td>\n",
       "      <td>Tier 1</td>\n",
       "      <td>Supermarket Type1</td>\n",
       "      <td>test</td>\n",
       "    </tr>\n",
       "    <tr>\n",
       "      <th>1</th>\n",
       "      <td>FDW14</td>\n",
       "      <td>8.300</td>\n",
       "      <td>reg</td>\n",
       "      <td>0.038428</td>\n",
       "      <td>Dairy</td>\n",
       "      <td>87.3198</td>\n",
       "      <td>OUT017</td>\n",
       "      <td>2007</td>\n",
       "      <td>NaN</td>\n",
       "      <td>Tier 2</td>\n",
       "      <td>Supermarket Type1</td>\n",
       "      <td>test</td>\n",
       "    </tr>\n",
       "    <tr>\n",
       "      <th>2</th>\n",
       "      <td>NCN55</td>\n",
       "      <td>14.600</td>\n",
       "      <td>Low Fat</td>\n",
       "      <td>0.099575</td>\n",
       "      <td>Others</td>\n",
       "      <td>241.7538</td>\n",
       "      <td>OUT010</td>\n",
       "      <td>1998</td>\n",
       "      <td>NaN</td>\n",
       "      <td>Tier 3</td>\n",
       "      <td>Grocery Store</td>\n",
       "      <td>test</td>\n",
       "    </tr>\n",
       "    <tr>\n",
       "      <th>3</th>\n",
       "      <td>FDQ58</td>\n",
       "      <td>7.315</td>\n",
       "      <td>Low Fat</td>\n",
       "      <td>0.015388</td>\n",
       "      <td>Snack Foods</td>\n",
       "      <td>155.0340</td>\n",
       "      <td>OUT017</td>\n",
       "      <td>2007</td>\n",
       "      <td>NaN</td>\n",
       "      <td>Tier 2</td>\n",
       "      <td>Supermarket Type1</td>\n",
       "      <td>test</td>\n",
       "    </tr>\n",
       "    <tr>\n",
       "      <th>4</th>\n",
       "      <td>FDY38</td>\n",
       "      <td>NaN</td>\n",
       "      <td>Regular</td>\n",
       "      <td>0.118599</td>\n",
       "      <td>Dairy</td>\n",
       "      <td>234.2300</td>\n",
       "      <td>OUT027</td>\n",
       "      <td>1985</td>\n",
       "      <td>Medium</td>\n",
       "      <td>Tier 3</td>\n",
       "      <td>Supermarket Type3</td>\n",
       "      <td>test</td>\n",
       "    </tr>\n",
       "  </tbody>\n",
       "</table>\n",
       "</div>"
      ],
      "text/plain": [
       "  Item_Identifier  Item_Weight  ...        Outlet_Type  data\n",
       "0           FDW58       20.750  ...  Supermarket Type1  test\n",
       "1           FDW14        8.300  ...  Supermarket Type1  test\n",
       "2           NCN55       14.600  ...      Grocery Store  test\n",
       "3           FDQ58        7.315  ...  Supermarket Type1  test\n",
       "4           FDY38          NaN  ...  Supermarket Type3  test\n",
       "\n",
       "[5 rows x 12 columns]"
      ]
     },
     "execution_count": 144,
     "metadata": {
      "tags": []
     },
     "output_type": "execute_result"
    }
   ],
   "source": [
    "test.head()"
   ]
  },
  {
   "cell_type": "code",
   "execution_count": 145,
   "metadata": {
    "colab": {
     "base_uri": "https://localhost:8080/"
    },
    "executionInfo": {
     "elapsed": 120,
     "status": "ok",
     "timestamp": 1627221961043,
     "user": {
      "displayName": "Mohamed Noordeen Alaudeen",
      "photoUrl": "",
      "userId": "13097854355562551879"
     },
     "user_tz": -330
    },
    "id": "N4e7JTwS5mVZ",
    "outputId": "22bb128e-6d60-427b-e309-32317da0fdf1"
   },
   "outputs": [
    {
     "data": {
      "text/plain": [
       "((8523, 13), (5681, 12))"
      ]
     },
     "execution_count": 145,
     "metadata": {
      "tags": []
     },
     "output_type": "execute_result"
    }
   ],
   "source": [
    "train.shape, test.shape"
   ]
  },
  {
   "cell_type": "code",
   "execution_count": 146,
   "metadata": {
    "executionInfo": {
     "elapsed": 113,
     "status": "ok",
     "timestamp": 1627221961044,
     "user": {
      "displayName": "Mohamed Noordeen Alaudeen",
      "photoUrl": "",
      "userId": "13097854355562551879"
     },
     "user_tz": -330
    },
    "id": "4vtL8Q4p5mVZ"
   },
   "outputs": [],
   "source": [
    "data = pd.concat([train,test])"
   ]
  },
  {
   "cell_type": "code",
   "execution_count": 147,
   "metadata": {
    "colab": {
     "base_uri": "https://localhost:8080/",
     "height": 612
    },
    "executionInfo": {
     "elapsed": 113,
     "status": "ok",
     "timestamp": 1627221961044,
     "user": {
      "displayName": "Mohamed Noordeen Alaudeen",
      "photoUrl": "",
      "userId": "13097854355562551879"
     },
     "user_tz": -330
    },
    "id": "BRE4DSKg5mVZ",
    "outputId": "6b48d307-3f7f-44aa-870f-4d488c8e9d6d",
    "scrolled": true
   },
   "outputs": [
    {
     "data": {
      "text/html": [
       "<div>\n",
       "<style scoped>\n",
       "    .dataframe tbody tr th:only-of-type {\n",
       "        vertical-align: middle;\n",
       "    }\n",
       "\n",
       "    .dataframe tbody tr th {\n",
       "        vertical-align: top;\n",
       "    }\n",
       "\n",
       "    .dataframe thead th {\n",
       "        text-align: right;\n",
       "    }\n",
       "</style>\n",
       "<table border=\"1\" class=\"dataframe\">\n",
       "  <thead>\n",
       "    <tr style=\"text-align: right;\">\n",
       "      <th></th>\n",
       "      <th>Item_Identifier</th>\n",
       "      <th>Item_Weight</th>\n",
       "      <th>Item_Fat_Content</th>\n",
       "      <th>Item_Visibility</th>\n",
       "      <th>Item_Type</th>\n",
       "      <th>Item_MRP</th>\n",
       "      <th>Outlet_Identifier</th>\n",
       "      <th>Outlet_Establishment_Year</th>\n",
       "      <th>Outlet_Size</th>\n",
       "      <th>Outlet_Location_Type</th>\n",
       "      <th>Outlet_Type</th>\n",
       "      <th>Item_Outlet_Sales</th>\n",
       "      <th>data</th>\n",
       "    </tr>\n",
       "  </thead>\n",
       "  <tbody>\n",
       "    <tr>\n",
       "      <th>0</th>\n",
       "      <td>FDA15</td>\n",
       "      <td>9.30</td>\n",
       "      <td>Low Fat</td>\n",
       "      <td>0.016047</td>\n",
       "      <td>Dairy</td>\n",
       "      <td>249.8092</td>\n",
       "      <td>OUT049</td>\n",
       "      <td>1999</td>\n",
       "      <td>Medium</td>\n",
       "      <td>Tier 1</td>\n",
       "      <td>Supermarket Type1</td>\n",
       "      <td>3735.1380</td>\n",
       "      <td>train</td>\n",
       "    </tr>\n",
       "    <tr>\n",
       "      <th>1</th>\n",
       "      <td>DRC01</td>\n",
       "      <td>5.92</td>\n",
       "      <td>Regular</td>\n",
       "      <td>0.019278</td>\n",
       "      <td>Soft Drinks</td>\n",
       "      <td>48.2692</td>\n",
       "      <td>OUT018</td>\n",
       "      <td>2009</td>\n",
       "      <td>Medium</td>\n",
       "      <td>Tier 3</td>\n",
       "      <td>Supermarket Type2</td>\n",
       "      <td>443.4228</td>\n",
       "      <td>train</td>\n",
       "    </tr>\n",
       "    <tr>\n",
       "      <th>2</th>\n",
       "      <td>FDN15</td>\n",
       "      <td>17.50</td>\n",
       "      <td>Low Fat</td>\n",
       "      <td>0.016760</td>\n",
       "      <td>Meat</td>\n",
       "      <td>141.6180</td>\n",
       "      <td>OUT049</td>\n",
       "      <td>1999</td>\n",
       "      <td>Medium</td>\n",
       "      <td>Tier 1</td>\n",
       "      <td>Supermarket Type1</td>\n",
       "      <td>2097.2700</td>\n",
       "      <td>train</td>\n",
       "    </tr>\n",
       "    <tr>\n",
       "      <th>3</th>\n",
       "      <td>FDX07</td>\n",
       "      <td>19.20</td>\n",
       "      <td>Regular</td>\n",
       "      <td>0.000000</td>\n",
       "      <td>Fruits and Vegetables</td>\n",
       "      <td>182.0950</td>\n",
       "      <td>OUT010</td>\n",
       "      <td>1998</td>\n",
       "      <td>NaN</td>\n",
       "      <td>Tier 3</td>\n",
       "      <td>Grocery Store</td>\n",
       "      <td>732.3800</td>\n",
       "      <td>train</td>\n",
       "    </tr>\n",
       "    <tr>\n",
       "      <th>4</th>\n",
       "      <td>NCD19</td>\n",
       "      <td>8.93</td>\n",
       "      <td>Low Fat</td>\n",
       "      <td>0.000000</td>\n",
       "      <td>Household</td>\n",
       "      <td>53.8614</td>\n",
       "      <td>OUT013</td>\n",
       "      <td>1987</td>\n",
       "      <td>High</td>\n",
       "      <td>Tier 3</td>\n",
       "      <td>Supermarket Type1</td>\n",
       "      <td>994.7052</td>\n",
       "      <td>train</td>\n",
       "    </tr>\n",
       "    <tr>\n",
       "      <th>...</th>\n",
       "      <td>...</td>\n",
       "      <td>...</td>\n",
       "      <td>...</td>\n",
       "      <td>...</td>\n",
       "      <td>...</td>\n",
       "      <td>...</td>\n",
       "      <td>...</td>\n",
       "      <td>...</td>\n",
       "      <td>...</td>\n",
       "      <td>...</td>\n",
       "      <td>...</td>\n",
       "      <td>...</td>\n",
       "      <td>...</td>\n",
       "    </tr>\n",
       "    <tr>\n",
       "      <th>5676</th>\n",
       "      <td>FDB58</td>\n",
       "      <td>10.50</td>\n",
       "      <td>Regular</td>\n",
       "      <td>0.013496</td>\n",
       "      <td>Snack Foods</td>\n",
       "      <td>141.3154</td>\n",
       "      <td>OUT046</td>\n",
       "      <td>1997</td>\n",
       "      <td>Small</td>\n",
       "      <td>Tier 1</td>\n",
       "      <td>Supermarket Type1</td>\n",
       "      <td>NaN</td>\n",
       "      <td>test</td>\n",
       "    </tr>\n",
       "    <tr>\n",
       "      <th>5677</th>\n",
       "      <td>FDD47</td>\n",
       "      <td>7.60</td>\n",
       "      <td>Regular</td>\n",
       "      <td>0.142991</td>\n",
       "      <td>Starchy Foods</td>\n",
       "      <td>169.1448</td>\n",
       "      <td>OUT018</td>\n",
       "      <td>2009</td>\n",
       "      <td>Medium</td>\n",
       "      <td>Tier 3</td>\n",
       "      <td>Supermarket Type2</td>\n",
       "      <td>NaN</td>\n",
       "      <td>test</td>\n",
       "    </tr>\n",
       "    <tr>\n",
       "      <th>5678</th>\n",
       "      <td>NCO17</td>\n",
       "      <td>10.00</td>\n",
       "      <td>Low Fat</td>\n",
       "      <td>0.073529</td>\n",
       "      <td>Health and Hygiene</td>\n",
       "      <td>118.7440</td>\n",
       "      <td>OUT045</td>\n",
       "      <td>2002</td>\n",
       "      <td>NaN</td>\n",
       "      <td>Tier 2</td>\n",
       "      <td>Supermarket Type1</td>\n",
       "      <td>NaN</td>\n",
       "      <td>test</td>\n",
       "    </tr>\n",
       "    <tr>\n",
       "      <th>5679</th>\n",
       "      <td>FDJ26</td>\n",
       "      <td>15.30</td>\n",
       "      <td>Regular</td>\n",
       "      <td>0.000000</td>\n",
       "      <td>Canned</td>\n",
       "      <td>214.6218</td>\n",
       "      <td>OUT017</td>\n",
       "      <td>2007</td>\n",
       "      <td>NaN</td>\n",
       "      <td>Tier 2</td>\n",
       "      <td>Supermarket Type1</td>\n",
       "      <td>NaN</td>\n",
       "      <td>test</td>\n",
       "    </tr>\n",
       "    <tr>\n",
       "      <th>5680</th>\n",
       "      <td>FDU37</td>\n",
       "      <td>9.50</td>\n",
       "      <td>Regular</td>\n",
       "      <td>0.104720</td>\n",
       "      <td>Canned</td>\n",
       "      <td>79.7960</td>\n",
       "      <td>OUT045</td>\n",
       "      <td>2002</td>\n",
       "      <td>NaN</td>\n",
       "      <td>Tier 2</td>\n",
       "      <td>Supermarket Type1</td>\n",
       "      <td>NaN</td>\n",
       "      <td>test</td>\n",
       "    </tr>\n",
       "  </tbody>\n",
       "</table>\n",
       "<p>14204 rows × 13 columns</p>\n",
       "</div>"
      ],
      "text/plain": [
       "     Item_Identifier  Item_Weight  ... Item_Outlet_Sales   data\n",
       "0              FDA15         9.30  ...         3735.1380  train\n",
       "1              DRC01         5.92  ...          443.4228  train\n",
       "2              FDN15        17.50  ...         2097.2700  train\n",
       "3              FDX07        19.20  ...          732.3800  train\n",
       "4              NCD19         8.93  ...          994.7052  train\n",
       "...              ...          ...  ...               ...    ...\n",
       "5676           FDB58        10.50  ...               NaN   test\n",
       "5677           FDD47         7.60  ...               NaN   test\n",
       "5678           NCO17        10.00  ...               NaN   test\n",
       "5679           FDJ26        15.30  ...               NaN   test\n",
       "5680           FDU37         9.50  ...               NaN   test\n",
       "\n",
       "[14204 rows x 13 columns]"
      ]
     },
     "execution_count": 147,
     "metadata": {
      "tags": []
     },
     "output_type": "execute_result"
    }
   ],
   "source": [
    "data"
   ]
  },
  {
   "cell_type": "code",
   "execution_count": 148,
   "metadata": {
    "executionInfo": {
     "elapsed": 114,
     "status": "ok",
     "timestamp": 1627221961046,
     "user": {
      "displayName": "Mohamed Noordeen Alaudeen",
      "photoUrl": "",
      "userId": "13097854355562551879"
     },
     "user_tz": -330
    },
    "id": "cCBT8zQK5mVZ"
   },
   "outputs": [],
   "source": [
    "data = data.reset_index().drop(columns=\"index\")"
   ]
  },
  {
   "cell_type": "code",
   "execution_count": 149,
   "metadata": {
    "colab": {
     "base_uri": "https://localhost:8080/"
    },
    "executionInfo": {
     "elapsed": 114,
     "status": "ok",
     "timestamp": 1627221961047,
     "user": {
      "displayName": "Mohamed Noordeen Alaudeen",
      "photoUrl": "",
      "userId": "13097854355562551879"
     },
     "user_tz": -330
    },
    "id": "-Oh8MbuJ5mVa",
    "outputId": "05de0634-04a8-4bf1-bc49-f43c9d2a4f2b"
   },
   "outputs": [
    {
     "name": "stdout",
     "output_type": "stream",
     "text": [
      "<class 'pandas.core.frame.DataFrame'>\n",
      "RangeIndex: 14204 entries, 0 to 14203\n",
      "Data columns (total 13 columns):\n",
      " #   Column                     Non-Null Count  Dtype  \n",
      "---  ------                     --------------  -----  \n",
      " 0   Item_Identifier            14204 non-null  object \n",
      " 1   Item_Weight                11765 non-null  float64\n",
      " 2   Item_Fat_Content           14204 non-null  object \n",
      " 3   Item_Visibility            14204 non-null  float64\n",
      " 4   Item_Type                  14204 non-null  object \n",
      " 5   Item_MRP                   14204 non-null  float64\n",
      " 6   Outlet_Identifier          14204 non-null  object \n",
      " 7   Outlet_Establishment_Year  14204 non-null  int64  \n",
      " 8   Outlet_Size                10188 non-null  object \n",
      " 9   Outlet_Location_Type       14204 non-null  object \n",
      " 10  Outlet_Type                14204 non-null  object \n",
      " 11  Item_Outlet_Sales          8523 non-null   float64\n",
      " 12  data                       14204 non-null  object \n",
      "dtypes: float64(4), int64(1), object(8)\n",
      "memory usage: 1.4+ MB\n"
     ]
    }
   ],
   "source": [
    "data.info()"
   ]
  },
  {
   "cell_type": "code",
   "execution_count": 150,
   "metadata": {
    "colab": {
     "base_uri": "https://localhost:8080/",
     "height": 205
    },
    "executionInfo": {
     "elapsed": 108,
     "status": "ok",
     "timestamp": 1627221961047,
     "user": {
      "displayName": "Mohamed Noordeen Alaudeen",
      "photoUrl": "",
      "userId": "13097854355562551879"
     },
     "user_tz": -330
    },
    "id": "M_-S9pVY5mVa",
    "outputId": "4c919163-0070-4371-e69a-90f9fb033c87"
   },
   "outputs": [
    {
     "data": {
      "text/html": [
       "<div>\n",
       "<style scoped>\n",
       "    .dataframe tbody tr th:only-of-type {\n",
       "        vertical-align: middle;\n",
       "    }\n",
       "\n",
       "    .dataframe tbody tr th {\n",
       "        vertical-align: top;\n",
       "    }\n",
       "\n",
       "    .dataframe thead th {\n",
       "        text-align: right;\n",
       "    }\n",
       "</style>\n",
       "<table border=\"1\" class=\"dataframe\">\n",
       "  <thead>\n",
       "    <tr style=\"text-align: right;\">\n",
       "      <th></th>\n",
       "      <th>count</th>\n",
       "      <th>mean</th>\n",
       "      <th>std</th>\n",
       "      <th>min</th>\n",
       "      <th>25%</th>\n",
       "      <th>50%</th>\n",
       "      <th>75%</th>\n",
       "      <th>max</th>\n",
       "    </tr>\n",
       "  </thead>\n",
       "  <tbody>\n",
       "    <tr>\n",
       "      <th>Item_Weight</th>\n",
       "      <td>11765.0</td>\n",
       "      <td>12.792854</td>\n",
       "      <td>4.652502</td>\n",
       "      <td>4.555</td>\n",
       "      <td>8.710000</td>\n",
       "      <td>12.600000</td>\n",
       "      <td>16.750000</td>\n",
       "      <td>21.350000</td>\n",
       "    </tr>\n",
       "    <tr>\n",
       "      <th>Item_Visibility</th>\n",
       "      <td>14204.0</td>\n",
       "      <td>0.065953</td>\n",
       "      <td>0.051459</td>\n",
       "      <td>0.000</td>\n",
       "      <td>0.027036</td>\n",
       "      <td>0.054021</td>\n",
       "      <td>0.094037</td>\n",
       "      <td>0.328391</td>\n",
       "    </tr>\n",
       "    <tr>\n",
       "      <th>Item_MRP</th>\n",
       "      <td>14204.0</td>\n",
       "      <td>141.004977</td>\n",
       "      <td>62.086938</td>\n",
       "      <td>31.290</td>\n",
       "      <td>94.012000</td>\n",
       "      <td>142.247000</td>\n",
       "      <td>185.855600</td>\n",
       "      <td>266.888400</td>\n",
       "    </tr>\n",
       "    <tr>\n",
       "      <th>Outlet_Establishment_Year</th>\n",
       "      <td>14204.0</td>\n",
       "      <td>1997.830681</td>\n",
       "      <td>8.371664</td>\n",
       "      <td>1985.000</td>\n",
       "      <td>1987.000000</td>\n",
       "      <td>1999.000000</td>\n",
       "      <td>2004.000000</td>\n",
       "      <td>2009.000000</td>\n",
       "    </tr>\n",
       "    <tr>\n",
       "      <th>Item_Outlet_Sales</th>\n",
       "      <td>8523.0</td>\n",
       "      <td>2181.288914</td>\n",
       "      <td>1706.499616</td>\n",
       "      <td>33.290</td>\n",
       "      <td>834.247400</td>\n",
       "      <td>1794.331000</td>\n",
       "      <td>3101.296400</td>\n",
       "      <td>13086.964800</td>\n",
       "    </tr>\n",
       "  </tbody>\n",
       "</table>\n",
       "</div>"
      ],
      "text/plain": [
       "                             count         mean  ...          75%           max\n",
       "Item_Weight                11765.0    12.792854  ...    16.750000     21.350000\n",
       "Item_Visibility            14204.0     0.065953  ...     0.094037      0.328391\n",
       "Item_MRP                   14204.0   141.004977  ...   185.855600    266.888400\n",
       "Outlet_Establishment_Year  14204.0  1997.830681  ...  2004.000000   2009.000000\n",
       "Item_Outlet_Sales           8523.0  2181.288914  ...  3101.296400  13086.964800\n",
       "\n",
       "[5 rows x 8 columns]"
      ]
     },
     "execution_count": 150,
     "metadata": {
      "tags": []
     },
     "output_type": "execute_result"
    }
   ],
   "source": [
    "data.describe().T"
   ]
  },
  {
   "cell_type": "code",
   "execution_count": 151,
   "metadata": {
    "colab": {
     "base_uri": "https://localhost:8080/"
    },
    "executionInfo": {
     "elapsed": 107,
     "status": "ok",
     "timestamp": 1627221961048,
     "user": {
      "displayName": "Mohamed Noordeen Alaudeen",
      "photoUrl": "",
      "userId": "13097854355562551879"
     },
     "user_tz": -330
    },
    "id": "kjzu577c5mVa",
    "outputId": "b7815e01-8680-437c-8609-76dfc664742d"
   },
   "outputs": [
    {
     "data": {
      "text/plain": [
       "Item_Identifier                 0\n",
       "Item_Weight                  2439\n",
       "Item_Fat_Content                0\n",
       "Item_Visibility                 0\n",
       "Item_Type                       0\n",
       "Item_MRP                        0\n",
       "Outlet_Identifier               0\n",
       "Outlet_Establishment_Year       0\n",
       "Outlet_Size                  4016\n",
       "Outlet_Location_Type            0\n",
       "Outlet_Type                     0\n",
       "Item_Outlet_Sales            5681\n",
       "data                            0\n",
       "dtype: int64"
      ]
     },
     "execution_count": 151,
     "metadata": {
      "tags": []
     },
     "output_type": "execute_result"
    }
   ],
   "source": [
    "data.isna().sum()"
   ]
  },
  {
   "cell_type": "code",
   "execution_count": 152,
   "metadata": {
    "executionInfo": {
     "elapsed": 102,
     "status": "ok",
     "timestamp": 1627221961048,
     "user": {
      "displayName": "Mohamed Noordeen Alaudeen",
      "photoUrl": "",
      "userId": "13097854355562551879"
     },
     "user_tz": -330
    },
    "id": "INizzVhY5mVa"
   },
   "outputs": [],
   "source": [
    "numerical_columns = data.select_dtypes(include=np.number).drop(columns=['Outlet_Establishment_Year','Item_Outlet_Sales']).columns"
   ]
  },
  {
   "cell_type": "code",
   "execution_count": 153,
   "metadata": {
    "executionInfo": {
     "elapsed": 102,
     "status": "ok",
     "timestamp": 1627221961049,
     "user": {
      "displayName": "Mohamed Noordeen Alaudeen",
      "photoUrl": "",
      "userId": "13097854355562551879"
     },
     "user_tz": -330
    },
    "id": "RBCYnCaR5mVa"
   },
   "outputs": [],
   "source": [
    "category_columns = data.select_dtypes(exclude=np.number).columns\n",
    "#.drop(columns=['data','Item_Identifier', 'Outlet_Identifier']).columns"
   ]
  },
  {
   "cell_type": "code",
   "execution_count": 154,
   "metadata": {
    "colab": {
     "base_uri": "https://localhost:8080/"
    },
    "executionInfo": {
     "elapsed": 102,
     "status": "ok",
     "timestamp": 1627221961049,
     "user": {
      "displayName": "Mohamed Noordeen Alaudeen",
      "photoUrl": "",
      "userId": "13097854355562551879"
     },
     "user_tz": -330
    },
    "id": "6cfu6sYx5mVb",
    "outputId": "44c12048-f915-49dd-fa04-5a12922d3685"
   },
   "outputs": [
    {
     "data": {
      "text/plain": [
       "Index(['Item_Weight', 'Item_Visibility', 'Item_MRP'], dtype='object')"
      ]
     },
     "execution_count": 154,
     "metadata": {
      "tags": []
     },
     "output_type": "execute_result"
    }
   ],
   "source": [
    "numerical_columns"
   ]
  },
  {
   "cell_type": "code",
   "execution_count": 155,
   "metadata": {
    "colab": {
     "base_uri": "https://localhost:8080/"
    },
    "executionInfo": {
     "elapsed": 96,
     "status": "ok",
     "timestamp": 1627221961049,
     "user": {
      "displayName": "Mohamed Noordeen Alaudeen",
      "photoUrl": "",
      "userId": "13097854355562551879"
     },
     "user_tz": -330
    },
    "id": "g5EviolO5mVb",
    "outputId": "1630db37-caa7-4011-e353-02b4d0aa1702"
   },
   "outputs": [
    {
     "data": {
      "text/plain": [
       "Index(['Item_Identifier', 'Item_Fat_Content', 'Item_Type', 'Outlet_Identifier',\n",
       "       'Outlet_Size', 'Outlet_Location_Type', 'Outlet_Type', 'data'],\n",
       "      dtype='object')"
      ]
     },
     "execution_count": 155,
     "metadata": {
      "tags": []
     },
     "output_type": "execute_result"
    }
   ],
   "source": [
    "category_columns"
   ]
  },
  {
   "cell_type": "code",
   "execution_count": 156,
   "metadata": {
    "colab": {
     "base_uri": "https://localhost:8080/"
    },
    "executionInfo": {
     "elapsed": 91,
     "status": "ok",
     "timestamp": 1627221961050,
     "user": {
      "displayName": "Mohamed Noordeen Alaudeen",
      "photoUrl": "",
      "userId": "13097854355562551879"
     },
     "user_tz": -330
    },
    "id": "teC9C2lz5mVb",
    "outputId": "f7e49c24-c530-4921-c038-56cbb067ad07"
   },
   "outputs": [
    {
     "data": {
      "text/plain": [
       "Item_Identifier         1559\n",
       "Item_Fat_Content           5\n",
       "Item_Type                 16\n",
       "Outlet_Identifier         10\n",
       "Outlet_Size                3\n",
       "Outlet_Location_Type       3\n",
       "Outlet_Type                4\n",
       "data                       2\n",
       "dtype: int64"
      ]
     },
     "execution_count": 156,
     "metadata": {
      "tags": []
     },
     "output_type": "execute_result"
    }
   ],
   "source": [
    "data[category_columns].apply(lambda x: x.nunique())"
   ]
  },
  {
   "cell_type": "code",
   "execution_count": 157,
   "metadata": {
    "colab": {
     "base_uri": "https://localhost:8080/"
    },
    "executionInfo": {
     "elapsed": 86,
     "status": "ok",
     "timestamp": 1627221961050,
     "user": {
      "displayName": "Mohamed Noordeen Alaudeen",
      "photoUrl": "",
      "userId": "13097854355562551879"
     },
     "user_tz": -330
    },
    "id": "EI7QnVgR5mVb",
    "outputId": "333e5239-eae5-4dc7-d4a2-3011948b8c73"
   },
   "outputs": [
    {
     "name": "stdout",
     "output_type": "stream",
     "text": [
      "FDE34    10\n",
      "FDO01    10\n",
      "NCJ19    10\n",
      "FDZ16    10\n",
      "FDS25    10\n",
      "         ..\n",
      "FDX49     7\n",
      "FDM10     7\n",
      "FDM50     7\n",
      "FDS22     7\n",
      "FDH58     7\n",
      "Name: Item_Identifier, Length: 1559, dtype: int64\n",
      "Low Fat    8485\n",
      "Regular    4824\n",
      "LF          522\n",
      "reg         195\n",
      "low fat     178\n",
      "Name: Item_Fat_Content, dtype: int64\n",
      "Fruits and Vegetables    2013\n",
      "Snack Foods              1989\n",
      "Household                1548\n",
      "Frozen Foods             1426\n",
      "Dairy                    1136\n",
      "Baking Goods             1086\n",
      "Canned                   1084\n",
      "Health and Hygiene        858\n",
      "Meat                      736\n",
      "Soft Drinks               726\n",
      "Breads                    416\n",
      "Hard Drinks               362\n",
      "Others                    280\n",
      "Starchy Foods             269\n",
      "Breakfast                 186\n",
      "Seafood                    89\n",
      "Name: Item_Type, dtype: int64\n",
      "OUT027    1559\n",
      "OUT013    1553\n",
      "OUT046    1550\n",
      "OUT035    1550\n",
      "OUT049    1550\n",
      "OUT045    1548\n",
      "OUT018    1546\n",
      "OUT017    1543\n",
      "OUT010     925\n",
      "OUT019     880\n",
      "Name: Outlet_Identifier, dtype: int64\n",
      "Medium    4655\n",
      "Small     3980\n",
      "High      1553\n",
      "Name: Outlet_Size, dtype: int64\n",
      "Tier 3    5583\n",
      "Tier 2    4641\n",
      "Tier 1    3980\n",
      "Name: Outlet_Location_Type, dtype: int64\n",
      "Supermarket Type1    9294\n",
      "Grocery Store        1805\n",
      "Supermarket Type3    1559\n",
      "Supermarket Type2    1546\n",
      "Name: Outlet_Type, dtype: int64\n",
      "train    8523\n",
      "test     5681\n",
      "Name: data, dtype: int64\n"
     ]
    },
    {
     "data": {
      "text/plain": [
       "Item_Identifier         None\n",
       "Item_Fat_Content        None\n",
       "Item_Type               None\n",
       "Outlet_Identifier       None\n",
       "Outlet_Size             None\n",
       "Outlet_Location_Type    None\n",
       "Outlet_Type             None\n",
       "data                    None\n",
       "dtype: object"
      ]
     },
     "execution_count": 157,
     "metadata": {
      "tags": []
     },
     "output_type": "execute_result"
    }
   ],
   "source": [
    "data[category_columns].apply(lambda x: print(x.value_counts()))"
   ]
  },
  {
   "cell_type": "markdown",
   "metadata": {
    "id": "UuVPmqys7pmY"
   },
   "source": [
    "Observation:<br>\n",
    "    1. Item_Identifier - aplha(3)numeric(2)<br>\n",
    "    2. Item_Fat_Content - we need to replace<br>\n",
    "    3. Item_Type - Group - check the relation with Item_Identifier<br>\n",
    "    4. Outlet_Identifier - Nothing<br>\n",
    "    5. Outlet_Size - Relation Outlet_Size and Outlet_Type<br>\n",
    "    6. Outlet_Location_Type<br>\n",
    "    7. Outlet_Type<br>\n",
    "    \n",
    "    \n",
    "    \n",
    "    "
   ]
  },
  {
   "cell_type": "code",
   "execution_count": 158,
   "metadata": {
    "colab": {
     "base_uri": "https://localhost:8080/"
    },
    "executionInfo": {
     "elapsed": 81,
     "status": "ok",
     "timestamp": 1627221961051,
     "user": {
      "displayName": "Mohamed Noordeen Alaudeen",
      "photoUrl": "",
      "userId": "13097854355562551879"
     },
     "user_tz": -330
    },
    "id": "I3UHq09d5mVc",
    "outputId": "c67a0e3b-bfeb-45c0-a313-a699a54ee59c"
   },
   "outputs": [
    {
     "data": {
      "text/plain": [
       "Item_Weight        2439\n",
       "Item_Visibility       0\n",
       "Item_MRP              0\n",
       "dtype: int64"
      ]
     },
     "execution_count": 158,
     "metadata": {
      "tags": []
     },
     "output_type": "execute_result"
    }
   ],
   "source": [
    "data[numerical_columns].isna().sum()"
   ]
  },
  {
   "cell_type": "code",
   "execution_count": 159,
   "metadata": {
    "colab": {
     "base_uri": "https://localhost:8080/"
    },
    "executionInfo": {
     "elapsed": 75,
     "status": "ok",
     "timestamp": 1627221961051,
     "user": {
      "displayName": "Mohamed Noordeen Alaudeen",
      "photoUrl": "",
      "userId": "13097854355562551879"
     },
     "user_tz": -330
    },
    "id": "d5-7Fv9G5mVc",
    "outputId": "d24b661a-d78f-49e5-8862-2fd2d63ada06"
   },
   "outputs": [
    {
     "data": {
      "text/plain": [
       "Item_Identifier            0\n",
       "Item_Fat_Content           0\n",
       "Item_Type                  0\n",
       "Outlet_Identifier          0\n",
       "Outlet_Size             4016\n",
       "Outlet_Location_Type       0\n",
       "Outlet_Type                0\n",
       "data                       0\n",
       "dtype: int64"
      ]
     },
     "execution_count": 159,
     "metadata": {
      "tags": []
     },
     "output_type": "execute_result"
    }
   ],
   "source": [
    "data[category_columns].isna().sum()"
   ]
  },
  {
   "cell_type": "markdown",
   "metadata": {
    "id": "oS80yvy57-vR"
   },
   "source": [
    "**MISSING VALUES:**<br>\n",
    "        1. ITEM_WEIGHT - item type - mean fill<br>\n",
    "        2. Outlet_Size - Mode - Outlet Identfier , Unknown ,<br> \n",
    "        3. Item_Visibility - we need replace 0 with NA,  do the impution<br>\n",
    "\n",
    "\n",
    "**Observation:**<br>\n",
    "    1. 10 Outlet<br>\n",
    "    2. 16 Item Type<br>\n",
    "    3. OUT027 - highest sales , OUT019 - Lowest sales<br>"
   ]
  },
  {
   "cell_type": "code",
   "execution_count": 159,
   "metadata": {
    "executionInfo": {
     "elapsed": 71,
     "status": "ok",
     "timestamp": 1627221961052,
     "user": {
      "displayName": "Mohamed Noordeen Alaudeen",
      "photoUrl": "",
      "userId": "13097854355562551879"
     },
     "user_tz": -330
    },
    "id": "4qKxATse5mVc"
   },
   "outputs": [],
   "source": [
    "\n",
    "     "
   ]
  },
  {
   "cell_type": "code",
   "execution_count": 160,
   "metadata": {
    "colab": {
     "base_uri": "https://localhost:8080/",
     "height": 612
    },
    "executionInfo": {
     "elapsed": 70,
     "status": "ok",
     "timestamp": 1627221961052,
     "user": {
      "displayName": "Mohamed Noordeen Alaudeen",
      "photoUrl": "",
      "userId": "13097854355562551879"
     },
     "user_tz": -330
    },
    "id": "uG616kGh5mVd",
    "outputId": "5a280f87-52cf-4cf8-f8c4-f33d5e8f6c4b"
   },
   "outputs": [
    {
     "data": {
      "text/html": [
       "<div>\n",
       "<style scoped>\n",
       "    .dataframe tbody tr th:only-of-type {\n",
       "        vertical-align: middle;\n",
       "    }\n",
       "\n",
       "    .dataframe tbody tr th {\n",
       "        vertical-align: top;\n",
       "    }\n",
       "\n",
       "    .dataframe thead th {\n",
       "        text-align: right;\n",
       "    }\n",
       "</style>\n",
       "<table border=\"1\" class=\"dataframe\">\n",
       "  <thead>\n",
       "    <tr style=\"text-align: right;\">\n",
       "      <th></th>\n",
       "      <th>Item_Identifier</th>\n",
       "      <th>Item_Weight</th>\n",
       "      <th>Item_Fat_Content</th>\n",
       "      <th>Item_Visibility</th>\n",
       "      <th>Item_Type</th>\n",
       "      <th>Item_MRP</th>\n",
       "      <th>Outlet_Identifier</th>\n",
       "      <th>Outlet_Establishment_Year</th>\n",
       "      <th>Outlet_Size</th>\n",
       "      <th>Outlet_Location_Type</th>\n",
       "      <th>Outlet_Type</th>\n",
       "      <th>Item_Outlet_Sales</th>\n",
       "      <th>data</th>\n",
       "    </tr>\n",
       "  </thead>\n",
       "  <tbody>\n",
       "    <tr>\n",
       "      <th>0</th>\n",
       "      <td>FDA15</td>\n",
       "      <td>9.300</td>\n",
       "      <td>Low Fat</td>\n",
       "      <td>0.016047</td>\n",
       "      <td>Dairy</td>\n",
       "      <td>249.8092</td>\n",
       "      <td>OUT049</td>\n",
       "      <td>1999</td>\n",
       "      <td>Medium</td>\n",
       "      <td>Tier 1</td>\n",
       "      <td>Supermarket Type1</td>\n",
       "      <td>3735.1380</td>\n",
       "      <td>train</td>\n",
       "    </tr>\n",
       "    <tr>\n",
       "      <th>1</th>\n",
       "      <td>DRC01</td>\n",
       "      <td>5.920</td>\n",
       "      <td>Regular</td>\n",
       "      <td>0.019278</td>\n",
       "      <td>Soft Drinks</td>\n",
       "      <td>48.2692</td>\n",
       "      <td>OUT018</td>\n",
       "      <td>2009</td>\n",
       "      <td>Medium</td>\n",
       "      <td>Tier 3</td>\n",
       "      <td>Supermarket Type2</td>\n",
       "      <td>443.4228</td>\n",
       "      <td>train</td>\n",
       "    </tr>\n",
       "    <tr>\n",
       "      <th>2</th>\n",
       "      <td>FDN15</td>\n",
       "      <td>17.500</td>\n",
       "      <td>Low Fat</td>\n",
       "      <td>0.016760</td>\n",
       "      <td>Meat</td>\n",
       "      <td>141.6180</td>\n",
       "      <td>OUT049</td>\n",
       "      <td>1999</td>\n",
       "      <td>Medium</td>\n",
       "      <td>Tier 1</td>\n",
       "      <td>Supermarket Type1</td>\n",
       "      <td>2097.2700</td>\n",
       "      <td>train</td>\n",
       "    </tr>\n",
       "    <tr>\n",
       "      <th>3</th>\n",
       "      <td>FDX07</td>\n",
       "      <td>19.200</td>\n",
       "      <td>Regular</td>\n",
       "      <td>0.000000</td>\n",
       "      <td>Fruits and Vegetables</td>\n",
       "      <td>182.0950</td>\n",
       "      <td>OUT010</td>\n",
       "      <td>1998</td>\n",
       "      <td>NaN</td>\n",
       "      <td>Tier 3</td>\n",
       "      <td>Grocery Store</td>\n",
       "      <td>732.3800</td>\n",
       "      <td>train</td>\n",
       "    </tr>\n",
       "    <tr>\n",
       "      <th>4</th>\n",
       "      <td>NCD19</td>\n",
       "      <td>8.930</td>\n",
       "      <td>Low Fat</td>\n",
       "      <td>0.000000</td>\n",
       "      <td>Household</td>\n",
       "      <td>53.8614</td>\n",
       "      <td>OUT013</td>\n",
       "      <td>1987</td>\n",
       "      <td>High</td>\n",
       "      <td>Tier 3</td>\n",
       "      <td>Supermarket Type1</td>\n",
       "      <td>994.7052</td>\n",
       "      <td>train</td>\n",
       "    </tr>\n",
       "    <tr>\n",
       "      <th>...</th>\n",
       "      <td>...</td>\n",
       "      <td>...</td>\n",
       "      <td>...</td>\n",
       "      <td>...</td>\n",
       "      <td>...</td>\n",
       "      <td>...</td>\n",
       "      <td>...</td>\n",
       "      <td>...</td>\n",
       "      <td>...</td>\n",
       "      <td>...</td>\n",
       "      <td>...</td>\n",
       "      <td>...</td>\n",
       "      <td>...</td>\n",
       "    </tr>\n",
       "    <tr>\n",
       "      <th>8518</th>\n",
       "      <td>FDF22</td>\n",
       "      <td>6.865</td>\n",
       "      <td>Low Fat</td>\n",
       "      <td>0.056783</td>\n",
       "      <td>Snack Foods</td>\n",
       "      <td>214.5218</td>\n",
       "      <td>OUT013</td>\n",
       "      <td>1987</td>\n",
       "      <td>High</td>\n",
       "      <td>Tier 3</td>\n",
       "      <td>Supermarket Type1</td>\n",
       "      <td>2778.3834</td>\n",
       "      <td>train</td>\n",
       "    </tr>\n",
       "    <tr>\n",
       "      <th>8519</th>\n",
       "      <td>FDS36</td>\n",
       "      <td>8.380</td>\n",
       "      <td>Regular</td>\n",
       "      <td>0.046982</td>\n",
       "      <td>Baking Goods</td>\n",
       "      <td>108.1570</td>\n",
       "      <td>OUT045</td>\n",
       "      <td>2002</td>\n",
       "      <td>NaN</td>\n",
       "      <td>Tier 2</td>\n",
       "      <td>Supermarket Type1</td>\n",
       "      <td>549.2850</td>\n",
       "      <td>train</td>\n",
       "    </tr>\n",
       "    <tr>\n",
       "      <th>8520</th>\n",
       "      <td>NCJ29</td>\n",
       "      <td>10.600</td>\n",
       "      <td>Low Fat</td>\n",
       "      <td>0.035186</td>\n",
       "      <td>Health and Hygiene</td>\n",
       "      <td>85.1224</td>\n",
       "      <td>OUT035</td>\n",
       "      <td>2004</td>\n",
       "      <td>Small</td>\n",
       "      <td>Tier 2</td>\n",
       "      <td>Supermarket Type1</td>\n",
       "      <td>1193.1136</td>\n",
       "      <td>train</td>\n",
       "    </tr>\n",
       "    <tr>\n",
       "      <th>8521</th>\n",
       "      <td>FDN46</td>\n",
       "      <td>7.210</td>\n",
       "      <td>Regular</td>\n",
       "      <td>0.145221</td>\n",
       "      <td>Snack Foods</td>\n",
       "      <td>103.1332</td>\n",
       "      <td>OUT018</td>\n",
       "      <td>2009</td>\n",
       "      <td>Medium</td>\n",
       "      <td>Tier 3</td>\n",
       "      <td>Supermarket Type2</td>\n",
       "      <td>1845.5976</td>\n",
       "      <td>train</td>\n",
       "    </tr>\n",
       "    <tr>\n",
       "      <th>8522</th>\n",
       "      <td>DRG01</td>\n",
       "      <td>14.800</td>\n",
       "      <td>Low Fat</td>\n",
       "      <td>0.044878</td>\n",
       "      <td>Soft Drinks</td>\n",
       "      <td>75.4670</td>\n",
       "      <td>OUT046</td>\n",
       "      <td>1997</td>\n",
       "      <td>Small</td>\n",
       "      <td>Tier 1</td>\n",
       "      <td>Supermarket Type1</td>\n",
       "      <td>765.6700</td>\n",
       "      <td>train</td>\n",
       "    </tr>\n",
       "  </tbody>\n",
       "</table>\n",
       "<p>8523 rows × 13 columns</p>\n",
       "</div>"
      ],
      "text/plain": [
       "     Item_Identifier  Item_Weight  ... Item_Outlet_Sales   data\n",
       "0              FDA15        9.300  ...         3735.1380  train\n",
       "1              DRC01        5.920  ...          443.4228  train\n",
       "2              FDN15       17.500  ...         2097.2700  train\n",
       "3              FDX07       19.200  ...          732.3800  train\n",
       "4              NCD19        8.930  ...          994.7052  train\n",
       "...              ...          ...  ...               ...    ...\n",
       "8518           FDF22        6.865  ...         2778.3834  train\n",
       "8519           FDS36        8.380  ...          549.2850  train\n",
       "8520           NCJ29       10.600  ...         1193.1136  train\n",
       "8521           FDN46        7.210  ...         1845.5976  train\n",
       "8522           DRG01       14.800  ...          765.6700  train\n",
       "\n",
       "[8523 rows x 13 columns]"
      ]
     },
     "execution_count": 160,
     "metadata": {
      "tags": []
     },
     "output_type": "execute_result"
    }
   ],
   "source": [
    "train"
   ]
  },
  {
   "cell_type": "code",
   "execution_count": 161,
   "metadata": {
    "colab": {
     "base_uri": "https://localhost:8080/"
    },
    "executionInfo": {
     "elapsed": 70,
     "status": "ok",
     "timestamp": 1627221961053,
     "user": {
      "displayName": "Mohamed Noordeen Alaudeen",
      "photoUrl": "",
      "userId": "13097854355562551879"
     },
     "user_tz": -330
    },
    "id": "5OXKkgW65mVd",
    "outputId": "689b8153-28e5-416e-8edc-fbfae1675049"
   },
   "outputs": [
    {
     "data": {
      "text/plain": [
       "Item_Type\n",
       "Baking Goods             1598.334276\n",
       "Breads                   2612.090059\n",
       "Breakfast                1828.064867\n",
       "Canned                   2257.667273\n",
       "Dairy                    2220.057537\n",
       "Frozen Foods             2152.870827\n",
       "Fruits and Vegetables    2570.240545\n",
       "Hard Drinks              2127.152671\n",
       "Health and Hygiene       2117.022067\n",
       "Household                2066.003510\n",
       "Meat                     2027.760480\n",
       "Others                   2065.245020\n",
       "Seafood                  2662.034850\n",
       "Snack Foods              2268.321853\n",
       "Soft Drinks              2079.450059\n",
       "Starchy Foods            3118.518427\n",
       "Name: Item_Outlet_Sales, dtype: float64"
      ]
     },
     "execution_count": 161,
     "metadata": {
      "tags": []
     },
     "output_type": "execute_result"
    }
   ],
   "source": [
    "train.groupby([\"Item_Visibility\",\"Item_Type\"]).Item_Outlet_Sales.mean()[0.000000]"
   ]
  },
  {
   "cell_type": "code",
   "execution_count": 162,
   "metadata": {
    "colab": {
     "base_uri": "https://localhost:8080/"
    },
    "executionInfo": {
     "elapsed": 63,
     "status": "ok",
     "timestamp": 1627221961053,
     "user": {
      "displayName": "Mohamed Noordeen Alaudeen",
      "photoUrl": "",
      "userId": "13097854355562551879"
     },
     "user_tz": -330
    },
    "id": "RwIAAt0w5mVd",
    "outputId": "28f9913a-3ab9-409d-e61a-065df6efa4c4"
   },
   "outputs": [
    {
     "data": {
      "text/plain": [
       "Item_Visibility  Item_Type            \n",
       "0.000000         Baking Goods             1598.334276\n",
       "                 Breads                   2612.090059\n",
       "                 Breakfast                1828.064867\n",
       "                 Canned                   2257.667273\n",
       "                 Dairy                    2220.057537\n",
       "                                             ...     \n",
       "0.309390         Household                 138.486400\n",
       "0.311090         Baking Goods              154.465600\n",
       "0.321115         Fruits and Vegetables     199.740000\n",
       "0.325781         Household                 761.009400\n",
       "0.328391         Canned                    588.567200\n",
       "Name: Item_Outlet_Sales, Length: 8006, dtype: float64"
      ]
     },
     "execution_count": 162,
     "metadata": {
      "tags": []
     },
     "output_type": "execute_result"
    }
   ],
   "source": [
    "train.groupby([\"Item_Visibility\",\"Item_Type\"]).Item_Outlet_Sales.mean()"
   ]
  },
  {
   "cell_type": "code",
   "execution_count": 163,
   "metadata": {
    "colab": {
     "base_uri": "https://localhost:8080/"
    },
    "executionInfo": {
     "elapsed": 59,
     "status": "ok",
     "timestamp": 1627221961054,
     "user": {
      "displayName": "Mohamed Noordeen Alaudeen",
      "photoUrl": "",
      "userId": "13097854355562551879"
     },
     "user_tz": -330
    },
    "id": "mM6L9KP65mVd",
    "outputId": "94fb2028-9d2d-4c25-b03e-d68c8c8bd2ad"
   },
   "outputs": [
    {
     "data": {
      "text/plain": [
       "Outlet_Identifier\n",
       "OUT027    3.453926e+06\n",
       "OUT035    2.268123e+06\n",
       "OUT049    2.183970e+06\n",
       "OUT017    2.167465e+06\n",
       "OUT013    2.142664e+06\n",
       "OUT046    2.118395e+06\n",
       "OUT045    2.036725e+06\n",
       "OUT018    1.851823e+06\n",
       "OUT010    1.883402e+05\n",
       "OUT019    1.796941e+05\n",
       "Name: Item_Outlet_Sales, dtype: float64"
      ]
     },
     "execution_count": 163,
     "metadata": {
      "tags": []
     },
     "output_type": "execute_result"
    }
   ],
   "source": [
    "data.groupby(\"Outlet_Identifier\").Item_Outlet_Sales.sum().sort_values(ascending=False)"
   ]
  },
  {
   "cell_type": "code",
   "execution_count": 164,
   "metadata": {
    "colab": {
     "base_uri": "https://localhost:8080/"
    },
    "executionInfo": {
     "elapsed": 54,
     "status": "ok",
     "timestamp": 1627221961054,
     "user": {
      "displayName": "Mohamed Noordeen Alaudeen",
      "photoUrl": "",
      "userId": "13097854355562551879"
     },
     "user_tz": -330
    },
    "id": "NCZMPF4c5mVd",
    "outputId": "b3aad1ae-58ef-4e2b-bade-c845f5787216"
   },
   "outputs": [
    {
     "data": {
      "text/plain": [
       "Item_Identifier\n",
       "FDY55    42661.8008\n",
       "FDA15    41584.5364\n",
       "FDZ20    40185.0248\n",
       "FDF05    36555.7490\n",
       "FDA04    35741.4756\n",
       "            ...    \n",
       "FDQ04      784.3124\n",
       "FDF38      771.6622\n",
       "FDY43      673.7896\n",
       "NCR42      332.9000\n",
       "FDQ60      120.5098\n",
       "Name: Item_Outlet_Sales, Length: 1559, dtype: float64"
      ]
     },
     "execution_count": 164,
     "metadata": {
      "tags": []
     },
     "output_type": "execute_result"
    }
   ],
   "source": [
    "data.groupby(\"Item_Identifier\").Item_Outlet_Sales.sum().sort_values(ascending=False)"
   ]
  },
  {
   "cell_type": "code",
   "execution_count": 165,
   "metadata": {
    "colab": {
     "base_uri": "https://localhost:8080/"
    },
    "executionInfo": {
     "elapsed": 50,
     "status": "ok",
     "timestamp": 1627221961055,
     "user": {
      "displayName": "Mohamed Noordeen Alaudeen",
      "photoUrl": "",
      "userId": "13097854355562551879"
     },
     "user_tz": -330
    },
    "id": "KA4Lci1p5mVe",
    "outputId": "16c17bef-6067-4eac-9f5a-dbb36a251abc"
   },
   "outputs": [
    {
     "data": {
      "text/plain": [
       "Item_Identifier\n",
       "NCE42    13086.9648\n",
       "FDQ19    12117.5600\n",
       "FDZ20    11445.1020\n",
       "FDP33    10993.6896\n",
       "FDI50    10306.5840\n",
       "FDU14    10236.6750\n",
       "NCH18    10072.8882\n",
       "FDC17     9678.0688\n",
       "FDG32     9562.2196\n",
       "DRF36     9554.2300\n",
       "FDY02     9467.6760\n",
       "FDO03     9390.4432\n",
       "FDU55     9371.8008\n",
       "FDN58     9267.9360\n",
       "FDY55     9251.9568\n",
       "FDP15     9227.9880\n",
       "FDS26     9158.0790\n",
       "FDS44     9133.4444\n",
       "FDR35     8958.3390\n",
       "FDH10     8912.3988\n",
       "Name: Item_Outlet_Sales, dtype: float64"
      ]
     },
     "execution_count": 165,
     "metadata": {
      "tags": []
     },
     "output_type": "execute_result"
    }
   ],
   "source": [
    "data[data[\"Outlet_Identifier\"]==\"OUT027\"].groupby(\"Item_Identifier\").Item_Outlet_Sales.sum().sort_values(ascending=False).head(20)"
   ]
  },
  {
   "cell_type": "markdown",
   "metadata": {
    "id": "gmFpX8tr5mVe"
   },
   "source": [
    "# Exploratory Data Analysis"
   ]
  },
  {
   "cell_type": "code",
   "execution_count": 166,
   "metadata": {
    "colab": {
     "base_uri": "https://localhost:8080/",
     "height": 338
    },
    "executionInfo": {
     "elapsed": 45,
     "status": "ok",
     "timestamp": 1627221961055,
     "user": {
      "displayName": "Mohamed Noordeen Alaudeen",
      "photoUrl": "",
      "userId": "13097854355562551879"
     },
     "user_tz": -330
    },
    "id": "7si6bXgn5mVe",
    "outputId": "57ed3a81-b1b4-4ad7-8959-50ab6b67fb43"
   },
   "outputs": [
    {
     "data": {
      "text/plain": [
       "<matplotlib.axes._subplots.AxesSubplot at 0x7f6fcac4ac50>"
      ]
     },
     "execution_count": 166,
     "metadata": {
      "tags": []
     },
     "output_type": "execute_result"
    },
    {
     "data": {
      "image/png": "[encoded data removed]",
      "text/plain": [
       "<Figure size 432x288 with 1 Axes>"
      ]
     },
     "metadata": {
      "needs_background": "light",
      "tags": []
     },
     "output_type": "display_data"
    }
   ],
   "source": [
    "data.groupby(\"Outlet_Identifier\").Item_Outlet_Sales.sum().sort_values(ascending=False).plot(kind = \"bar\")"
   ]
  },
  {
   "cell_type": "code",
   "execution_count": 167,
   "metadata": {
    "colab": {
     "base_uri": "https://localhost:8080/",
     "height": 322
    },
    "executionInfo": {
     "elapsed": 607,
     "status": "ok",
     "timestamp": 1627221961624,
     "user": {
      "displayName": "Mohamed Noordeen Alaudeen",
      "photoUrl": "",
      "userId": "13097854355562551879"
     },
     "user_tz": -330
    },
    "id": "u6LMhQOv5mVe",
    "outputId": "3bd70d11-8deb-4a88-976d-c4e5ef74cefb"
   },
   "outputs": [
    {
     "data": {
      "text/plain": [
       "<matplotlib.axes._subplots.AxesSubplot at 0x7f6fcabcffd0>"
      ]
     },
     "execution_count": 167,
     "metadata": {
      "tags": []
     },
     "output_type": "execute_result"
    },
    {
     "data": {
      "image/png": "[encoded data removed]",
      "text/plain": [
       "<Figure size 432x288 with 1 Axes>"
      ]
     },
     "metadata": {
      "needs_background": "light",
      "tags": []
     },
     "output_type": "display_data"
    }
   ],
   "source": [
    "data.groupby(\"Item_Identifier\").Item_Outlet_Sales.sum().sort_values(ascending=False).head(10).plot(kind = \"bar\")"
   ]
  },
  {
   "cell_type": "code",
   "execution_count": 168,
   "metadata": {
    "colab": {
     "base_uri": "https://localhost:8080/",
     "height": 395
    },
    "executionInfo": {
     "elapsed": 21,
     "status": "ok",
     "timestamp": 1627221961625,
     "user": {
      "displayName": "Mohamed Noordeen Alaudeen",
      "photoUrl": "",
      "userId": "13097854355562551879"
     },
     "user_tz": -330
    },
    "id": "Iq39oeRJ5mVe",
    "outputId": "1695814f-9f58-462e-dc32-314ef15fe48a"
   },
   "outputs": [
    {
     "data": {
      "text/plain": [
       "<matplotlib.axes._subplots.AxesSubplot at 0x7f6fcab60e90>"
      ]
     },
     "execution_count": 168,
     "metadata": {
      "tags": []
     },
     "output_type": "execute_result"
    },
    {
     "data": {
      "image/png": "[encoded data removed]",
      "text/plain": [
       "<Figure size 432x288 with 1 Axes>"
      ]
     },
     "metadata": {
      "needs_background": "light",
      "tags": []
     },
     "output_type": "display_data"
    }
   ],
   "source": [
    "data.groupby(\"Outlet_Type\").Item_Outlet_Sales.sum().sort_values(ascending=False).head(10).plot(kind = \"bar\")"
   ]
  },
  {
   "cell_type": "code",
   "execution_count": 169,
   "metadata": {
    "colab": {
     "base_uri": "https://localhost:8080/",
     "height": 406
    },
    "executionInfo": {
     "elapsed": 631,
     "status": "ok",
     "timestamp": 1627221962244,
     "user": {
      "displayName": "Mohamed Noordeen Alaudeen",
      "photoUrl": "",
      "userId": "13097854355562551879"
     },
     "user_tz": -330
    },
    "id": "1J75RBxG5mVf",
    "outputId": "9088b5e3-bc2c-43e7-a1b9-640d96b8c4ea"
   },
   "outputs": [
    {
     "data": {
      "text/plain": [
       "<matplotlib.axes._subplots.AxesSubplot at 0x7f6fd8fe0310>"
      ]
     },
     "execution_count": 169,
     "metadata": {
      "tags": []
     },
     "output_type": "execute_result"
    },
    {
     "data": {
      "image/png": "[encoded data removed]",
      "text/plain": [
       "<Figure size 432x288 with 1 Axes>"
      ]
     },
     "metadata": {
      "needs_background": "light",
      "tags": []
     },
     "output_type": "display_data"
    }
   ],
   "source": [
    "data.groupby(\"Item_Type\").Item_Outlet_Sales.sum().sort_values(ascending=False).head(16).plot(kind = \"bar\")"
   ]
  },
  {
   "cell_type": "code",
   "execution_count": 170,
   "metadata": {
    "colab": {
     "base_uri": "https://localhost:8080/",
     "height": 395
    },
    "executionInfo": {
     "elapsed": 18,
     "status": "ok",
     "timestamp": 1627221962245,
     "user": {
      "displayName": "Mohamed Noordeen Alaudeen",
      "photoUrl": "",
      "userId": "13097854355562551879"
     },
     "user_tz": -330
    },
    "id": "QBeuEPvh5mVf",
    "outputId": "efe26ab6-7bed-45ab-e756-39b16c9c9aa7"
   },
   "outputs": [
    {
     "data": {
      "text/plain": [
       "<matplotlib.axes._subplots.AxesSubplot at 0x7f6fcb229e10>"
      ]
     },
     "execution_count": 170,
     "metadata": {
      "tags": []
     },
     "output_type": "execute_result"
    },
    {
     "data": {
      "image/png": "[encoded data removed]",
      "text/plain": [
       "<Figure size 432x288 with 1 Axes>"
      ]
     },
     "metadata": {
      "needs_background": "light",
      "tags": []
     },
     "output_type": "display_data"
    }
   ],
   "source": [
    "data.groupby(\"Item_Type\").Item_Visibility.mean().sort_values(ascending = False).plot(kind = \"bar\")"
   ]
  },
  {
   "cell_type": "code",
   "execution_count": 171,
   "metadata": {
    "colab": {
     "base_uri": "https://localhost:8080/",
     "height": 403
    },
    "executionInfo": {
     "elapsed": 684,
     "status": "ok",
     "timestamp": 1627221962919,
     "user": {
      "displayName": "Mohamed Noordeen Alaudeen",
      "photoUrl": "",
      "userId": "13097854355562551879"
     },
     "user_tz": -330
    },
    "id": "aAfQVC6R5mVf",
    "outputId": "f109a633-f3fa-4f83-ec8a-c3ee3438e629"
   },
   "outputs": [
    {
     "name": "stderr",
     "output_type": "stream",
     "text": [
      "/usr/local/lib/python3.7/dist-packages/numpy/core/_asarray.py:83: VisibleDeprecationWarning: Creating an ndarray from ragged nested sequences (which is a list-or-tuple of lists-or-tuples-or ndarrays with different lengths or shapes) is deprecated. If you meant to do this, you must specify 'dtype=object' when creating the ndarray\n",
      "  return array(a, dtype, copy=False, order=order)\n"
     ]
    },
    {
     "data": {
      "text/plain": [
       "<matplotlib.axes._subplots.AxesSubplot at 0x7f6fcb203490>"
      ]
     },
     "execution_count": 171,
     "metadata": {
      "tags": []
     },
     "output_type": "execute_result"
    },
    {
     "data": {
      "image/png": "[encoded data removed]",
      "text/plain": [
       "<Figure size 432x288 with 1 Axes>"
      ]
     },
     "metadata": {
      "needs_background": "light",
      "tags": []
     },
     "output_type": "display_data"
    }
   ],
   "source": [
    "data.boxplot(column = \"Item_Weight\", by = \"Outlet_Identifier\", rot = 90)"
   ]
  },
  {
   "cell_type": "code",
   "execution_count": 172,
   "metadata": {
    "colab": {
     "base_uri": "https://localhost:8080/",
     "height": 459
    },
    "executionInfo": {
     "elapsed": 19,
     "status": "ok",
     "timestamp": 1627221962920,
     "user": {
      "displayName": "Mohamed Noordeen Alaudeen",
      "photoUrl": "",
      "userId": "13097854355562551879"
     },
     "user_tz": -330
    },
    "id": "aD3UgZgV5mVf",
    "outputId": "4f2793dd-2639-4a61-a516-c7f907813e39"
   },
   "outputs": [
    {
     "name": "stderr",
     "output_type": "stream",
     "text": [
      "/usr/local/lib/python3.7/dist-packages/numpy/core/_asarray.py:83: VisibleDeprecationWarning: Creating an ndarray from ragged nested sequences (which is a list-or-tuple of lists-or-tuples-or ndarrays with different lengths or shapes) is deprecated. If you meant to do this, you must specify 'dtype=object' when creating the ndarray\n",
      "  return array(a, dtype, copy=False, order=order)\n"
     ]
    },
    {
     "data": {
      "text/plain": [
       "<matplotlib.axes._subplots.AxesSubplot at 0x7f6fcab06850>"
      ]
     },
     "execution_count": 172,
     "metadata": {
      "tags": []
     },
     "output_type": "execute_result"
    },
    {
     "data": {
      "image/png": "[encoded data removed]",
      "text/plain": [
       "<Figure size 432x288 with 1 Axes>"
      ]
     },
     "metadata": {
      "needs_background": "light",
      "tags": []
     },
     "output_type": "display_data"
    }
   ],
   "source": [
    "data.boxplot(column = \"Item_Outlet_Sales\", by = \"Outlet_Type\", rot = 90)"
   ]
  },
  {
   "cell_type": "code",
   "execution_count": 173,
   "metadata": {
    "colab": {
     "base_uri": "https://localhost:8080/",
     "height": 459
    },
    "executionInfo": {
     "elapsed": 585,
     "status": "ok",
     "timestamp": 1627221963494,
     "user": {
      "displayName": "Mohamed Noordeen Alaudeen",
      "photoUrl": "",
      "userId": "13097854355562551879"
     },
     "user_tz": -330
    },
    "id": "JM32VYUk5mVf",
    "outputId": "3d23250a-cd7a-4163-ed8f-a6157b9b2fde",
    "scrolled": true
   },
   "outputs": [
    {
     "name": "stderr",
     "output_type": "stream",
     "text": [
      "/usr/local/lib/python3.7/dist-packages/numpy/core/_asarray.py:83: VisibleDeprecationWarning: Creating an ndarray from ragged nested sequences (which is a list-or-tuple of lists-or-tuples-or ndarrays with different lengths or shapes) is deprecated. If you meant to do this, you must specify 'dtype=object' when creating the ndarray\n",
      "  return array(a, dtype, copy=False, order=order)\n"
     ]
    },
    {
     "data": {
      "text/plain": [
       "<matplotlib.axes._subplots.AxesSubplot at 0x7f6fcb054f50>"
      ]
     },
     "execution_count": 173,
     "metadata": {
      "tags": []
     },
     "output_type": "execute_result"
    },
    {
     "data": {
      "image/png": "[encoded data removed]",
      "text/plain": [
       "<Figure size 432x288 with 1 Axes>"
      ]
     },
     "metadata": {
      "needs_background": "light",
      "tags": []
     },
     "output_type": "display_data"
    }
   ],
   "source": [
    "data.boxplot(column = \"Item_Visibility\", by = \"Outlet_Type\", rot = 90)"
   ]
  },
  {
   "cell_type": "code",
   "execution_count": 173,
   "metadata": {
    "executionInfo": {
     "elapsed": 28,
     "status": "ok",
     "timestamp": 1627221963495,
     "user": {
      "displayName": "Mohamed Noordeen Alaudeen",
      "photoUrl": "",
      "userId": "13097854355562551879"
     },
     "user_tz": -330
    },
    "id": "nssfsbLZ5mVg"
   },
   "outputs": [],
   "source": []
  },
  {
   "cell_type": "code",
   "execution_count": 174,
   "metadata": {
    "colab": {
     "base_uri": "https://localhost:8080/"
    },
    "executionInfo": {
     "elapsed": 27,
     "status": "ok",
     "timestamp": 1627221963495,
     "user": {
      "displayName": "Mohamed Noordeen Alaudeen",
      "photoUrl": "",
      "userId": "13097854355562551879"
     },
     "user_tz": -330
    },
    "id": "ZzMTurZI5mVg",
    "outputId": "4a02f223-54f6-47fe-a28c-efa52f10813a"
   },
   "outputs": [
    {
     "data": {
      "text/plain": [
       "Medium    4655\n",
       "Small     3980\n",
       "High      1553\n",
       "Name: Outlet_Size, dtype: int64"
      ]
     },
     "execution_count": 174,
     "metadata": {
      "tags": []
     },
     "output_type": "execute_result"
    }
   ],
   "source": [
    "data[\"Outlet_Size\"].value_counts()"
   ]
  },
  {
   "cell_type": "code",
   "execution_count": 175,
   "metadata": {
    "colab": {
     "base_uri": "https://localhost:8080/"
    },
    "executionInfo": {
     "elapsed": 22,
     "status": "ok",
     "timestamp": 1627221963496,
     "user": {
      "displayName": "Mohamed Noordeen Alaudeen",
      "photoUrl": "",
      "userId": "13097854355562551879"
     },
     "user_tz": -330
    },
    "id": "zhGbyIIy5mVg",
    "outputId": "722c4ea4-26f6-4664-85fd-9c388fe2cda2",
    "scrolled": true
   },
   "outputs": [
    {
     "data": {
      "text/plain": [
       "Index(['Item_Identifier', 'Item_Weight', 'Item_Fat_Content', 'Item_Visibility',\n",
       "       'Item_Type', 'Item_MRP', 'Outlet_Identifier',\n",
       "       'Outlet_Establishment_Year', 'Outlet_Size', 'Outlet_Location_Type',\n",
       "       'Outlet_Type', 'Item_Outlet_Sales', 'data'],\n",
       "      dtype='object')"
      ]
     },
     "execution_count": 175,
     "metadata": {
      "tags": []
     },
     "output_type": "execute_result"
    }
   ],
   "source": [
    "train.columns"
   ]
  },
  {
   "cell_type": "code",
   "execution_count": 176,
   "metadata": {
    "colab": {
     "base_uri": "https://localhost:8080/",
     "height": 282
    },
    "executionInfo": {
     "elapsed": 17,
     "status": "ok",
     "timestamp": 1627221963496,
     "user": {
      "displayName": "Mohamed Noordeen Alaudeen",
      "photoUrl": "",
      "userId": "13097854355562551879"
     },
     "user_tz": -330
    },
    "id": "ejU5jt4d5mVg",
    "outputId": "847acb4c-b91d-40b0-d2e5-5582f7c5d465"
   },
   "outputs": [
    {
     "data": {
      "text/plain": [
       "<matplotlib.axes._subplots.AxesSubplot at 0x7f6fca979c50>"
      ]
     },
     "execution_count": 176,
     "metadata": {
      "tags": []
     },
     "output_type": "execute_result"
    },
    {
     "data": {
      "image/png": "[encoded data removed]",
      "text/plain": [
       "<Figure size 432x288 with 1 Axes>"
      ]
     },
     "metadata": {
      "needs_background": "light",
      "tags": []
     },
     "output_type": "display_data"
    }
   ],
   "source": [
    "train[\"Item_Outlet_Sales\"].plot(kind = \"hist\")"
   ]
  },
  {
   "cell_type": "code",
   "execution_count": 177,
   "metadata": {
    "colab": {
     "base_uri": "https://localhost:8080/",
     "height": 297
    },
    "executionInfo": {
     "elapsed": 499,
     "status": "ok",
     "timestamp": 1627221963983,
     "user": {
      "displayName": "Mohamed Noordeen Alaudeen",
      "photoUrl": "",
      "userId": "13097854355562551879"
     },
     "user_tz": -330
    },
    "id": "0-mlyOek5mVg",
    "outputId": "784d2318-00a1-4a3c-8d9c-f3ceda7b0b70"
   },
   "outputs": [
    {
     "data": {
      "text/plain": [
       "<matplotlib.axes._subplots.AxesSubplot at 0x7f6fca90cbd0>"
      ]
     },
     "execution_count": 177,
     "metadata": {
      "tags": []
     },
     "output_type": "execute_result"
    },
    {
     "data": {
      "image/png": "[encoded data removed]",
      "text/plain": [
       "<Figure size 432x288 with 1 Axes>"
      ]
     },
     "metadata": {
      "needs_background": "light",
      "tags": []
     },
     "output_type": "display_data"
    }
   ],
   "source": [
    "sns.boxplot(data = train, x = \"Outlet_Type\", y = \"Item_Outlet_Sales\", hue = \"Outlet_Size\")\n",
    "\n"
   ]
  },
  {
   "cell_type": "code",
   "execution_count": 178,
   "metadata": {
    "colab": {
     "base_uri": "https://localhost:8080/",
     "height": 297
    },
    "executionInfo": {
     "elapsed": 871,
     "status": "ok",
     "timestamp": 1627221964843,
     "user": {
      "displayName": "Mohamed Noordeen Alaudeen",
      "photoUrl": "",
      "userId": "13097854355562551879"
     },
     "user_tz": -330
    },
    "id": "7g3TkGag5mVg",
    "outputId": "05324303-862d-40e0-ea47-49004d7fb852"
   },
   "outputs": [
    {
     "data": {
      "text/plain": [
       "<matplotlib.axes._subplots.AxesSubplot at 0x7f6fca8f5350>"
      ]
     },
     "execution_count": 178,
     "metadata": {
      "tags": []
     },
     "output_type": "execute_result"
    },
    {
     "data": {
      "image/png": "[encoded data removed]",
      "text/plain": [
       "<Figure size 432x288 with 1 Axes>"
      ]
     },
     "metadata": {
      "needs_background": "light",
      "tags": []
     },
     "output_type": "display_data"
    }
   ],
   "source": [
    "sns.boxplot(data = train, x = \"Outlet_Type\", y = \"Item_Outlet_Sales\", hue = \"Outlet_Identifier\")\n",
    "\n"
   ]
  },
  {
   "cell_type": "code",
   "execution_count": 179,
   "metadata": {
    "colab": {
     "base_uri": "https://localhost:8080/"
    },
    "executionInfo": {
     "elapsed": 63,
     "status": "ok",
     "timestamp": 1627221964844,
     "user": {
      "displayName": "Mohamed Noordeen Alaudeen",
      "photoUrl": "",
      "userId": "13097854355562551879"
     },
     "user_tz": -330
    },
    "id": "I0D5cgkw5mVh",
    "outputId": "358ab50d-7998-4719-af67-aba9d2ccba8e",
    "scrolled": true
   },
   "outputs": [
    {
     "data": {
      "text/plain": [
       "array([1985])"
      ]
     },
     "execution_count": 179,
     "metadata": {
      "tags": []
     },
     "output_type": "execute_result"
    }
   ],
   "source": [
    "data[data[\"Outlet_Identifier\"]==\"OUT027\"].Outlet_Establishment_Year.unique()"
   ]
  },
  {
   "cell_type": "code",
   "execution_count": 180,
   "metadata": {
    "executionInfo": {
     "elapsed": 55,
     "status": "ok",
     "timestamp": 1627221964844,
     "user": {
      "displayName": "Mohamed Noordeen Alaudeen",
      "photoUrl": "",
      "userId": "13097854355562551879"
     },
     "user_tz": -330
    },
    "id": "_0dU8aa55mVh"
   },
   "outputs": [],
   "source": [
    "data[\"Item_Identifier_group\"] = data[\"Item_Identifier\"].apply(lambda x : x[0:2])"
   ]
  },
  {
   "cell_type": "code",
   "execution_count": 181,
   "metadata": {
    "colab": {
     "base_uri": "https://localhost:8080/"
    },
    "executionInfo": {
     "elapsed": 56,
     "status": "ok",
     "timestamp": 1627221964845,
     "user": {
      "displayName": "Mohamed Noordeen Alaudeen",
      "photoUrl": "",
      "userId": "13097854355562551879"
     },
     "user_tz": -330
    },
    "id": "askyIzNx5mVh",
    "outputId": "3ca3a0c3-f370-49ba-98e6-52e2c0d8e042"
   },
   "outputs": [
    {
     "data": {
      "text/plain": [
       "Item_Identifier_group  Item_Type            \n",
       "DR                     Soft Drinks               726\n",
       "                       Hard Drinks               362\n",
       "                       Dairy                     229\n",
       "FD                     Fruits and Vegetables    2013\n",
       "                       Snack Foods              1989\n",
       "                       Frozen Foods             1426\n",
       "                       Baking Goods             1086\n",
       "                       Canned                   1084\n",
       "                       Dairy                     907\n",
       "                       Meat                      736\n",
       "                       Breads                    416\n",
       "                       Starchy Foods             269\n",
       "                       Breakfast                 186\n",
       "                       Seafood                    89\n",
       "NC                     Household                1548\n",
       "                       Health and Hygiene        858\n",
       "                       Others                    280\n",
       "Name: Item_Type, dtype: int64"
      ]
     },
     "execution_count": 181,
     "metadata": {
      "tags": []
     },
     "output_type": "execute_result"
    }
   ],
   "source": [
    "data.groupby(\"Item_Identifier_group\").Item_Type.value_counts()"
   ]
  },
  {
   "cell_type": "markdown",
   "metadata": {
    "id": "hJIvvInU5mVh"
   },
   "source": [
    "# Data Preprocessing"
   ]
  },
  {
   "cell_type": "code",
   "execution_count": 182,
   "metadata": {
    "executionInfo": {
     "elapsed": 50,
     "status": "ok",
     "timestamp": 1627221964845,
     "user": {
      "displayName": "Mohamed Noordeen Alaudeen",
      "photoUrl": "",
      "userId": "13097854355562551879"
     },
     "user_tz": -330
    },
    "id": "PvwHY3tD5mVh"
   },
   "outputs": [],
   "source": [
    "#Check for duplicates"
   ]
  },
  {
   "cell_type": "code",
   "execution_count": 183,
   "metadata": {
    "colab": {
     "base_uri": "https://localhost:8080/"
    },
    "executionInfo": {
     "elapsed": 50,
     "status": "ok",
     "timestamp": 1627221964846,
     "user": {
      "displayName": "Mohamed Noordeen Alaudeen",
      "photoUrl": "",
      "userId": "13097854355562551879"
     },
     "user_tz": -330
    },
    "id": "Cn4EydO05mVh",
    "outputId": "b4ff259d-112d-4a92-ba58-447b11c3af38",
    "scrolled": true
   },
   "outputs": [
    {
     "data": {
      "text/plain": [
       "Item_Identifier              0.0\n",
       "Item_Weight                  0.0\n",
       "Item_Fat_Content             0.0\n",
       "Item_Visibility              0.0\n",
       "Item_Type                    0.0\n",
       "Item_MRP                     0.0\n",
       "Outlet_Identifier            0.0\n",
       "Outlet_Establishment_Year    0.0\n",
       "Outlet_Size                  0.0\n",
       "Outlet_Location_Type         0.0\n",
       "Outlet_Type                  0.0\n",
       "Item_Outlet_Sales            0.0\n",
       "data                         0.0\n",
       "Item_Identifier_group        0.0\n",
       "dtype: float64"
      ]
     },
     "execution_count": 183,
     "metadata": {
      "tags": []
     },
     "output_type": "execute_result"
    }
   ],
   "source": [
    "data[data.duplicated()].sum()"
   ]
  },
  {
   "cell_type": "code",
   "execution_count": 184,
   "metadata": {
    "executionInfo": {
     "elapsed": 45,
     "status": "ok",
     "timestamp": 1627221964846,
     "user": {
      "displayName": "Mohamed Noordeen Alaudeen",
      "photoUrl": "",
      "userId": "13097854355562551879"
     },
     "user_tz": -330
    },
    "id": "XJ1xqBzH5mVh"
   },
   "outputs": [],
   "source": [
    "#Item_Fat_Content replace"
   ]
  },
  {
   "cell_type": "code",
   "execution_count": 185,
   "metadata": {
    "colab": {
     "base_uri": "https://localhost:8080/"
    },
    "executionInfo": {
     "elapsed": 44,
     "status": "ok",
     "timestamp": 1627221964846,
     "user": {
      "displayName": "Mohamed Noordeen Alaudeen",
      "photoUrl": "",
      "userId": "13097854355562551879"
     },
     "user_tz": -330
    },
    "id": "KhW3ehL35mVi",
    "outputId": "404eae7f-8ff1-4a1f-d28b-a1eeed768549"
   },
   "outputs": [
    {
     "data": {
      "text/plain": [
       "array(['Low Fat', 'Regular', 'low fat', 'LF', 'reg'], dtype=object)"
      ]
     },
     "execution_count": 185,
     "metadata": {
      "tags": []
     },
     "output_type": "execute_result"
    }
   ],
   "source": [
    "data[\"Item_Fat_Content\"].unique()"
   ]
  },
  {
   "cell_type": "code",
   "execution_count": 186,
   "metadata": {
    "executionInfo": {
     "elapsed": 39,
     "status": "ok",
     "timestamp": 1627221964847,
     "user": {
      "displayName": "Mohamed Noordeen Alaudeen",
      "photoUrl": "",
      "userId": "13097854355562551879"
     },
     "user_tz": -330
    },
    "id": "50m18uuJ5mVi"
   },
   "outputs": [],
   "source": [
    "data[\"Item_Fat_Content\"].replace({'low fat':'Low Fat', 'LF':'Low Fat', 'reg': 'Regular' }, inplace = True)"
   ]
  },
  {
   "cell_type": "code",
   "execution_count": 187,
   "metadata": {
    "colab": {
     "base_uri": "https://localhost:8080/"
    },
    "executionInfo": {
     "elapsed": 39,
     "status": "ok",
     "timestamp": 1627221964848,
     "user": {
      "displayName": "Mohamed Noordeen Alaudeen",
      "photoUrl": "",
      "userId": "13097854355562551879"
     },
     "user_tz": -330
    },
    "id": "ifHKzARE5mVi",
    "outputId": "704b8444-e25e-49d4-943c-bb25c8af6e89"
   },
   "outputs": [
    {
     "data": {
      "text/plain": [
       "array(['Low Fat', 'Regular'], dtype=object)"
      ]
     },
     "execution_count": 187,
     "metadata": {
      "tags": []
     },
     "output_type": "execute_result"
    }
   ],
   "source": [
    "data[\"Item_Fat_Content\"].unique()"
   ]
  },
  {
   "cell_type": "code",
   "execution_count": 188,
   "metadata": {
    "colab": {
     "base_uri": "https://localhost:8080/"
    },
    "executionInfo": {
     "elapsed": 34,
     "status": "ok",
     "timestamp": 1627221964848,
     "user": {
      "displayName": "Mohamed Noordeen Alaudeen",
      "photoUrl": "",
      "userId": "13097854355562551879"
     },
     "user_tz": -330
    },
    "id": "Wk_yqZxX5mVi",
    "outputId": "d5e88059-a616-4976-8fae-08ae514a7b5f"
   },
   "outputs": [
    {
     "data": {
      "text/plain": [
       "Low Fat    9185\n",
       "Regular    5019\n",
       "Name: Item_Fat_Content, dtype: int64"
      ]
     },
     "execution_count": 188,
     "metadata": {
      "tags": []
     },
     "output_type": "execute_result"
    }
   ],
   "source": [
    "data[\"Item_Fat_Content\"].value_counts()"
   ]
  },
  {
   "cell_type": "code",
   "execution_count": 189,
   "metadata": {
    "executionInfo": {
     "elapsed": 30,
     "status": "ok",
     "timestamp": 1627221964849,
     "user": {
      "displayName": "Mohamed Noordeen Alaudeen",
      "photoUrl": "",
      "userId": "13097854355562551879"
     },
     "user_tz": -330
    },
    "id": "496UnV3K5mVj"
   },
   "outputs": [],
   "source": [
    "#Replacing the nulls"
   ]
  },
  {
   "cell_type": "code",
   "execution_count": 190,
   "metadata": {
    "colab": {
     "base_uri": "https://localhost:8080/"
    },
    "executionInfo": {
     "elapsed": 30,
     "status": "ok",
     "timestamp": 1627221964849,
     "user": {
      "displayName": "Mohamed Noordeen Alaudeen",
      "photoUrl": "",
      "userId": "13097854355562551879"
     },
     "user_tz": -330
    },
    "id": "DKRAQvDI5mVj",
    "outputId": "e755798e-576a-4865-eaeb-678b1ddb67ad",
    "scrolled": true
   },
   "outputs": [
    {
     "data": {
      "text/plain": [
       "0         9.30\n",
       "1         5.92\n",
       "2        17.50\n",
       "3        19.20\n",
       "4         8.93\n",
       "         ...  \n",
       "14199    10.50\n",
       "14200     7.60\n",
       "14201    10.00\n",
       "14202    15.30\n",
       "14203     9.50\n",
       "Name: Item_Weight, Length: 14204, dtype: float64"
      ]
     },
     "execution_count": 190,
     "metadata": {
      "tags": []
     },
     "output_type": "execute_result"
    }
   ],
   "source": [
    "data[\"Item_Weight\"]"
   ]
  },
  {
   "cell_type": "code",
   "execution_count": 191,
   "metadata": {
    "colab": {
     "base_uri": "https://localhost:8080/"
    },
    "executionInfo": {
     "elapsed": 25,
     "status": "ok",
     "timestamp": 1627221964849,
     "user": {
      "displayName": "Mohamed Noordeen Alaudeen",
      "photoUrl": "",
      "userId": "13097854355562551879"
     },
     "user_tz": -330
    },
    "id": "5kCsl-Ac5mVj",
    "outputId": "c1a384e9-08f8-4aa4-fa09-4891d3a2e0dd"
   },
   "outputs": [
    {
     "data": {
      "text/plain": [
       "Index(['Item_Identifier', 'Item_Weight', 'Item_Fat_Content', 'Item_Visibility',\n",
       "       'Item_Type', 'Item_MRP', 'Outlet_Identifier',\n",
       "       'Outlet_Establishment_Year', 'Outlet_Size', 'Outlet_Location_Type',\n",
       "       'Outlet_Type', 'Item_Outlet_Sales', 'data', 'Item_Identifier_group'],\n",
       "      dtype='object')"
      ]
     },
     "execution_count": 191,
     "metadata": {
      "tags": []
     },
     "output_type": "execute_result"
    }
   ],
   "source": [
    "data.columns"
   ]
  },
  {
   "cell_type": "code",
   "execution_count": 192,
   "metadata": {
    "colab": {
     "base_uri": "https://localhost:8080/"
    },
    "executionInfo": {
     "elapsed": 21,
     "status": "ok",
     "timestamp": 1627221964850,
     "user": {
      "displayName": "Mohamed Noordeen Alaudeen",
      "photoUrl": "",
      "userId": "13097854355562551879"
     },
     "user_tz": -330
    },
    "id": "zOviCyAP5mVj",
    "outputId": "973daef7-18f8-4f1d-86a4-41138879ae6d",
    "scrolled": true
   },
   "outputs": [
    {
     "data": {
      "text/plain": [
       "Item_Weight    19.0\n",
       "Name: FDP10, dtype: float64"
      ]
     },
     "execution_count": 192,
     "metadata": {
      "tags": []
     },
     "output_type": "execute_result"
    }
   ],
   "source": [
    "data.pivot_table(values=\"Item_Weight\", index = \"Item_Identifier\").loc['FDP10']"
   ]
  },
  {
   "cell_type": "code",
   "execution_count": 193,
   "metadata": {
    "colab": {
     "base_uri": "https://localhost:8080/",
     "height": 595
    },
    "executionInfo": {
     "elapsed": 16,
     "status": "ok",
     "timestamp": 1627221964850,
     "user": {
      "displayName": "Mohamed Noordeen Alaudeen",
      "photoUrl": "",
      "userId": "13097854355562551879"
     },
     "user_tz": -330
    },
    "id": "FzMQsmOe5mVj",
    "outputId": "a3fdd8a2-c990-4271-de41-59731266241a"
   },
   "outputs": [
    {
     "data": {
      "text/html": [
       "<div>\n",
       "<style scoped>\n",
       "    .dataframe tbody tr th:only-of-type {\n",
       "        vertical-align: middle;\n",
       "    }\n",
       "\n",
       "    .dataframe tbody tr th {\n",
       "        vertical-align: top;\n",
       "    }\n",
       "\n",
       "    .dataframe thead th {\n",
       "        text-align: right;\n",
       "    }\n",
       "</style>\n",
       "<table border=\"1\" class=\"dataframe\">\n",
       "  <thead>\n",
       "    <tr style=\"text-align: right;\">\n",
       "      <th></th>\n",
       "      <th>Item_Identifier</th>\n",
       "      <th>Item_Weight</th>\n",
       "      <th>Item_Fat_Content</th>\n",
       "      <th>Item_Visibility</th>\n",
       "      <th>Item_Type</th>\n",
       "      <th>Item_MRP</th>\n",
       "      <th>Outlet_Identifier</th>\n",
       "      <th>Outlet_Establishment_Year</th>\n",
       "      <th>Outlet_Size</th>\n",
       "      <th>Outlet_Location_Type</th>\n",
       "      <th>Outlet_Type</th>\n",
       "      <th>Item_Outlet_Sales</th>\n",
       "      <th>data</th>\n",
       "      <th>Item_Identifier_group</th>\n",
       "    </tr>\n",
       "  </thead>\n",
       "  <tbody>\n",
       "    <tr>\n",
       "      <th>7</th>\n",
       "      <td>FDP10</td>\n",
       "      <td>NaN</td>\n",
       "      <td>Low Fat</td>\n",
       "      <td>0.127470</td>\n",
       "      <td>Snack Foods</td>\n",
       "      <td>107.7622</td>\n",
       "      <td>OUT027</td>\n",
       "      <td>1985</td>\n",
       "      <td>Medium</td>\n",
       "      <td>Tier 3</td>\n",
       "      <td>Supermarket Type3</td>\n",
       "      <td>4022.7636</td>\n",
       "      <td>train</td>\n",
       "      <td>FD</td>\n",
       "    </tr>\n",
       "    <tr>\n",
       "      <th>18</th>\n",
       "      <td>DRI11</td>\n",
       "      <td>NaN</td>\n",
       "      <td>Low Fat</td>\n",
       "      <td>0.034238</td>\n",
       "      <td>Hard Drinks</td>\n",
       "      <td>113.2834</td>\n",
       "      <td>OUT027</td>\n",
       "      <td>1985</td>\n",
       "      <td>Medium</td>\n",
       "      <td>Tier 3</td>\n",
       "      <td>Supermarket Type3</td>\n",
       "      <td>2303.6680</td>\n",
       "      <td>train</td>\n",
       "      <td>DR</td>\n",
       "    </tr>\n",
       "    <tr>\n",
       "      <th>21</th>\n",
       "      <td>FDW12</td>\n",
       "      <td>NaN</td>\n",
       "      <td>Regular</td>\n",
       "      <td>0.035400</td>\n",
       "      <td>Baking Goods</td>\n",
       "      <td>144.5444</td>\n",
       "      <td>OUT027</td>\n",
       "      <td>1985</td>\n",
       "      <td>Medium</td>\n",
       "      <td>Tier 3</td>\n",
       "      <td>Supermarket Type3</td>\n",
       "      <td>4064.0432</td>\n",
       "      <td>train</td>\n",
       "      <td>FD</td>\n",
       "    </tr>\n",
       "    <tr>\n",
       "      <th>23</th>\n",
       "      <td>FDC37</td>\n",
       "      <td>NaN</td>\n",
       "      <td>Low Fat</td>\n",
       "      <td>0.057557</td>\n",
       "      <td>Baking Goods</td>\n",
       "      <td>107.6938</td>\n",
       "      <td>OUT019</td>\n",
       "      <td>1985</td>\n",
       "      <td>Small</td>\n",
       "      <td>Tier 1</td>\n",
       "      <td>Grocery Store</td>\n",
       "      <td>214.3876</td>\n",
       "      <td>train</td>\n",
       "      <td>FD</td>\n",
       "    </tr>\n",
       "    <tr>\n",
       "      <th>29</th>\n",
       "      <td>FDC14</td>\n",
       "      <td>NaN</td>\n",
       "      <td>Regular</td>\n",
       "      <td>0.072222</td>\n",
       "      <td>Canned</td>\n",
       "      <td>43.6454</td>\n",
       "      <td>OUT019</td>\n",
       "      <td>1985</td>\n",
       "      <td>Small</td>\n",
       "      <td>Tier 1</td>\n",
       "      <td>Grocery Store</td>\n",
       "      <td>125.8362</td>\n",
       "      <td>train</td>\n",
       "      <td>FD</td>\n",
       "    </tr>\n",
       "    <tr>\n",
       "      <th>...</th>\n",
       "      <td>...</td>\n",
       "      <td>...</td>\n",
       "      <td>...</td>\n",
       "      <td>...</td>\n",
       "      <td>...</td>\n",
       "      <td>...</td>\n",
       "      <td>...</td>\n",
       "      <td>...</td>\n",
       "      <td>...</td>\n",
       "      <td>...</td>\n",
       "      <td>...</td>\n",
       "      <td>...</td>\n",
       "      <td>...</td>\n",
       "      <td>...</td>\n",
       "    </tr>\n",
       "    <tr>\n",
       "      <th>14178</th>\n",
       "      <td>FDX32</td>\n",
       "      <td>NaN</td>\n",
       "      <td>Regular</td>\n",
       "      <td>0.099375</td>\n",
       "      <td>Fruits and Vegetables</td>\n",
       "      <td>143.6786</td>\n",
       "      <td>OUT027</td>\n",
       "      <td>1985</td>\n",
       "      <td>Medium</td>\n",
       "      <td>Tier 3</td>\n",
       "      <td>Supermarket Type3</td>\n",
       "      <td>NaN</td>\n",
       "      <td>test</td>\n",
       "      <td>FD</td>\n",
       "    </tr>\n",
       "    <tr>\n",
       "      <th>14179</th>\n",
       "      <td>FDC39</td>\n",
       "      <td>NaN</td>\n",
       "      <td>Low Fat</td>\n",
       "      <td>0.158425</td>\n",
       "      <td>Dairy</td>\n",
       "      <td>207.8296</td>\n",
       "      <td>OUT027</td>\n",
       "      <td>1985</td>\n",
       "      <td>Medium</td>\n",
       "      <td>Tier 3</td>\n",
       "      <td>Supermarket Type3</td>\n",
       "      <td>NaN</td>\n",
       "      <td>test</td>\n",
       "      <td>FD</td>\n",
       "    </tr>\n",
       "    <tr>\n",
       "      <th>14184</th>\n",
       "      <td>DRG37</td>\n",
       "      <td>NaN</td>\n",
       "      <td>Low Fat</td>\n",
       "      <td>0.000000</td>\n",
       "      <td>Soft Drinks</td>\n",
       "      <td>155.7972</td>\n",
       "      <td>OUT027</td>\n",
       "      <td>1985</td>\n",
       "      <td>Medium</td>\n",
       "      <td>Tier 3</td>\n",
       "      <td>Supermarket Type3</td>\n",
       "      <td>NaN</td>\n",
       "      <td>test</td>\n",
       "      <td>DR</td>\n",
       "    </tr>\n",
       "    <tr>\n",
       "      <th>14188</th>\n",
       "      <td>DRE03</td>\n",
       "      <td>NaN</td>\n",
       "      <td>Low Fat</td>\n",
       "      <td>0.024110</td>\n",
       "      <td>Dairy</td>\n",
       "      <td>46.0718</td>\n",
       "      <td>OUT027</td>\n",
       "      <td>1985</td>\n",
       "      <td>Medium</td>\n",
       "      <td>Tier 3</td>\n",
       "      <td>Supermarket Type3</td>\n",
       "      <td>NaN</td>\n",
       "      <td>test</td>\n",
       "      <td>DR</td>\n",
       "    </tr>\n",
       "    <tr>\n",
       "      <th>14192</th>\n",
       "      <td>FDN31</td>\n",
       "      <td>NaN</td>\n",
       "      <td>Low Fat</td>\n",
       "      <td>0.072529</td>\n",
       "      <td>Fruits and Vegetables</td>\n",
       "      <td>188.0530</td>\n",
       "      <td>OUT027</td>\n",
       "      <td>1985</td>\n",
       "      <td>Medium</td>\n",
       "      <td>Tier 3</td>\n",
       "      <td>Supermarket Type3</td>\n",
       "      <td>NaN</td>\n",
       "      <td>test</td>\n",
       "      <td>FD</td>\n",
       "    </tr>\n",
       "  </tbody>\n",
       "</table>\n",
       "<p>2439 rows × 14 columns</p>\n",
       "</div>"
      ],
      "text/plain": [
       "      Item_Identifier  Item_Weight  ...   data  Item_Identifier_group\n",
       "7               FDP10          NaN  ...  train                     FD\n",
       "18              DRI11          NaN  ...  train                     DR\n",
       "21              FDW12          NaN  ...  train                     FD\n",
       "23              FDC37          NaN  ...  train                     FD\n",
       "29              FDC14          NaN  ...  train                     FD\n",
       "...               ...          ...  ...    ...                    ...\n",
       "14178           FDX32          NaN  ...   test                     FD\n",
       "14179           FDC39          NaN  ...   test                     FD\n",
       "14184           DRG37          NaN  ...   test                     DR\n",
       "14188           DRE03          NaN  ...   test                     DR\n",
       "14192           FDN31          NaN  ...   test                     FD\n",
       "\n",
       "[2439 rows x 14 columns]"
      ]
     },
     "execution_count": 193,
     "metadata": {
      "tags": []
     },
     "output_type": "execute_result"
    }
   ],
   "source": [
    "data[data[\"Item_Weight\"].isna()]"
   ]
  },
  {
   "cell_type": "code",
   "execution_count": 194,
   "metadata": {
    "executionInfo": {
     "elapsed": 707,
     "status": "ok",
     "timestamp": 1627221965542,
     "user": {
      "displayName": "Mohamed Noordeen Alaudeen",
      "photoUrl": "",
      "userId": "13097854355562551879"
     },
     "user_tz": -330
    },
    "id": "iBko7cCw5mVj"
   },
   "outputs": [],
   "source": [
    "data[\"Item_Weight\"] = data.groupby(\"Item_Identifier\").Item_Weight.transform(lambda x: x.fillna(x.mean()))"
   ]
  },
  {
   "cell_type": "code",
   "execution_count": 195,
   "metadata": {
    "colab": {
     "base_uri": "https://localhost:8080/",
     "height": 69
    },
    "executionInfo": {
     "elapsed": 39,
     "status": "ok",
     "timestamp": 1627221965543,
     "user": {
      "displayName": "Mohamed Noordeen Alaudeen",
      "photoUrl": "",
      "userId": "13097854355562551879"
     },
     "user_tz": -330
    },
    "id": "INh6UDUd5mVk",
    "outputId": "45b408aa-339b-44e8-965a-997fca88fc79",
    "scrolled": true
   },
   "outputs": [
    {
     "data": {
      "text/html": [
       "<div>\n",
       "<style scoped>\n",
       "    .dataframe tbody tr th:only-of-type {\n",
       "        vertical-align: middle;\n",
       "    }\n",
       "\n",
       "    .dataframe tbody tr th {\n",
       "        vertical-align: top;\n",
       "    }\n",
       "\n",
       "    .dataframe thead th {\n",
       "        text-align: right;\n",
       "    }\n",
       "</style>\n",
       "<table border=\"1\" class=\"dataframe\">\n",
       "  <thead>\n",
       "    <tr style=\"text-align: right;\">\n",
       "      <th></th>\n",
       "      <th>Item_Identifier</th>\n",
       "      <th>Item_Weight</th>\n",
       "      <th>Item_Fat_Content</th>\n",
       "      <th>Item_Visibility</th>\n",
       "      <th>Item_Type</th>\n",
       "      <th>Item_MRP</th>\n",
       "      <th>Outlet_Identifier</th>\n",
       "      <th>Outlet_Establishment_Year</th>\n",
       "      <th>Outlet_Size</th>\n",
       "      <th>Outlet_Location_Type</th>\n",
       "      <th>Outlet_Type</th>\n",
       "      <th>Item_Outlet_Sales</th>\n",
       "      <th>data</th>\n",
       "      <th>Item_Identifier_group</th>\n",
       "    </tr>\n",
       "  </thead>\n",
       "  <tbody>\n",
       "  </tbody>\n",
       "</table>\n",
       "</div>"
      ],
      "text/plain": [
       "Empty DataFrame\n",
       "Columns: [Item_Identifier, Item_Weight, Item_Fat_Content, Item_Visibility, Item_Type, Item_MRP, Outlet_Identifier, Outlet_Establishment_Year, Outlet_Size, Outlet_Location_Type, Outlet_Type, Item_Outlet_Sales, data, Item_Identifier_group]\n",
       "Index: []"
      ]
     },
     "execution_count": 195,
     "metadata": {
      "tags": []
     },
     "output_type": "execute_result"
    }
   ],
   "source": [
    "data[data[\"Item_Weight\"].isna()]"
   ]
  },
  {
   "cell_type": "code",
   "execution_count": 196,
   "metadata": {
    "colab": {
     "base_uri": "https://localhost:8080/",
     "height": 504
    },
    "executionInfo": {
     "elapsed": 38,
     "status": "ok",
     "timestamp": 1627221965543,
     "user": {
      "displayName": "Mohamed Noordeen Alaudeen",
      "photoUrl": "",
      "userId": "13097854355562551879"
     },
     "user_tz": -330
    },
    "id": "w715wJ8I5mVk",
    "outputId": "b95222e6-f9b6-4d49-baab-802ebc1a74d3"
   },
   "outputs": [
    {
     "data": {
      "text/html": [
       "<div>\n",
       "<style scoped>\n",
       "    .dataframe tbody tr th:only-of-type {\n",
       "        vertical-align: middle;\n",
       "    }\n",
       "\n",
       "    .dataframe tbody tr th {\n",
       "        vertical-align: top;\n",
       "    }\n",
       "\n",
       "    .dataframe thead th {\n",
       "        text-align: right;\n",
       "    }\n",
       "</style>\n",
       "<table border=\"1\" class=\"dataframe\">\n",
       "  <thead>\n",
       "    <tr style=\"text-align: right;\">\n",
       "      <th></th>\n",
       "      <th>Item_Identifier</th>\n",
       "      <th>Item_Weight</th>\n",
       "      <th>Item_Fat_Content</th>\n",
       "      <th>Item_Visibility</th>\n",
       "      <th>Item_Type</th>\n",
       "      <th>Item_MRP</th>\n",
       "      <th>Outlet_Identifier</th>\n",
       "      <th>Outlet_Establishment_Year</th>\n",
       "      <th>Outlet_Size</th>\n",
       "      <th>Outlet_Location_Type</th>\n",
       "      <th>Outlet_Type</th>\n",
       "      <th>Item_Outlet_Sales</th>\n",
       "      <th>data</th>\n",
       "      <th>Item_Identifier_group</th>\n",
       "    </tr>\n",
       "  </thead>\n",
       "  <tbody>\n",
       "    <tr>\n",
       "      <th>927</th>\n",
       "      <td>FDN52</td>\n",
       "      <td>9.395</td>\n",
       "      <td>Regular</td>\n",
       "      <td>0.130933</td>\n",
       "      <td>Frozen Foods</td>\n",
       "      <td>86.9198</td>\n",
       "      <td>OUT027</td>\n",
       "      <td>1985</td>\n",
       "      <td>Medium</td>\n",
       "      <td>Tier 3</td>\n",
       "      <td>Supermarket Type3</td>\n",
       "      <td>1569.9564</td>\n",
       "      <td>train</td>\n",
       "      <td>FD</td>\n",
       "    </tr>\n",
       "    <tr>\n",
       "      <th>8919</th>\n",
       "      <td>FDN52</td>\n",
       "      <td>9.395</td>\n",
       "      <td>Regular</td>\n",
       "      <td>0.131774</td>\n",
       "      <td>Frozen Foods</td>\n",
       "      <td>87.7198</td>\n",
       "      <td>OUT049</td>\n",
       "      <td>1999</td>\n",
       "      <td>Medium</td>\n",
       "      <td>Tier 1</td>\n",
       "      <td>Supermarket Type1</td>\n",
       "      <td>NaN</td>\n",
       "      <td>test</td>\n",
       "      <td>FD</td>\n",
       "    </tr>\n",
       "    <tr>\n",
       "      <th>10070</th>\n",
       "      <td>FDN52</td>\n",
       "      <td>9.395</td>\n",
       "      <td>Regular</td>\n",
       "      <td>0.220221</td>\n",
       "      <td>Frozen Foods</td>\n",
       "      <td>88.1198</td>\n",
       "      <td>OUT010</td>\n",
       "      <td>1998</td>\n",
       "      <td>NaN</td>\n",
       "      <td>Tier 3</td>\n",
       "      <td>Grocery Store</td>\n",
       "      <td>NaN</td>\n",
       "      <td>test</td>\n",
       "      <td>FD</td>\n",
       "    </tr>\n",
       "    <tr>\n",
       "      <th>11486</th>\n",
       "      <td>FDN52</td>\n",
       "      <td>9.395</td>\n",
       "      <td>Regular</td>\n",
       "      <td>0.132314</td>\n",
       "      <td>Frozen Foods</td>\n",
       "      <td>88.5198</td>\n",
       "      <td>OUT017</td>\n",
       "      <td>2007</td>\n",
       "      <td>NaN</td>\n",
       "      <td>Tier 2</td>\n",
       "      <td>Supermarket Type1</td>\n",
       "      <td>NaN</td>\n",
       "      <td>test</td>\n",
       "      <td>FD</td>\n",
       "    </tr>\n",
       "    <tr>\n",
       "      <th>11593</th>\n",
       "      <td>FDN52</td>\n",
       "      <td>9.395</td>\n",
       "      <td>Regular</td>\n",
       "      <td>0.131460</td>\n",
       "      <td>Frozen Foods</td>\n",
       "      <td>85.2198</td>\n",
       "      <td>OUT013</td>\n",
       "      <td>1987</td>\n",
       "      <td>High</td>\n",
       "      <td>Tier 3</td>\n",
       "      <td>Supermarket Type1</td>\n",
       "      <td>NaN</td>\n",
       "      <td>test</td>\n",
       "      <td>FD</td>\n",
       "    </tr>\n",
       "    <tr>\n",
       "      <th>11694</th>\n",
       "      <td>FDN52</td>\n",
       "      <td>9.395</td>\n",
       "      <td>Regular</td>\n",
       "      <td>0.131570</td>\n",
       "      <td>Frozen Foods</td>\n",
       "      <td>88.1198</td>\n",
       "      <td>OUT046</td>\n",
       "      <td>1997</td>\n",
       "      <td>Small</td>\n",
       "      <td>Tier 1</td>\n",
       "      <td>Supermarket Type1</td>\n",
       "      <td>NaN</td>\n",
       "      <td>test</td>\n",
       "      <td>FD</td>\n",
       "    </tr>\n",
       "    <tr>\n",
       "      <th>12102</th>\n",
       "      <td>FDN52</td>\n",
       "      <td>9.395</td>\n",
       "      <td>Regular</td>\n",
       "      <td>0.131545</td>\n",
       "      <td>Frozen Foods</td>\n",
       "      <td>87.3198</td>\n",
       "      <td>OUT035</td>\n",
       "      <td>2004</td>\n",
       "      <td>Small</td>\n",
       "      <td>Tier 2</td>\n",
       "      <td>Supermarket Type1</td>\n",
       "      <td>NaN</td>\n",
       "      <td>test</td>\n",
       "      <td>FD</td>\n",
       "    </tr>\n",
       "    <tr>\n",
       "      <th>12775</th>\n",
       "      <td>FDN52</td>\n",
       "      <td>9.395</td>\n",
       "      <td>Regular</td>\n",
       "      <td>0.132106</td>\n",
       "      <td>Frozen Foods</td>\n",
       "      <td>85.3198</td>\n",
       "      <td>OUT018</td>\n",
       "      <td>2009</td>\n",
       "      <td>Medium</td>\n",
       "      <td>Tier 3</td>\n",
       "      <td>Supermarket Type2</td>\n",
       "      <td>NaN</td>\n",
       "      <td>test</td>\n",
       "      <td>FD</td>\n",
       "    </tr>\n",
       "    <tr>\n",
       "      <th>13794</th>\n",
       "      <td>FDN52</td>\n",
       "      <td>9.395</td>\n",
       "      <td>Regular</td>\n",
       "      <td>0.131837</td>\n",
       "      <td>Frozen Foods</td>\n",
       "      <td>85.2198</td>\n",
       "      <td>OUT045</td>\n",
       "      <td>2002</td>\n",
       "      <td>NaN</td>\n",
       "      <td>Tier 2</td>\n",
       "      <td>Supermarket Type1</td>\n",
       "      <td>NaN</td>\n",
       "      <td>test</td>\n",
       "      <td>FD</td>\n",
       "    </tr>\n",
       "  </tbody>\n",
       "</table>\n",
       "</div>"
      ],
      "text/plain": [
       "      Item_Identifier  Item_Weight  ...   data  Item_Identifier_group\n",
       "927             FDN52        9.395  ...  train                     FD\n",
       "8919            FDN52        9.395  ...   test                     FD\n",
       "10070           FDN52        9.395  ...   test                     FD\n",
       "11486           FDN52        9.395  ...   test                     FD\n",
       "11593           FDN52        9.395  ...   test                     FD\n",
       "11694           FDN52        9.395  ...   test                     FD\n",
       "12102           FDN52        9.395  ...   test                     FD\n",
       "12775           FDN52        9.395  ...   test                     FD\n",
       "13794           FDN52        9.395  ...   test                     FD\n",
       "\n",
       "[9 rows x 14 columns]"
      ]
     },
     "execution_count": 196,
     "metadata": {
      "tags": []
     },
     "output_type": "execute_result"
    }
   ],
   "source": [
    "data[data[\"Item_Identifier\"] == \"FDN52\"]"
   ]
  },
  {
   "cell_type": "code",
   "execution_count": 196,
   "metadata": {
    "executionInfo": {
     "elapsed": 38,
     "status": "ok",
     "timestamp": 1627221965544,
     "user": {
      "displayName": "Mohamed Noordeen Alaudeen",
      "photoUrl": "",
      "userId": "13097854355562551879"
     },
     "user_tz": -330
    },
    "id": "Ah8jFQ_u5mVk"
   },
   "outputs": [],
   "source": []
  },
  {
   "cell_type": "code",
   "execution_count": 197,
   "metadata": {
    "colab": {
     "base_uri": "https://localhost:8080/"
    },
    "executionInfo": {
     "elapsed": 37,
     "status": "ok",
     "timestamp": 1627221965544,
     "user": {
      "displayName": "Mohamed Noordeen Alaudeen",
      "photoUrl": "",
      "userId": "13097854355562551879"
     },
     "user_tz": -330
    },
    "id": "bdcuhUAY5mVk",
    "outputId": "2e07d974-80b9-40e3-abc7-c7ae664c1e49"
   },
   "outputs": [
    {
     "data": {
      "text/plain": [
       "Item_Identifier                          FDP10\n",
       "Item_Weight                                 19\n",
       "Item_Fat_Content                       Low Fat\n",
       "Item_Visibility                        0.12747\n",
       "Item_Type                          Snack Foods\n",
       "Item_MRP                               107.762\n",
       "Outlet_Identifier                       OUT027\n",
       "Outlet_Establishment_Year                 1985\n",
       "Outlet_Size                             Medium\n",
       "Outlet_Location_Type                    Tier 3\n",
       "Outlet_Type                  Supermarket Type3\n",
       "Item_Outlet_Sales                      4022.76\n",
       "data                                     train\n",
       "Item_Identifier_group                       FD\n",
       "Name: 7, dtype: object"
      ]
     },
     "execution_count": 197,
     "metadata": {
      "tags": []
     },
     "output_type": "execute_result"
    }
   ],
   "source": [
    "data.loc[7]"
   ]
  },
  {
   "cell_type": "code",
   "execution_count": 198,
   "metadata": {
    "colab": {
     "base_uri": "https://localhost:8080/",
     "height": 69
    },
    "executionInfo": {
     "elapsed": 31,
     "status": "ok",
     "timestamp": 1627221965545,
     "user": {
      "displayName": "Mohamed Noordeen Alaudeen",
      "photoUrl": "",
      "userId": "13097854355562551879"
     },
     "user_tz": -330
    },
    "id": "s65zeC-A5mVk",
    "outputId": "bead9380-2651-4370-c023-6bf0e3f92473"
   },
   "outputs": [
    {
     "data": {
      "text/html": [
       "<div>\n",
       "<style scoped>\n",
       "    .dataframe tbody tr th:only-of-type {\n",
       "        vertical-align: middle;\n",
       "    }\n",
       "\n",
       "    .dataframe tbody tr th {\n",
       "        vertical-align: top;\n",
       "    }\n",
       "\n",
       "    .dataframe thead th {\n",
       "        text-align: right;\n",
       "    }\n",
       "</style>\n",
       "<table border=\"1\" class=\"dataframe\">\n",
       "  <thead>\n",
       "    <tr style=\"text-align: right;\">\n",
       "      <th></th>\n",
       "      <th>Item_Identifier</th>\n",
       "      <th>Item_Weight</th>\n",
       "      <th>Item_Fat_Content</th>\n",
       "      <th>Item_Visibility</th>\n",
       "      <th>Item_Type</th>\n",
       "      <th>Item_MRP</th>\n",
       "      <th>Outlet_Identifier</th>\n",
       "      <th>Outlet_Establishment_Year</th>\n",
       "      <th>Outlet_Size</th>\n",
       "      <th>Outlet_Location_Type</th>\n",
       "      <th>Outlet_Type</th>\n",
       "      <th>Item_Outlet_Sales</th>\n",
       "      <th>data</th>\n",
       "      <th>Item_Identifier_group</th>\n",
       "    </tr>\n",
       "  </thead>\n",
       "  <tbody>\n",
       "  </tbody>\n",
       "</table>\n",
       "</div>"
      ],
      "text/plain": [
       "Empty DataFrame\n",
       "Columns: [Item_Identifier, Item_Weight, Item_Fat_Content, Item_Visibility, Item_Type, Item_MRP, Outlet_Identifier, Outlet_Establishment_Year, Outlet_Size, Outlet_Location_Type, Outlet_Type, Item_Outlet_Sales, data, Item_Identifier_group]\n",
       "Index: []"
      ]
     },
     "execution_count": 198,
     "metadata": {
      "tags": []
     },
     "output_type": "execute_result"
    }
   ],
   "source": [
    "data[data[\"Item_Weight\"].isna()]"
   ]
  },
  {
   "cell_type": "code",
   "execution_count": 199,
   "metadata": {
    "colab": {
     "base_uri": "https://localhost:8080/"
    },
    "executionInfo": {
     "elapsed": 30,
     "status": "ok",
     "timestamp": 1627221965545,
     "user": {
      "displayName": "Mohamed Noordeen Alaudeen",
      "photoUrl": "",
      "userId": "13097854355562551879"
     },
     "user_tz": -330
    },
    "id": "1i0NiBnj5mVk",
    "outputId": "7db88285-2f7a-4ae4-9184-333dfdc127f1"
   },
   "outputs": [
    {
     "data": {
      "text/plain": [
       "Item_Identifier                 0\n",
       "Item_Weight                     0\n",
       "Item_Fat_Content                0\n",
       "Item_Visibility                 0\n",
       "Item_Type                       0\n",
       "Item_MRP                        0\n",
       "Outlet_Identifier               0\n",
       "Outlet_Establishment_Year       0\n",
       "Outlet_Size                  4016\n",
       "Outlet_Location_Type            0\n",
       "Outlet_Type                     0\n",
       "Item_Outlet_Sales            5681\n",
       "data                            0\n",
       "Item_Identifier_group           0\n",
       "dtype: int64"
      ]
     },
     "execution_count": 199,
     "metadata": {
      "tags": []
     },
     "output_type": "execute_result"
    }
   ],
   "source": [
    "data.isna().sum()"
   ]
  },
  {
   "cell_type": "code",
   "execution_count": 200,
   "metadata": {
    "colab": {
     "base_uri": "https://localhost:8080/"
    },
    "executionInfo": {
     "elapsed": 26,
     "status": "ok",
     "timestamp": 1627221965546,
     "user": {
      "displayName": "Mohamed Noordeen Alaudeen",
      "photoUrl": "",
      "userId": "13097854355562551879"
     },
     "user_tz": -330
    },
    "id": "AmU43iev5mVk",
    "outputId": "274ae09c-6f53-4443-bd18-1735e852f12c"
   },
   "outputs": [
    {
     "data": {
      "text/plain": [
       "4016"
      ]
     },
     "execution_count": 200,
     "metadata": {
      "tags": []
     },
     "output_type": "execute_result"
    }
   ],
   "source": [
    "data[\"Outlet_Size\"].isna().sum()"
   ]
  },
  {
   "cell_type": "code",
   "execution_count": 201,
   "metadata": {
    "colab": {
     "base_uri": "https://localhost:8080/",
     "height": 392
    },
    "executionInfo": {
     "elapsed": 20,
     "status": "ok",
     "timestamp": 1627221965546,
     "user": {
      "displayName": "Mohamed Noordeen Alaudeen",
      "photoUrl": "",
      "userId": "13097854355562551879"
     },
     "user_tz": -330
    },
    "id": "5MrMJsu95mVn",
    "outputId": "2c6c229f-ebf6-4f03-e801-9cf183d58c67"
   },
   "outputs": [
    {
     "data": {
      "text/html": [
       "<div>\n",
       "<style scoped>\n",
       "    .dataframe tbody tr th:only-of-type {\n",
       "        vertical-align: middle;\n",
       "    }\n",
       "\n",
       "    .dataframe tbody tr th {\n",
       "        vertical-align: top;\n",
       "    }\n",
       "\n",
       "    .dataframe thead th {\n",
       "        text-align: right;\n",
       "    }\n",
       "</style>\n",
       "<table border=\"1\" class=\"dataframe\">\n",
       "  <thead>\n",
       "    <tr style=\"text-align: right;\">\n",
       "      <th></th>\n",
       "      <th>Outlet_Size</th>\n",
       "    </tr>\n",
       "    <tr>\n",
       "      <th>Outlet_Identifier</th>\n",
       "      <th></th>\n",
       "    </tr>\n",
       "  </thead>\n",
       "  <tbody>\n",
       "    <tr>\n",
       "      <th>OUT010</th>\n",
       "      <td>0</td>\n",
       "    </tr>\n",
       "    <tr>\n",
       "      <th>OUT013</th>\n",
       "      <td>High</td>\n",
       "    </tr>\n",
       "    <tr>\n",
       "      <th>OUT017</th>\n",
       "      <td>0</td>\n",
       "    </tr>\n",
       "    <tr>\n",
       "      <th>OUT018</th>\n",
       "      <td>Medium</td>\n",
       "    </tr>\n",
       "    <tr>\n",
       "      <th>OUT019</th>\n",
       "      <td>Small</td>\n",
       "    </tr>\n",
       "    <tr>\n",
       "      <th>OUT027</th>\n",
       "      <td>Medium</td>\n",
       "    </tr>\n",
       "    <tr>\n",
       "      <th>OUT035</th>\n",
       "      <td>Small</td>\n",
       "    </tr>\n",
       "    <tr>\n",
       "      <th>OUT045</th>\n",
       "      <td>0</td>\n",
       "    </tr>\n",
       "    <tr>\n",
       "      <th>OUT046</th>\n",
       "      <td>Small</td>\n",
       "    </tr>\n",
       "    <tr>\n",
       "      <th>OUT049</th>\n",
       "      <td>Medium</td>\n",
       "    </tr>\n",
       "  </tbody>\n",
       "</table>\n",
       "</div>"
      ],
      "text/plain": [
       "                  Outlet_Size\n",
       "Outlet_Identifier            \n",
       "OUT010                      0\n",
       "OUT013                   High\n",
       "OUT017                      0\n",
       "OUT018                 Medium\n",
       "OUT019                  Small\n",
       "OUT027                 Medium\n",
       "OUT035                  Small\n",
       "OUT045                      0\n",
       "OUT046                  Small\n",
       "OUT049                 Medium"
      ]
     },
     "execution_count": 201,
     "metadata": {
      "tags": []
     },
     "output_type": "execute_result"
    }
   ],
   "source": [
    "from scipy.stats import mode\n",
    "data.pivot_table(values=\"Outlet_Size\", index = \"Outlet_Identifier\", aggfunc=(lambda x: mode(x).mode[0]))"
   ]
  },
  {
   "cell_type": "code",
   "execution_count": 202,
   "metadata": {
    "executionInfo": {
     "elapsed": 18,
     "status": "ok",
     "timestamp": 1627221965546,
     "user": {
      "displayName": "Mohamed Noordeen Alaudeen",
      "photoUrl": "",
      "userId": "13097854355562551879"
     },
     "user_tz": -330
    },
    "id": "2yKiC-lh5mVn"
   },
   "outputs": [],
   "source": [
    "data[\"Outlet_Size\"] = data[\"Outlet_Size\"].fillna(\"unknown\")"
   ]
  },
  {
   "cell_type": "code",
   "execution_count": 203,
   "metadata": {
    "colab": {
     "base_uri": "https://localhost:8080/",
     "height": 205
    },
    "executionInfo": {
     "elapsed": 19,
     "status": "ok",
     "timestamp": 1627221965547,
     "user": {
      "displayName": "Mohamed Noordeen Alaudeen",
      "photoUrl": "",
      "userId": "13097854355562551879"
     },
     "user_tz": -330
    },
    "id": "0MJa8I7u5mVn",
    "outputId": "e57bead1-a7f7-43c6-abdd-ae7aa8ed321b"
   },
   "outputs": [
    {
     "data": {
      "text/html": [
       "<div>\n",
       "<style scoped>\n",
       "    .dataframe tbody tr th:only-of-type {\n",
       "        vertical-align: middle;\n",
       "    }\n",
       "\n",
       "    .dataframe tbody tr th {\n",
       "        vertical-align: top;\n",
       "    }\n",
       "\n",
       "    .dataframe thead th {\n",
       "        text-align: right;\n",
       "    }\n",
       "</style>\n",
       "<table border=\"1\" class=\"dataframe\">\n",
       "  <thead>\n",
       "    <tr style=\"text-align: right;\">\n",
       "      <th></th>\n",
       "      <th>Outlet_Size</th>\n",
       "    </tr>\n",
       "    <tr>\n",
       "      <th>Outlet_Type</th>\n",
       "      <th></th>\n",
       "    </tr>\n",
       "  </thead>\n",
       "  <tbody>\n",
       "    <tr>\n",
       "      <th>Grocery Store</th>\n",
       "      <td>unknown</td>\n",
       "    </tr>\n",
       "    <tr>\n",
       "      <th>Supermarket Type1</th>\n",
       "      <td>Small</td>\n",
       "    </tr>\n",
       "    <tr>\n",
       "      <th>Supermarket Type2</th>\n",
       "      <td>Medium</td>\n",
       "    </tr>\n",
       "    <tr>\n",
       "      <th>Supermarket Type3</th>\n",
       "      <td>Medium</td>\n",
       "    </tr>\n",
       "  </tbody>\n",
       "</table>\n",
       "</div>"
      ],
      "text/plain": [
       "                  Outlet_Size\n",
       "Outlet_Type                  \n",
       "Grocery Store         unknown\n",
       "Supermarket Type1       Small\n",
       "Supermarket Type2      Medium\n",
       "Supermarket Type3      Medium"
      ]
     },
     "execution_count": 203,
     "metadata": {
      "tags": []
     },
     "output_type": "execute_result"
    }
   ],
   "source": [
    "data.pivot_table(values=\"Outlet_Size\", index = \"Outlet_Type\", aggfunc=(lambda x: mode(x).mode[0]))"
   ]
  },
  {
   "cell_type": "code",
   "execution_count": 204,
   "metadata": {
    "executionInfo": {
     "elapsed": 18,
     "status": "ok",
     "timestamp": 1627221965547,
     "user": {
      "displayName": "Mohamed Noordeen Alaudeen",
      "photoUrl": "",
      "userId": "13097854355562551879"
     },
     "user_tz": -330
    },
    "id": "9wXsrhId5mVn"
   },
   "outputs": [],
   "source": [
    "data[\"Outlet_Size\"] = data[\"Outlet_Size\"].replace({\"unknown\":\"Very Small\"})"
   ]
  },
  {
   "cell_type": "code",
   "execution_count": 205,
   "metadata": {
    "colab": {
     "base_uri": "https://localhost:8080/",
     "height": 392
    },
    "executionInfo": {
     "elapsed": 497,
     "status": "ok",
     "timestamp": 1627221966027,
     "user": {
      "displayName": "Mohamed Noordeen Alaudeen",
      "photoUrl": "",
      "userId": "13097854355562551879"
     },
     "user_tz": -330
    },
    "id": "YRXgveXX5mVn",
    "outputId": "b52d43f2-bd50-4aab-dbc8-5c252cd1df7e"
   },
   "outputs": [
    {
     "data": {
      "text/html": [
       "<div>\n",
       "<style scoped>\n",
       "    .dataframe tbody tr th:only-of-type {\n",
       "        vertical-align: middle;\n",
       "    }\n",
       "\n",
       "    .dataframe tbody tr th {\n",
       "        vertical-align: top;\n",
       "    }\n",
       "\n",
       "    .dataframe thead th {\n",
       "        text-align: right;\n",
       "    }\n",
       "</style>\n",
       "<table border=\"1\" class=\"dataframe\">\n",
       "  <thead>\n",
       "    <tr style=\"text-align: right;\">\n",
       "      <th></th>\n",
       "      <th>Outlet_Size</th>\n",
       "    </tr>\n",
       "    <tr>\n",
       "      <th>Outlet_Identifier</th>\n",
       "      <th></th>\n",
       "    </tr>\n",
       "  </thead>\n",
       "  <tbody>\n",
       "    <tr>\n",
       "      <th>OUT010</th>\n",
       "      <td>Very Small</td>\n",
       "    </tr>\n",
       "    <tr>\n",
       "      <th>OUT013</th>\n",
       "      <td>High</td>\n",
       "    </tr>\n",
       "    <tr>\n",
       "      <th>OUT017</th>\n",
       "      <td>Very Small</td>\n",
       "    </tr>\n",
       "    <tr>\n",
       "      <th>OUT018</th>\n",
       "      <td>Medium</td>\n",
       "    </tr>\n",
       "    <tr>\n",
       "      <th>OUT019</th>\n",
       "      <td>Small</td>\n",
       "    </tr>\n",
       "    <tr>\n",
       "      <th>OUT027</th>\n",
       "      <td>Medium</td>\n",
       "    </tr>\n",
       "    <tr>\n",
       "      <th>OUT035</th>\n",
       "      <td>Small</td>\n",
       "    </tr>\n",
       "    <tr>\n",
       "      <th>OUT045</th>\n",
       "      <td>Very Small</td>\n",
       "    </tr>\n",
       "    <tr>\n",
       "      <th>OUT046</th>\n",
       "      <td>Small</td>\n",
       "    </tr>\n",
       "    <tr>\n",
       "      <th>OUT049</th>\n",
       "      <td>Medium</td>\n",
       "    </tr>\n",
       "  </tbody>\n",
       "</table>\n",
       "</div>"
      ],
      "text/plain": [
       "                  Outlet_Size\n",
       "Outlet_Identifier            \n",
       "OUT010             Very Small\n",
       "OUT013                   High\n",
       "OUT017             Very Small\n",
       "OUT018                 Medium\n",
       "OUT019                  Small\n",
       "OUT027                 Medium\n",
       "OUT035                  Small\n",
       "OUT045             Very Small\n",
       "OUT046                  Small\n",
       "OUT049                 Medium"
      ]
     },
     "execution_count": 205,
     "metadata": {
      "tags": []
     },
     "output_type": "execute_result"
    }
   ],
   "source": [
    "data.pivot_table(values=\"Outlet_Size\", index = \"Outlet_Identifier\", aggfunc=(lambda x: mode(x).mode[0]))"
   ]
  },
  {
   "cell_type": "code",
   "execution_count": 206,
   "metadata": {
    "colab": {
     "base_uri": "https://localhost:8080/"
    },
    "executionInfo": {
     "elapsed": 45,
     "status": "ok",
     "timestamp": 1627221966028,
     "user": {
      "displayName": "Mohamed Noordeen Alaudeen",
      "photoUrl": "",
      "userId": "13097854355562551879"
     },
     "user_tz": -330
    },
    "id": "buFvtGWi5mVo",
    "outputId": "635318fe-acbc-4f00-d96c-9fc3abde80cd"
   },
   "outputs": [
    {
     "data": {
      "text/plain": [
       "0"
      ]
     },
     "execution_count": 206,
     "metadata": {
      "tags": []
     },
     "output_type": "execute_result"
    }
   ],
   "source": [
    "data[\"Item_Visibility\"].isna().sum()"
   ]
  },
  {
   "cell_type": "code",
   "execution_count": 207,
   "metadata": {
    "executionInfo": {
     "elapsed": 39,
     "status": "ok",
     "timestamp": 1627221966028,
     "user": {
      "displayName": "Mohamed Noordeen Alaudeen",
      "photoUrl": "",
      "userId": "13097854355562551879"
     },
     "user_tz": -330
    },
    "id": "ErEIRUWa5mVo"
   },
   "outputs": [],
   "source": [
    "data[\"Item_Visibility\"] = data[\"Item_Visibility\"].replace({0:np.NAN})"
   ]
  },
  {
   "cell_type": "code",
   "execution_count": 208,
   "metadata": {
    "colab": {
     "base_uri": "https://localhost:8080/",
     "height": 579
    },
    "executionInfo": {
     "elapsed": 39,
     "status": "ok",
     "timestamp": 1627221966029,
     "user": {
      "displayName": "Mohamed Noordeen Alaudeen",
      "photoUrl": "",
      "userId": "13097854355562551879"
     },
     "user_tz": -330
    },
    "id": "cNM7tlrJ5mVo",
    "outputId": "e6df2152-905c-48a0-df9f-a531ce37dc37"
   },
   "outputs": [
    {
     "data": {
      "text/html": [
       "<div>\n",
       "<style scoped>\n",
       "    .dataframe tbody tr th:only-of-type {\n",
       "        vertical-align: middle;\n",
       "    }\n",
       "\n",
       "    .dataframe tbody tr th {\n",
       "        vertical-align: top;\n",
       "    }\n",
       "\n",
       "    .dataframe thead th {\n",
       "        text-align: right;\n",
       "    }\n",
       "</style>\n",
       "<table border=\"1\" class=\"dataframe\">\n",
       "  <thead>\n",
       "    <tr style=\"text-align: right;\">\n",
       "      <th>Outlet_Type</th>\n",
       "      <th>Grocery Store</th>\n",
       "      <th>Supermarket Type1</th>\n",
       "      <th>Supermarket Type2</th>\n",
       "      <th>Supermarket Type3</th>\n",
       "    </tr>\n",
       "    <tr>\n",
       "      <th>Item_Type</th>\n",
       "      <th></th>\n",
       "      <th></th>\n",
       "      <th></th>\n",
       "      <th></th>\n",
       "    </tr>\n",
       "  </thead>\n",
       "  <tbody>\n",
       "    <tr>\n",
       "      <th>Baking Goods</th>\n",
       "      <td>0.116306</td>\n",
       "      <td>0.066692</td>\n",
       "      <td>0.068206</td>\n",
       "      <td>0.066524</td>\n",
       "    </tr>\n",
       "    <tr>\n",
       "      <th>Breads</th>\n",
       "      <td>0.111612</td>\n",
       "      <td>0.067579</td>\n",
       "      <td>0.067976</td>\n",
       "      <td>0.066038</td>\n",
       "    </tr>\n",
       "    <tr>\n",
       "      <th>Breakfast</th>\n",
       "      <td>0.126056</td>\n",
       "      <td>0.079993</td>\n",
       "      <td>0.083079</td>\n",
       "      <td>0.078609</td>\n",
       "    </tr>\n",
       "    <tr>\n",
       "      <th>Canned</th>\n",
       "      <td>0.112484</td>\n",
       "      <td>0.066167</td>\n",
       "      <td>0.064655</td>\n",
       "      <td>0.067549</td>\n",
       "    </tr>\n",
       "    <tr>\n",
       "      <th>Dairy</th>\n",
       "      <td>0.120742</td>\n",
       "      <td>0.069299</td>\n",
       "      <td>0.069000</td>\n",
       "      <td>0.069213</td>\n",
       "    </tr>\n",
       "    <tr>\n",
       "      <th>Frozen Foods</th>\n",
       "      <td>0.115895</td>\n",
       "      <td>0.065449</td>\n",
       "      <td>0.064184</td>\n",
       "      <td>0.064816</td>\n",
       "    </tr>\n",
       "    <tr>\n",
       "      <th>Fruits and Vegetables</th>\n",
       "      <td>0.114820</td>\n",
       "      <td>0.067123</td>\n",
       "      <td>0.067503</td>\n",
       "      <td>0.066758</td>\n",
       "    </tr>\n",
       "    <tr>\n",
       "      <th>Hard Drinks</th>\n",
       "      <td>0.109913</td>\n",
       "      <td>0.064873</td>\n",
       "      <td>0.063611</td>\n",
       "      <td>0.065297</td>\n",
       "    </tr>\n",
       "    <tr>\n",
       "      <th>Health and Hygiene</th>\n",
       "      <td>0.098924</td>\n",
       "      <td>0.055021</td>\n",
       "      <td>0.053081</td>\n",
       "      <td>0.054924</td>\n",
       "    </tr>\n",
       "    <tr>\n",
       "      <th>Household</th>\n",
       "      <td>0.099288</td>\n",
       "      <td>0.057774</td>\n",
       "      <td>0.057858</td>\n",
       "      <td>0.057625</td>\n",
       "    </tr>\n",
       "    <tr>\n",
       "      <th>Meat</th>\n",
       "      <td>0.095960</td>\n",
       "      <td>0.058676</td>\n",
       "      <td>0.058574</td>\n",
       "      <td>0.058451</td>\n",
       "    </tr>\n",
       "    <tr>\n",
       "      <th>Others</th>\n",
       "      <td>0.096714</td>\n",
       "      <td>0.055688</td>\n",
       "      <td>0.056357</td>\n",
       "      <td>0.055413</td>\n",
       "    </tr>\n",
       "    <tr>\n",
       "      <th>Seafood</th>\n",
       "      <td>0.122593</td>\n",
       "      <td>0.067158</td>\n",
       "      <td>0.071047</td>\n",
       "      <td>0.075858</td>\n",
       "    </tr>\n",
       "    <tr>\n",
       "      <th>Snack Foods</th>\n",
       "      <td>0.114660</td>\n",
       "      <td>0.065578</td>\n",
       "      <td>0.065584</td>\n",
       "      <td>0.065126</td>\n",
       "    </tr>\n",
       "    <tr>\n",
       "      <th>Soft Drinks</th>\n",
       "      <td>0.108376</td>\n",
       "      <td>0.064303</td>\n",
       "      <td>0.064451</td>\n",
       "      <td>0.065485</td>\n",
       "    </tr>\n",
       "    <tr>\n",
       "      <th>Starchy Foods</th>\n",
       "      <td>0.117891</td>\n",
       "      <td>0.066730</td>\n",
       "      <td>0.068340</td>\n",
       "      <td>0.067608</td>\n",
       "    </tr>\n",
       "  </tbody>\n",
       "</table>\n",
       "</div>"
      ],
      "text/plain": [
       "Outlet_Type            Grocery Store  ...  Supermarket Type3\n",
       "Item_Type                             ...                   \n",
       "Baking Goods                0.116306  ...           0.066524\n",
       "Breads                      0.111612  ...           0.066038\n",
       "Breakfast                   0.126056  ...           0.078609\n",
       "Canned                      0.112484  ...           0.067549\n",
       "Dairy                       0.120742  ...           0.069213\n",
       "Frozen Foods                0.115895  ...           0.064816\n",
       "Fruits and Vegetables       0.114820  ...           0.066758\n",
       "Hard Drinks                 0.109913  ...           0.065297\n",
       "Health and Hygiene          0.098924  ...           0.054924\n",
       "Household                   0.099288  ...           0.057625\n",
       "Meat                        0.095960  ...           0.058451\n",
       "Others                      0.096714  ...           0.055413\n",
       "Seafood                     0.122593  ...           0.075858\n",
       "Snack Foods                 0.114660  ...           0.065126\n",
       "Soft Drinks                 0.108376  ...           0.065485\n",
       "Starchy Foods               0.117891  ...           0.067608\n",
       "\n",
       "[16 rows x 4 columns]"
      ]
     },
     "execution_count": 208,
     "metadata": {
      "tags": []
     },
     "output_type": "execute_result"
    }
   ],
   "source": [
    "data.pivot_table(values=\"Item_Visibility\", index = \"Item_Type\", columns = \"Outlet_Type\")"
   ]
  },
  {
   "cell_type": "code",
   "execution_count": 209,
   "metadata": {
    "executionInfo": {
     "elapsed": 38,
     "status": "ok",
     "timestamp": 1627221966029,
     "user": {
      "displayName": "Mohamed Noordeen Alaudeen",
      "photoUrl": "",
      "userId": "13097854355562551879"
     },
     "user_tz": -330
    },
    "id": "r05erx6N5mVo"
   },
   "outputs": [],
   "source": [
    "truth_table_item_outlet_type_visibility = data.pivot_table(values=\"Item_Visibility\", index = \"Item_Type\", columns = \"Outlet_Type\")"
   ]
  },
  {
   "cell_type": "code",
   "execution_count": 210,
   "metadata": {
    "colab": {
     "base_uri": "https://localhost:8080/",
     "height": 579
    },
    "executionInfo": {
     "elapsed": 38,
     "status": "ok",
     "timestamp": 1627221966030,
     "user": {
      "displayName": "Mohamed Noordeen Alaudeen",
      "photoUrl": "",
      "userId": "13097854355562551879"
     },
     "user_tz": -330
    },
    "id": "qwMSKN2Z5mVo",
    "outputId": "b37fac45-36c5-452f-f5bc-06693070b967"
   },
   "outputs": [
    {
     "data": {
      "text/html": [
       "<div>\n",
       "<style scoped>\n",
       "    .dataframe tbody tr th:only-of-type {\n",
       "        vertical-align: middle;\n",
       "    }\n",
       "\n",
       "    .dataframe tbody tr th {\n",
       "        vertical-align: top;\n",
       "    }\n",
       "\n",
       "    .dataframe thead th {\n",
       "        text-align: right;\n",
       "    }\n",
       "</style>\n",
       "<table border=\"1\" class=\"dataframe\">\n",
       "  <thead>\n",
       "    <tr style=\"text-align: right;\">\n",
       "      <th>Outlet_Type</th>\n",
       "      <th>Grocery Store</th>\n",
       "      <th>Supermarket Type1</th>\n",
       "      <th>Supermarket Type2</th>\n",
       "      <th>Supermarket Type3</th>\n",
       "    </tr>\n",
       "    <tr>\n",
       "      <th>Item_Type</th>\n",
       "      <th></th>\n",
       "      <th></th>\n",
       "      <th></th>\n",
       "      <th></th>\n",
       "    </tr>\n",
       "  </thead>\n",
       "  <tbody>\n",
       "    <tr>\n",
       "      <th>Baking Goods</th>\n",
       "      <td>0.116306</td>\n",
       "      <td>0.066692</td>\n",
       "      <td>0.068206</td>\n",
       "      <td>0.066524</td>\n",
       "    </tr>\n",
       "    <tr>\n",
       "      <th>Breads</th>\n",
       "      <td>0.111612</td>\n",
       "      <td>0.067579</td>\n",
       "      <td>0.067976</td>\n",
       "      <td>0.066038</td>\n",
       "    </tr>\n",
       "    <tr>\n",
       "      <th>Breakfast</th>\n",
       "      <td>0.126056</td>\n",
       "      <td>0.079993</td>\n",
       "      <td>0.083079</td>\n",
       "      <td>0.078609</td>\n",
       "    </tr>\n",
       "    <tr>\n",
       "      <th>Canned</th>\n",
       "      <td>0.112484</td>\n",
       "      <td>0.066167</td>\n",
       "      <td>0.064655</td>\n",
       "      <td>0.067549</td>\n",
       "    </tr>\n",
       "    <tr>\n",
       "      <th>Dairy</th>\n",
       "      <td>0.120742</td>\n",
       "      <td>0.069299</td>\n",
       "      <td>0.069000</td>\n",
       "      <td>0.069213</td>\n",
       "    </tr>\n",
       "    <tr>\n",
       "      <th>Frozen Foods</th>\n",
       "      <td>0.115895</td>\n",
       "      <td>0.065449</td>\n",
       "      <td>0.064184</td>\n",
       "      <td>0.064816</td>\n",
       "    </tr>\n",
       "    <tr>\n",
       "      <th>Fruits and Vegetables</th>\n",
       "      <td>0.114820</td>\n",
       "      <td>0.067123</td>\n",
       "      <td>0.067503</td>\n",
       "      <td>0.066758</td>\n",
       "    </tr>\n",
       "    <tr>\n",
       "      <th>Hard Drinks</th>\n",
       "      <td>0.109913</td>\n",
       "      <td>0.064873</td>\n",
       "      <td>0.063611</td>\n",
       "      <td>0.065297</td>\n",
       "    </tr>\n",
       "    <tr>\n",
       "      <th>Health and Hygiene</th>\n",
       "      <td>0.098924</td>\n",
       "      <td>0.055021</td>\n",
       "      <td>0.053081</td>\n",
       "      <td>0.054924</td>\n",
       "    </tr>\n",
       "    <tr>\n",
       "      <th>Household</th>\n",
       "      <td>0.099288</td>\n",
       "      <td>0.057774</td>\n",
       "      <td>0.057858</td>\n",
       "      <td>0.057625</td>\n",
       "    </tr>\n",
       "    <tr>\n",
       "      <th>Meat</th>\n",
       "      <td>0.095960</td>\n",
       "      <td>0.058676</td>\n",
       "      <td>0.058574</td>\n",
       "      <td>0.058451</td>\n",
       "    </tr>\n",
       "    <tr>\n",
       "      <th>Others</th>\n",
       "      <td>0.096714</td>\n",
       "      <td>0.055688</td>\n",
       "      <td>0.056357</td>\n",
       "      <td>0.055413</td>\n",
       "    </tr>\n",
       "    <tr>\n",
       "      <th>Seafood</th>\n",
       "      <td>0.122593</td>\n",
       "      <td>0.067158</td>\n",
       "      <td>0.071047</td>\n",
       "      <td>0.075858</td>\n",
       "    </tr>\n",
       "    <tr>\n",
       "      <th>Snack Foods</th>\n",
       "      <td>0.114660</td>\n",
       "      <td>0.065578</td>\n",
       "      <td>0.065584</td>\n",
       "      <td>0.065126</td>\n",
       "    </tr>\n",
       "    <tr>\n",
       "      <th>Soft Drinks</th>\n",
       "      <td>0.108376</td>\n",
       "      <td>0.064303</td>\n",
       "      <td>0.064451</td>\n",
       "      <td>0.065485</td>\n",
       "    </tr>\n",
       "    <tr>\n",
       "      <th>Starchy Foods</th>\n",
       "      <td>0.117891</td>\n",
       "      <td>0.066730</td>\n",
       "      <td>0.068340</td>\n",
       "      <td>0.067608</td>\n",
       "    </tr>\n",
       "  </tbody>\n",
       "</table>\n",
       "</div>"
      ],
      "text/plain": [
       "Outlet_Type            Grocery Store  ...  Supermarket Type3\n",
       "Item_Type                             ...                   \n",
       "Baking Goods                0.116306  ...           0.066524\n",
       "Breads                      0.111612  ...           0.066038\n",
       "Breakfast                   0.126056  ...           0.078609\n",
       "Canned                      0.112484  ...           0.067549\n",
       "Dairy                       0.120742  ...           0.069213\n",
       "Frozen Foods                0.115895  ...           0.064816\n",
       "Fruits and Vegetables       0.114820  ...           0.066758\n",
       "Hard Drinks                 0.109913  ...           0.065297\n",
       "Health and Hygiene          0.098924  ...           0.054924\n",
       "Household                   0.099288  ...           0.057625\n",
       "Meat                        0.095960  ...           0.058451\n",
       "Others                      0.096714  ...           0.055413\n",
       "Seafood                     0.122593  ...           0.075858\n",
       "Snack Foods                 0.114660  ...           0.065126\n",
       "Soft Drinks                 0.108376  ...           0.065485\n",
       "Starchy Foods               0.117891  ...           0.067608\n",
       "\n",
       "[16 rows x 4 columns]"
      ]
     },
     "execution_count": 210,
     "metadata": {
      "tags": []
     },
     "output_type": "execute_result"
    }
   ],
   "source": [
    "truth_table_item_outlet_type_visibility"
   ]
  },
  {
   "cell_type": "code",
   "execution_count": 211,
   "metadata": {
    "executionInfo": {
     "elapsed": 37,
     "status": "ok",
     "timestamp": 1627221966030,
     "user": {
      "displayName": "Mohamed Noordeen Alaudeen",
      "photoUrl": "",
      "userId": "13097854355562551879"
     },
     "user_tz": -330
    },
    "id": "xAmQxr_n5mVo"
   },
   "outputs": [],
   "source": [
    "test = data[data[\"Item_Visibility\"].isna()].head(1)"
   ]
  },
  {
   "cell_type": "code",
   "execution_count": 212,
   "metadata": {
    "colab": {
     "base_uri": "https://localhost:8080/",
     "height": 118
    },
    "executionInfo": {
     "elapsed": 38,
     "status": "ok",
     "timestamp": 1627221966031,
     "user": {
      "displayName": "Mohamed Noordeen Alaudeen",
      "photoUrl": "",
      "userId": "13097854355562551879"
     },
     "user_tz": -330
    },
    "id": "Vtx2qNS05mVo",
    "outputId": "c794b1bf-0ded-4099-8878-805a8b8b216c"
   },
   "outputs": [
    {
     "data": {
      "text/html": [
       "<div>\n",
       "<style scoped>\n",
       "    .dataframe tbody tr th:only-of-type {\n",
       "        vertical-align: middle;\n",
       "    }\n",
       "\n",
       "    .dataframe tbody tr th {\n",
       "        vertical-align: top;\n",
       "    }\n",
       "\n",
       "    .dataframe thead th {\n",
       "        text-align: right;\n",
       "    }\n",
       "</style>\n",
       "<table border=\"1\" class=\"dataframe\">\n",
       "  <thead>\n",
       "    <tr style=\"text-align: right;\">\n",
       "      <th></th>\n",
       "      <th>Item_Identifier</th>\n",
       "      <th>Item_Weight</th>\n",
       "      <th>Item_Fat_Content</th>\n",
       "      <th>Item_Visibility</th>\n",
       "      <th>Item_Type</th>\n",
       "      <th>Item_MRP</th>\n",
       "      <th>Outlet_Identifier</th>\n",
       "      <th>Outlet_Establishment_Year</th>\n",
       "      <th>Outlet_Size</th>\n",
       "      <th>Outlet_Location_Type</th>\n",
       "      <th>Outlet_Type</th>\n",
       "      <th>Item_Outlet_Sales</th>\n",
       "      <th>data</th>\n",
       "      <th>Item_Identifier_group</th>\n",
       "    </tr>\n",
       "  </thead>\n",
       "  <tbody>\n",
       "    <tr>\n",
       "      <th>3</th>\n",
       "      <td>FDX07</td>\n",
       "      <td>19.2</td>\n",
       "      <td>Regular</td>\n",
       "      <td>NaN</td>\n",
       "      <td>Fruits and Vegetables</td>\n",
       "      <td>182.095</td>\n",
       "      <td>OUT010</td>\n",
       "      <td>1998</td>\n",
       "      <td>Very Small</td>\n",
       "      <td>Tier 3</td>\n",
       "      <td>Grocery Store</td>\n",
       "      <td>732.38</td>\n",
       "      <td>train</td>\n",
       "      <td>FD</td>\n",
       "    </tr>\n",
       "  </tbody>\n",
       "</table>\n",
       "</div>"
      ],
      "text/plain": [
       "  Item_Identifier  Item_Weight  ...   data  Item_Identifier_group\n",
       "3           FDX07         19.2  ...  train                     FD\n",
       "\n",
       "[1 rows x 14 columns]"
      ]
     },
     "execution_count": 212,
     "metadata": {
      "tags": []
     },
     "output_type": "execute_result"
    }
   ],
   "source": [
    "test"
   ]
  },
  {
   "cell_type": "code",
   "execution_count": 213,
   "metadata": {
    "executionInfo": {
     "elapsed": 37,
     "status": "ok",
     "timestamp": 1627221966031,
     "user": {
      "displayName": "Mohamed Noordeen Alaudeen",
      "photoUrl": "",
      "userId": "13097854355562551879"
     },
     "user_tz": -330
    },
    "id": "iRtRwwV85mVp"
   },
   "outputs": [],
   "source": [
    "def find_visibility(x):\n",
    "    return truth_table_item_outlet_type_visibility.loc[x[\"Item_Type\"], x[\"Outlet_Type\"]]"
   ]
  },
  {
   "cell_type": "code",
   "execution_count": 214,
   "metadata": {
    "colab": {
     "base_uri": "https://localhost:8080/",
     "height": 111
    },
    "executionInfo": {
     "elapsed": 36,
     "status": "ok",
     "timestamp": 1627221966031,
     "user": {
      "displayName": "Mohamed Noordeen Alaudeen",
      "photoUrl": "",
      "userId": "13097854355562551879"
     },
     "user_tz": -330
    },
    "id": "bFqV2zEQ5mVp",
    "outputId": "343f662e-1019-4942-836a-9124422babb8"
   },
   "outputs": [
    {
     "data": {
      "text/html": [
       "<div>\n",
       "<style scoped>\n",
       "    .dataframe tbody tr th:only-of-type {\n",
       "        vertical-align: middle;\n",
       "    }\n",
       "\n",
       "    .dataframe tbody tr th {\n",
       "        vertical-align: top;\n",
       "    }\n",
       "\n",
       "    .dataframe thead th {\n",
       "        text-align: right;\n",
       "    }\n",
       "</style>\n",
       "<table border=\"1\" class=\"dataframe\">\n",
       "  <thead>\n",
       "    <tr style=\"text-align: right;\">\n",
       "      <th>Outlet_Type</th>\n",
       "      <th>Grocery Store</th>\n",
       "    </tr>\n",
       "    <tr>\n",
       "      <th>Item_Type</th>\n",
       "      <th></th>\n",
       "    </tr>\n",
       "  </thead>\n",
       "  <tbody>\n",
       "    <tr>\n",
       "      <th>Fruits and Vegetables</th>\n",
       "      <td>0.11482</td>\n",
       "    </tr>\n",
       "  </tbody>\n",
       "</table>\n",
       "</div>"
      ],
      "text/plain": [
       "Outlet_Type            Grocery Store\n",
       "Item_Type                           \n",
       "Fruits and Vegetables        0.11482"
      ]
     },
     "execution_count": 214,
     "metadata": {
      "tags": []
     },
     "output_type": "execute_result"
    }
   ],
   "source": [
    "find_visibility(test)"
   ]
  },
  {
   "cell_type": "code",
   "execution_count": 215,
   "metadata": {
    "colab": {
     "base_uri": "https://localhost:8080/"
    },
    "executionInfo": {
     "elapsed": 36,
     "status": "ok",
     "timestamp": 1627221966032,
     "user": {
      "displayName": "Mohamed Noordeen Alaudeen",
      "photoUrl": "",
      "userId": "13097854355562551879"
     },
     "user_tz": -330
    },
    "id": "k-Ah10Yw5mVp",
    "outputId": "44b65fa0-cbd7-4e65-cded-2a1fcc32b8c5"
   },
   "outputs": [
    {
     "data": {
      "text/plain": [
       "3        0.114820\n",
       "4        0.057774\n",
       "5        0.068206\n",
       "10       0.067123\n",
       "32       0.065584\n",
       "           ...   \n",
       "14166    0.114820\n",
       "14171    0.067549\n",
       "14177    0.065578\n",
       "14184    0.065485\n",
       "14202    0.066167\n",
       "Length: 879, dtype: float64"
      ]
     },
     "execution_count": 215,
     "metadata": {
      "tags": []
     },
     "output_type": "execute_result"
    }
   ],
   "source": [
    "data[data[\"Item_Visibility\"].isnull()].apply(find_visibility, axis= 1)"
   ]
  },
  {
   "cell_type": "code",
   "execution_count": 216,
   "metadata": {
    "executionInfo": {
     "elapsed": 29,
     "status": "ok",
     "timestamp": 1627221966032,
     "user": {
      "displayName": "Mohamed Noordeen Alaudeen",
      "photoUrl": "",
      "userId": "13097854355562551879"
     },
     "user_tz": -330
    },
    "id": "EbC4X2Cg5mVp"
   },
   "outputs": [],
   "source": [
    "data[\"Item_Visibility\"].fillna(data[data[\"Item_Visibility\"].isnull()].apply(find_visibility, axis= 1), inplace = True)"
   ]
  },
  {
   "cell_type": "code",
   "execution_count": 217,
   "metadata": {
    "colab": {
     "base_uri": "https://localhost:8080/"
    },
    "executionInfo": {
     "elapsed": 30,
     "status": "ok",
     "timestamp": 1627221966033,
     "user": {
      "displayName": "Mohamed Noordeen Alaudeen",
      "photoUrl": "",
      "userId": "13097854355562551879"
     },
     "user_tz": -330
    },
    "id": "JpgTGo4k5mVp",
    "outputId": "0b2584ed-b099-42c4-95fb-f30eab1feeb8"
   },
   "outputs": [
    {
     "data": {
      "text/plain": [
       "0"
      ]
     },
     "execution_count": 217,
     "metadata": {
      "tags": []
     },
     "output_type": "execute_result"
    }
   ],
   "source": [
    "data[\"Item_Visibility\"].isna().sum()"
   ]
  },
  {
   "cell_type": "code",
   "execution_count": 218,
   "metadata": {
    "executionInfo": {
     "elapsed": 25,
     "status": "ok",
     "timestamp": 1627221966033,
     "user": {
      "displayName": "Mohamed Noordeen Alaudeen",
      "photoUrl": "",
      "userId": "13097854355562551879"
     },
     "user_tz": -330
    },
    "id": "X3vnFctt5mVp"
   },
   "outputs": [],
   "source": [
    "#Feature Engineering"
   ]
  },
  {
   "cell_type": "code",
   "execution_count": 219,
   "metadata": {
    "colab": {
     "base_uri": "https://localhost:8080/"
    },
    "executionInfo": {
     "elapsed": 24,
     "status": "ok",
     "timestamp": 1627221966033,
     "user": {
      "displayName": "Mohamed Noordeen Alaudeen",
      "photoUrl": "",
      "userId": "13097854355562551879"
     },
     "user_tz": -330
    },
    "id": "qbQvU9WW5mVq",
    "outputId": "08492af4-0bb8-4cbf-c378-8d1e3e624f7f"
   },
   "outputs": [
    {
     "data": {
      "text/plain": [
       "Index(['Item_Identifier', 'Item_Weight', 'Item_Fat_Content', 'Item_Visibility',\n",
       "       'Item_Type', 'Item_MRP', 'Outlet_Identifier',\n",
       "       'Outlet_Establishment_Year', 'Outlet_Size', 'Outlet_Location_Type',\n",
       "       'Outlet_Type', 'Item_Outlet_Sales', 'data', 'Item_Identifier_group'],\n",
       "      dtype='object')"
      ]
     },
     "execution_count": 219,
     "metadata": {
      "tags": []
     },
     "output_type": "execute_result"
    }
   ],
   "source": [
    "data.columns"
   ]
  },
  {
   "cell_type": "code",
   "execution_count": 220,
   "metadata": {
    "executionInfo": {
     "elapsed": 869,
     "status": "ok",
     "timestamp": 1627221966883,
     "user": {
      "displayName": "Mohamed Noordeen Alaudeen",
      "photoUrl": "",
      "userId": "13097854355562551879"
     },
     "user_tz": -330
    },
    "id": "hrE3pzYK5mVq"
   },
   "outputs": [],
   "source": [
    "data[\"Outlet_Age\"] = 2021 - data[\"Outlet_Establishment_Year\"]"
   ]
  },
  {
   "cell_type": "code",
   "execution_count": 221,
   "metadata": {
    "executionInfo": {
     "elapsed": 19,
     "status": "ok",
     "timestamp": 1627221966883,
     "user": {
      "displayName": "Mohamed Noordeen Alaudeen",
      "photoUrl": "",
      "userId": "13097854355562551879"
     },
     "user_tz": -330
    },
    "id": "ojR87eXa5mVq"
   },
   "outputs": [],
   "source": [
    "del data[\"Outlet_Establishment_Year\"]"
   ]
  },
  {
   "cell_type": "code",
   "execution_count": 221,
   "metadata": {
    "executionInfo": {
     "elapsed": 19,
     "status": "ok",
     "timestamp": 1627221966884,
     "user": {
      "displayName": "Mohamed Noordeen Alaudeen",
      "photoUrl": "",
      "userId": "13097854355562551879"
     },
     "user_tz": -330
    },
    "id": "cfZjiMGn5mVq"
   },
   "outputs": [],
   "source": []
  },
  {
   "cell_type": "markdown",
   "metadata": {
    "id": "E4gWG_th8ddH"
   },
   "source": [
    "# Data Preparation"
   ]
  },
  {
   "cell_type": "code",
   "execution_count": 222,
   "metadata": {
    "colab": {
     "base_uri": "https://localhost:8080/",
     "height": 612
    },
    "executionInfo": {
     "elapsed": 19,
     "status": "ok",
     "timestamp": 1627221966885,
     "user": {
      "displayName": "Mohamed Noordeen Alaudeen",
      "photoUrl": "",
      "userId": "13097854355562551879"
     },
     "user_tz": -330
    },
    "id": "2FJ26oVH5mVq",
    "outputId": "951a47a9-45ef-48af-983c-ea88cb7a6784"
   },
   "outputs": [
    {
     "data": {
      "text/html": [
       "<div>\n",
       "<style scoped>\n",
       "    .dataframe tbody tr th:only-of-type {\n",
       "        vertical-align: middle;\n",
       "    }\n",
       "\n",
       "    .dataframe tbody tr th {\n",
       "        vertical-align: top;\n",
       "    }\n",
       "\n",
       "    .dataframe thead th {\n",
       "        text-align: right;\n",
       "    }\n",
       "</style>\n",
       "<table border=\"1\" class=\"dataframe\">\n",
       "  <thead>\n",
       "    <tr style=\"text-align: right;\">\n",
       "      <th></th>\n",
       "      <th>Item_Identifier</th>\n",
       "      <th>Item_Weight</th>\n",
       "      <th>Item_Fat_Content</th>\n",
       "      <th>Item_Visibility</th>\n",
       "      <th>Item_Type</th>\n",
       "      <th>Item_MRP</th>\n",
       "      <th>Outlet_Identifier</th>\n",
       "      <th>Outlet_Size</th>\n",
       "      <th>Outlet_Location_Type</th>\n",
       "      <th>Outlet_Type</th>\n",
       "      <th>Item_Outlet_Sales</th>\n",
       "      <th>data</th>\n",
       "      <th>Item_Identifier_group</th>\n",
       "      <th>Outlet_Age</th>\n",
       "    </tr>\n",
       "  </thead>\n",
       "  <tbody>\n",
       "    <tr>\n",
       "      <th>0</th>\n",
       "      <td>FDA15</td>\n",
       "      <td>9.30</td>\n",
       "      <td>Low Fat</td>\n",
       "      <td>0.016047</td>\n",
       "      <td>Dairy</td>\n",
       "      <td>249.8092</td>\n",
       "      <td>OUT049</td>\n",
       "      <td>Medium</td>\n",
       "      <td>Tier 1</td>\n",
       "      <td>Supermarket Type1</td>\n",
       "      <td>3735.1380</td>\n",
       "      <td>train</td>\n",
       "      <td>FD</td>\n",
       "      <td>22</td>\n",
       "    </tr>\n",
       "    <tr>\n",
       "      <th>1</th>\n",
       "      <td>DRC01</td>\n",
       "      <td>5.92</td>\n",
       "      <td>Regular</td>\n",
       "      <td>0.019278</td>\n",
       "      <td>Soft Drinks</td>\n",
       "      <td>48.2692</td>\n",
       "      <td>OUT018</td>\n",
       "      <td>Medium</td>\n",
       "      <td>Tier 3</td>\n",
       "      <td>Supermarket Type2</td>\n",
       "      <td>443.4228</td>\n",
       "      <td>train</td>\n",
       "      <td>DR</td>\n",
       "      <td>12</td>\n",
       "    </tr>\n",
       "    <tr>\n",
       "      <th>2</th>\n",
       "      <td>FDN15</td>\n",
       "      <td>17.50</td>\n",
       "      <td>Low Fat</td>\n",
       "      <td>0.016760</td>\n",
       "      <td>Meat</td>\n",
       "      <td>141.6180</td>\n",
       "      <td>OUT049</td>\n",
       "      <td>Medium</td>\n",
       "      <td>Tier 1</td>\n",
       "      <td>Supermarket Type1</td>\n",
       "      <td>2097.2700</td>\n",
       "      <td>train</td>\n",
       "      <td>FD</td>\n",
       "      <td>22</td>\n",
       "    </tr>\n",
       "    <tr>\n",
       "      <th>3</th>\n",
       "      <td>FDX07</td>\n",
       "      <td>19.20</td>\n",
       "      <td>Regular</td>\n",
       "      <td>0.114820</td>\n",
       "      <td>Fruits and Vegetables</td>\n",
       "      <td>182.0950</td>\n",
       "      <td>OUT010</td>\n",
       "      <td>Very Small</td>\n",
       "      <td>Tier 3</td>\n",
       "      <td>Grocery Store</td>\n",
       "      <td>732.3800</td>\n",
       "      <td>train</td>\n",
       "      <td>FD</td>\n",
       "      <td>23</td>\n",
       "    </tr>\n",
       "    <tr>\n",
       "      <th>4</th>\n",
       "      <td>NCD19</td>\n",
       "      <td>8.93</td>\n",
       "      <td>Low Fat</td>\n",
       "      <td>0.057774</td>\n",
       "      <td>Household</td>\n",
       "      <td>53.8614</td>\n",
       "      <td>OUT013</td>\n",
       "      <td>High</td>\n",
       "      <td>Tier 3</td>\n",
       "      <td>Supermarket Type1</td>\n",
       "      <td>994.7052</td>\n",
       "      <td>train</td>\n",
       "      <td>NC</td>\n",
       "      <td>34</td>\n",
       "    </tr>\n",
       "    <tr>\n",
       "      <th>...</th>\n",
       "      <td>...</td>\n",
       "      <td>...</td>\n",
       "      <td>...</td>\n",
       "      <td>...</td>\n",
       "      <td>...</td>\n",
       "      <td>...</td>\n",
       "      <td>...</td>\n",
       "      <td>...</td>\n",
       "      <td>...</td>\n",
       "      <td>...</td>\n",
       "      <td>...</td>\n",
       "      <td>...</td>\n",
       "      <td>...</td>\n",
       "      <td>...</td>\n",
       "    </tr>\n",
       "    <tr>\n",
       "      <th>14199</th>\n",
       "      <td>FDB58</td>\n",
       "      <td>10.50</td>\n",
       "      <td>Regular</td>\n",
       "      <td>0.013496</td>\n",
       "      <td>Snack Foods</td>\n",
       "      <td>141.3154</td>\n",
       "      <td>OUT046</td>\n",
       "      <td>Small</td>\n",
       "      <td>Tier 1</td>\n",
       "      <td>Supermarket Type1</td>\n",
       "      <td>NaN</td>\n",
       "      <td>test</td>\n",
       "      <td>FD</td>\n",
       "      <td>24</td>\n",
       "    </tr>\n",
       "    <tr>\n",
       "      <th>14200</th>\n",
       "      <td>FDD47</td>\n",
       "      <td>7.60</td>\n",
       "      <td>Regular</td>\n",
       "      <td>0.142991</td>\n",
       "      <td>Starchy Foods</td>\n",
       "      <td>169.1448</td>\n",
       "      <td>OUT018</td>\n",
       "      <td>Medium</td>\n",
       "      <td>Tier 3</td>\n",
       "      <td>Supermarket Type2</td>\n",
       "      <td>NaN</td>\n",
       "      <td>test</td>\n",
       "      <td>FD</td>\n",
       "      <td>12</td>\n",
       "    </tr>\n",
       "    <tr>\n",
       "      <th>14201</th>\n",
       "      <td>NCO17</td>\n",
       "      <td>10.00</td>\n",
       "      <td>Low Fat</td>\n",
       "      <td>0.073529</td>\n",
       "      <td>Health and Hygiene</td>\n",
       "      <td>118.7440</td>\n",
       "      <td>OUT045</td>\n",
       "      <td>Very Small</td>\n",
       "      <td>Tier 2</td>\n",
       "      <td>Supermarket Type1</td>\n",
       "      <td>NaN</td>\n",
       "      <td>test</td>\n",
       "      <td>NC</td>\n",
       "      <td>19</td>\n",
       "    </tr>\n",
       "    <tr>\n",
       "      <th>14202</th>\n",
       "      <td>FDJ26</td>\n",
       "      <td>15.30</td>\n",
       "      <td>Regular</td>\n",
       "      <td>0.066167</td>\n",
       "      <td>Canned</td>\n",
       "      <td>214.6218</td>\n",
       "      <td>OUT017</td>\n",
       "      <td>Very Small</td>\n",
       "      <td>Tier 2</td>\n",
       "      <td>Supermarket Type1</td>\n",
       "      <td>NaN</td>\n",
       "      <td>test</td>\n",
       "      <td>FD</td>\n",
       "      <td>14</td>\n",
       "    </tr>\n",
       "    <tr>\n",
       "      <th>14203</th>\n",
       "      <td>FDU37</td>\n",
       "      <td>9.50</td>\n",
       "      <td>Regular</td>\n",
       "      <td>0.104720</td>\n",
       "      <td>Canned</td>\n",
       "      <td>79.7960</td>\n",
       "      <td>OUT045</td>\n",
       "      <td>Very Small</td>\n",
       "      <td>Tier 2</td>\n",
       "      <td>Supermarket Type1</td>\n",
       "      <td>NaN</td>\n",
       "      <td>test</td>\n",
       "      <td>FD</td>\n",
       "      <td>19</td>\n",
       "    </tr>\n",
       "  </tbody>\n",
       "</table>\n",
       "<p>14204 rows × 14 columns</p>\n",
       "</div>"
      ],
      "text/plain": [
       "      Item_Identifier  Item_Weight  ... Item_Identifier_group  Outlet_Age\n",
       "0               FDA15         9.30  ...                    FD          22\n",
       "1               DRC01         5.92  ...                    DR          12\n",
       "2               FDN15        17.50  ...                    FD          22\n",
       "3               FDX07        19.20  ...                    FD          23\n",
       "4               NCD19         8.93  ...                    NC          34\n",
       "...               ...          ...  ...                   ...         ...\n",
       "14199           FDB58        10.50  ...                    FD          24\n",
       "14200           FDD47         7.60  ...                    FD          12\n",
       "14201           NCO17        10.00  ...                    NC          19\n",
       "14202           FDJ26        15.30  ...                    FD          14\n",
       "14203           FDU37         9.50  ...                    FD          19\n",
       "\n",
       "[14204 rows x 14 columns]"
      ]
     },
     "execution_count": 222,
     "metadata": {
      "tags": []
     },
     "output_type": "execute_result"
    }
   ],
   "source": [
    "data"
   ]
  },
  {
   "cell_type": "code",
   "execution_count": 223,
   "metadata": {
    "colab": {
     "base_uri": "https://localhost:8080/",
     "height": 205
    },
    "executionInfo": {
     "elapsed": 18,
     "status": "ok",
     "timestamp": 1627221966885,
     "user": {
      "displayName": "Mohamed Noordeen Alaudeen",
      "photoUrl": "",
      "userId": "13097854355562551879"
     },
     "user_tz": -330
    },
    "id": "-6Pjm5wb5mVq",
    "outputId": "f6d480f2-9d34-4820-bb6a-52c903ec7a42",
    "scrolled": true
   },
   "outputs": [
    {
     "data": {
      "text/html": [
       "<div>\n",
       "<style scoped>\n",
       "    .dataframe tbody tr th:only-of-type {\n",
       "        vertical-align: middle;\n",
       "    }\n",
       "\n",
       "    .dataframe tbody tr th {\n",
       "        vertical-align: top;\n",
       "    }\n",
       "\n",
       "    .dataframe thead th {\n",
       "        text-align: right;\n",
       "    }\n",
       "</style>\n",
       "<table border=\"1\" class=\"dataframe\">\n",
       "  <thead>\n",
       "    <tr style=\"text-align: right;\">\n",
       "      <th></th>\n",
       "      <th>Item_Weight</th>\n",
       "      <th>Item_Visibility</th>\n",
       "      <th>Item_MRP</th>\n",
       "      <th>Item_Outlet_Sales</th>\n",
       "      <th>Outlet_Age</th>\n",
       "    </tr>\n",
       "  </thead>\n",
       "  <tbody>\n",
       "    <tr>\n",
       "      <th>Item_Weight</th>\n",
       "      <td>1.000000</td>\n",
       "      <td>-0.021476</td>\n",
       "      <td>0.035751</td>\n",
       "      <td>0.013261</td>\n",
       "      <td>-0.000247</td>\n",
       "    </tr>\n",
       "    <tr>\n",
       "      <th>Item_Visibility</th>\n",
       "      <td>-0.021476</td>\n",
       "      <td>1.000000</td>\n",
       "      <td>-0.008985</td>\n",
       "      <td>-0.140762</td>\n",
       "      <td>0.093420</td>\n",
       "    </tr>\n",
       "    <tr>\n",
       "      <th>Item_MRP</th>\n",
       "      <td>0.035751</td>\n",
       "      <td>-0.008985</td>\n",
       "      <td>1.000000</td>\n",
       "      <td>0.567574</td>\n",
       "      <td>-0.000141</td>\n",
       "    </tr>\n",
       "    <tr>\n",
       "      <th>Item_Outlet_Sales</th>\n",
       "      <td>0.013261</td>\n",
       "      <td>-0.140762</td>\n",
       "      <td>0.567574</td>\n",
       "      <td>1.000000</td>\n",
       "      <td>0.049135</td>\n",
       "    </tr>\n",
       "    <tr>\n",
       "      <th>Outlet_Age</th>\n",
       "      <td>-0.000247</td>\n",
       "      <td>0.093420</td>\n",
       "      <td>-0.000141</td>\n",
       "      <td>0.049135</td>\n",
       "      <td>1.000000</td>\n",
       "    </tr>\n",
       "  </tbody>\n",
       "</table>\n",
       "</div>"
      ],
      "text/plain": [
       "                   Item_Weight  Item_Visibility  ...  Item_Outlet_Sales  Outlet_Age\n",
       "Item_Weight           1.000000        -0.021476  ...           0.013261   -0.000247\n",
       "Item_Visibility      -0.021476         1.000000  ...          -0.140762    0.093420\n",
       "Item_MRP              0.035751        -0.008985  ...           0.567574   -0.000141\n",
       "Item_Outlet_Sales     0.013261        -0.140762  ...           1.000000    0.049135\n",
       "Outlet_Age           -0.000247         0.093420  ...           0.049135    1.000000\n",
       "\n",
       "[5 rows x 5 columns]"
      ]
     },
     "execution_count": 223,
     "metadata": {
      "tags": []
     },
     "output_type": "execute_result"
    }
   ],
   "source": [
    "data.select_dtypes(include = np.number).corr()"
   ]
  },
  {
   "cell_type": "code",
   "execution_count": 224,
   "metadata": {
    "colab": {
     "base_uri": "https://localhost:8080/",
     "height": 366
    },
    "executionInfo": {
     "elapsed": 18,
     "status": "ok",
     "timestamp": 1627221966886,
     "user": {
      "displayName": "Mohamed Noordeen Alaudeen",
      "photoUrl": "",
      "userId": "13097854355562551879"
     },
     "user_tz": -330
    },
    "id": "3tewuRxQ5mVr",
    "outputId": "0ca6a87c-785c-465a-c69f-b14e2f64b2a6"
   },
   "outputs": [
    {
     "data": {
      "text/plain": [
       "<matplotlib.axes._subplots.AxesSubplot at 0x7f6fca5e7b10>"
      ]
     },
     "execution_count": 224,
     "metadata": {
      "tags": []
     },
     "output_type": "execute_result"
    },
    {
     "data": {
      "image/png": "[encoded data removed]",
      "text/plain": [
       "<Figure size 432x288 with 2 Axes>"
      ]
     },
     "metadata": {
      "needs_background": "light",
      "tags": []
     },
     "output_type": "display_data"
    }
   ],
   "source": [
    "sns.heatmap(data.select_dtypes(include = np.number).corr(), annot=True)"
   ]
  },
  {
   "cell_type": "code",
   "execution_count": 225,
   "metadata": {
    "executionInfo": {
     "elapsed": 1893,
     "status": "ok",
     "timestamp": 1627221968768,
     "user": {
      "displayName": "Mohamed Noordeen Alaudeen",
      "photoUrl": "",
      "userId": "13097854355562551879"
     },
     "user_tz": -330
    },
    "id": "KrNZXp8w5mVr"
   },
   "outputs": [],
   "source": [
    "numeric_data_columns = data.select_dtypes(include = np.number).drop(columns = \"Item_Outlet_Sales\").columns"
   ]
  },
  {
   "cell_type": "code",
   "execution_count": 226,
   "metadata": {
    "colab": {
     "base_uri": "https://localhost:8080/",
     "height": 612
    },
    "executionInfo": {
     "elapsed": 48,
     "status": "ok",
     "timestamp": 1627221968769,
     "user": {
      "displayName": "Mohamed Noordeen Alaudeen",
      "photoUrl": "",
      "userId": "13097854355562551879"
     },
     "user_tz": -330
    },
    "id": "zBFw-otO5mVr",
    "outputId": "75151637-1e90-4804-ff8c-2e25855ec978"
   },
   "outputs": [
    {
     "data": {
      "text/html": [
       "<div>\n",
       "<style scoped>\n",
       "    .dataframe tbody tr th:only-of-type {\n",
       "        vertical-align: middle;\n",
       "    }\n",
       "\n",
       "    .dataframe tbody tr th {\n",
       "        vertical-align: top;\n",
       "    }\n",
       "\n",
       "    .dataframe thead th {\n",
       "        text-align: right;\n",
       "    }\n",
       "</style>\n",
       "<table border=\"1\" class=\"dataframe\">\n",
       "  <thead>\n",
       "    <tr style=\"text-align: right;\">\n",
       "      <th></th>\n",
       "      <th>Item_Identifier</th>\n",
       "      <th>Item_Fat_Content</th>\n",
       "      <th>Item_Type</th>\n",
       "      <th>Outlet_Identifier</th>\n",
       "      <th>Outlet_Size</th>\n",
       "      <th>Outlet_Location_Type</th>\n",
       "      <th>Outlet_Type</th>\n",
       "      <th>data</th>\n",
       "      <th>Item_Identifier_group</th>\n",
       "    </tr>\n",
       "  </thead>\n",
       "  <tbody>\n",
       "    <tr>\n",
       "      <th>0</th>\n",
       "      <td>FDA15</td>\n",
       "      <td>Low Fat</td>\n",
       "      <td>Dairy</td>\n",
       "      <td>OUT049</td>\n",
       "      <td>Medium</td>\n",
       "      <td>Tier 1</td>\n",
       "      <td>Supermarket Type1</td>\n",
       "      <td>train</td>\n",
       "      <td>FD</td>\n",
       "    </tr>\n",
       "    <tr>\n",
       "      <th>1</th>\n",
       "      <td>DRC01</td>\n",
       "      <td>Regular</td>\n",
       "      <td>Soft Drinks</td>\n",
       "      <td>OUT018</td>\n",
       "      <td>Medium</td>\n",
       "      <td>Tier 3</td>\n",
       "      <td>Supermarket Type2</td>\n",
       "      <td>train</td>\n",
       "      <td>DR</td>\n",
       "    </tr>\n",
       "    <tr>\n",
       "      <th>2</th>\n",
       "      <td>FDN15</td>\n",
       "      <td>Low Fat</td>\n",
       "      <td>Meat</td>\n",
       "      <td>OUT049</td>\n",
       "      <td>Medium</td>\n",
       "      <td>Tier 1</td>\n",
       "      <td>Supermarket Type1</td>\n",
       "      <td>train</td>\n",
       "      <td>FD</td>\n",
       "    </tr>\n",
       "    <tr>\n",
       "      <th>3</th>\n",
       "      <td>FDX07</td>\n",
       "      <td>Regular</td>\n",
       "      <td>Fruits and Vegetables</td>\n",
       "      <td>OUT010</td>\n",
       "      <td>Very Small</td>\n",
       "      <td>Tier 3</td>\n",
       "      <td>Grocery Store</td>\n",
       "      <td>train</td>\n",
       "      <td>FD</td>\n",
       "    </tr>\n",
       "    <tr>\n",
       "      <th>4</th>\n",
       "      <td>NCD19</td>\n",
       "      <td>Low Fat</td>\n",
       "      <td>Household</td>\n",
       "      <td>OUT013</td>\n",
       "      <td>High</td>\n",
       "      <td>Tier 3</td>\n",
       "      <td>Supermarket Type1</td>\n",
       "      <td>train</td>\n",
       "      <td>NC</td>\n",
       "    </tr>\n",
       "    <tr>\n",
       "      <th>...</th>\n",
       "      <td>...</td>\n",
       "      <td>...</td>\n",
       "      <td>...</td>\n",
       "      <td>...</td>\n",
       "      <td>...</td>\n",
       "      <td>...</td>\n",
       "      <td>...</td>\n",
       "      <td>...</td>\n",
       "      <td>...</td>\n",
       "    </tr>\n",
       "    <tr>\n",
       "      <th>14199</th>\n",
       "      <td>FDB58</td>\n",
       "      <td>Regular</td>\n",
       "      <td>Snack Foods</td>\n",
       "      <td>OUT046</td>\n",
       "      <td>Small</td>\n",
       "      <td>Tier 1</td>\n",
       "      <td>Supermarket Type1</td>\n",
       "      <td>test</td>\n",
       "      <td>FD</td>\n",
       "    </tr>\n",
       "    <tr>\n",
       "      <th>14200</th>\n",
       "      <td>FDD47</td>\n",
       "      <td>Regular</td>\n",
       "      <td>Starchy Foods</td>\n",
       "      <td>OUT018</td>\n",
       "      <td>Medium</td>\n",
       "      <td>Tier 3</td>\n",
       "      <td>Supermarket Type2</td>\n",
       "      <td>test</td>\n",
       "      <td>FD</td>\n",
       "    </tr>\n",
       "    <tr>\n",
       "      <th>14201</th>\n",
       "      <td>NCO17</td>\n",
       "      <td>Low Fat</td>\n",
       "      <td>Health and Hygiene</td>\n",
       "      <td>OUT045</td>\n",
       "      <td>Very Small</td>\n",
       "      <td>Tier 2</td>\n",
       "      <td>Supermarket Type1</td>\n",
       "      <td>test</td>\n",
       "      <td>NC</td>\n",
       "    </tr>\n",
       "    <tr>\n",
       "      <th>14202</th>\n",
       "      <td>FDJ26</td>\n",
       "      <td>Regular</td>\n",
       "      <td>Canned</td>\n",
       "      <td>OUT017</td>\n",
       "      <td>Very Small</td>\n",
       "      <td>Tier 2</td>\n",
       "      <td>Supermarket Type1</td>\n",
       "      <td>test</td>\n",
       "      <td>FD</td>\n",
       "    </tr>\n",
       "    <tr>\n",
       "      <th>14203</th>\n",
       "      <td>FDU37</td>\n",
       "      <td>Regular</td>\n",
       "      <td>Canned</td>\n",
       "      <td>OUT045</td>\n",
       "      <td>Very Small</td>\n",
       "      <td>Tier 2</td>\n",
       "      <td>Supermarket Type1</td>\n",
       "      <td>test</td>\n",
       "      <td>FD</td>\n",
       "    </tr>\n",
       "  </tbody>\n",
       "</table>\n",
       "<p>14204 rows × 9 columns</p>\n",
       "</div>"
      ],
      "text/plain": [
       "      Item_Identifier Item_Fat_Content  ...   data Item_Identifier_group\n",
       "0               FDA15          Low Fat  ...  train                    FD\n",
       "1               DRC01          Regular  ...  train                    DR\n",
       "2               FDN15          Low Fat  ...  train                    FD\n",
       "3               FDX07          Regular  ...  train                    FD\n",
       "4               NCD19          Low Fat  ...  train                    NC\n",
       "...               ...              ...  ...    ...                   ...\n",
       "14199           FDB58          Regular  ...   test                    FD\n",
       "14200           FDD47          Regular  ...   test                    FD\n",
       "14201           NCO17          Low Fat  ...   test                    NC\n",
       "14202           FDJ26          Regular  ...   test                    FD\n",
       "14203           FDU37          Regular  ...   test                    FD\n",
       "\n",
       "[14204 rows x 9 columns]"
      ]
     },
     "execution_count": 226,
     "metadata": {
      "tags": []
     },
     "output_type": "execute_result"
    }
   ],
   "source": [
    "data.select_dtypes(exclude = np.number)"
   ]
  },
  {
   "cell_type": "code",
   "execution_count": 227,
   "metadata": {
    "executionInfo": {
     "elapsed": 46,
     "status": "ok",
     "timestamp": 1627221968769,
     "user": {
      "displayName": "Mohamed Noordeen Alaudeen",
      "photoUrl": "",
      "userId": "13097854355562551879"
     },
     "user_tz": -330
    },
    "id": "RPOF0rKi5mVr"
   },
   "outputs": [],
   "source": [
    "category_data_columns = data.select_dtypes(exclude = np.number).drop(columns=[\"Item_Identifier\",\"data\"]).columns"
   ]
  },
  {
   "cell_type": "code",
   "execution_count": 228,
   "metadata": {
    "executionInfo": {
     "elapsed": 47,
     "status": "ok",
     "timestamp": 1627221968770,
     "user": {
      "displayName": "Mohamed Noordeen Alaudeen",
      "photoUrl": "",
      "userId": "13097854355562551879"
     },
     "user_tz": -330
    },
    "id": "-nE0FSK85mVr"
   },
   "outputs": [],
   "source": [
    "preprocess_category_data_columns = pd.get_dummies(data[category_data_columns])"
   ]
  },
  {
   "cell_type": "code",
   "execution_count": 229,
   "metadata": {
    "executionInfo": {
     "elapsed": 46,
     "status": "ok",
     "timestamp": 1627221968770,
     "user": {
      "displayName": "Mohamed Noordeen Alaudeen",
      "photoUrl": "",
      "userId": "13097854355562551879"
     },
     "user_tz": -330
    },
    "id": "3aec44XW5mVr"
   },
   "outputs": [],
   "source": [
    "scaler = StandardScaler()"
   ]
  },
  {
   "cell_type": "code",
   "execution_count": 230,
   "metadata": {
    "executionInfo": {
     "elapsed": 47,
     "status": "ok",
     "timestamp": 1627221968771,
     "user": {
      "displayName": "Mohamed Noordeen Alaudeen",
      "photoUrl": "",
      "userId": "13097854355562551879"
     },
     "user_tz": -330
    },
    "id": "_d5jr1Y75mVr"
   },
   "outputs": [],
   "source": [
    "preprocess_numeric_data_columns = pd.DataFrame(scaler.fit_transform(data[numeric_data_columns]), columns=numeric_data_columns)"
   ]
  },
  {
   "cell_type": "code",
   "execution_count": 230,
   "metadata": {
    "executionInfo": {
     "elapsed": 46,
     "status": "ok",
     "timestamp": 1627221968771,
     "user": {
      "displayName": "Mohamed Noordeen Alaudeen",
      "photoUrl": "",
      "userId": "13097854355562551879"
     },
     "user_tz": -330
    },
    "id": "DzUakp3g5mVs"
   },
   "outputs": [],
   "source": []
  },
  {
   "cell_type": "code",
   "execution_count": 231,
   "metadata": {
    "executionInfo": {
     "elapsed": 47,
     "status": "ok",
     "timestamp": 1627221968772,
     "user": {
      "displayName": "Mohamed Noordeen Alaudeen",
      "photoUrl": "",
      "userId": "13097854355562551879"
     },
     "user_tz": -330
    },
    "id": "KW4gDoSD5mVs"
   },
   "outputs": [],
   "source": [
    "final_preprocessed = pd.concat([preprocess_category_data_columns, preprocess_numeric_data_columns, data[[\"Item_Identifier\",\"Outlet_Identifier\",\"data\", \"Item_Outlet_Sales\"]]], axis = 1)"
   ]
  },
  {
   "cell_type": "code",
   "execution_count": 231,
   "metadata": {
    "executionInfo": {
     "elapsed": 46,
     "status": "ok",
     "timestamp": 1627221968772,
     "user": {
      "displayName": "Mohamed Noordeen Alaudeen",
      "photoUrl": "",
      "userId": "13097854355562551879"
     },
     "user_tz": -330
    },
    "id": "YCJwpTWQ5mVs"
   },
   "outputs": [],
   "source": []
  },
  {
   "cell_type": "code",
   "execution_count": 231,
   "metadata": {
    "executionInfo": {
     "elapsed": 47,
     "status": "ok",
     "timestamp": 1627221968773,
     "user": {
      "displayName": "Mohamed Noordeen Alaudeen",
      "photoUrl": "",
      "userId": "13097854355562551879"
     },
     "user_tz": -330
    },
    "id": "nQhL04ud5mVs"
   },
   "outputs": [],
   "source": []
  },
  {
   "cell_type": "code",
   "execution_count": 231,
   "metadata": {
    "executionInfo": {
     "elapsed": 46,
     "status": "ok",
     "timestamp": 1627221968773,
     "user": {
      "displayName": "Mohamed Noordeen Alaudeen",
      "photoUrl": "",
      "userId": "13097854355562551879"
     },
     "user_tz": -330
    },
    "id": "ycTXr-035mVs"
   },
   "outputs": [],
   "source": []
  },
  {
   "cell_type": "code",
   "execution_count": 231,
   "metadata": {
    "executionInfo": {
     "elapsed": 47,
     "status": "ok",
     "timestamp": 1627221968774,
     "user": {
      "displayName": "Mohamed Noordeen Alaudeen",
      "photoUrl": "",
      "userId": "13097854355562551879"
     },
     "user_tz": -330
    },
    "id": "FZjZnOUH5mVs"
   },
   "outputs": [],
   "source": []
  },
  {
   "cell_type": "code",
   "execution_count": 231,
   "metadata": {
    "executionInfo": {
     "elapsed": 47,
     "status": "ok",
     "timestamp": 1627221968774,
     "user": {
      "displayName": "Mohamed Noordeen Alaudeen",
      "photoUrl": "",
      "userId": "13097854355562551879"
     },
     "user_tz": -330
    },
    "id": "_ulJQw6y5mVs"
   },
   "outputs": [],
   "source": []
  },
  {
   "cell_type": "code",
   "execution_count": 231,
   "metadata": {
    "executionInfo": {
     "elapsed": 47,
     "status": "ok",
     "timestamp": 1627221968775,
     "user": {
      "displayName": "Mohamed Noordeen Alaudeen",
      "photoUrl": "",
      "userId": "13097854355562551879"
     },
     "user_tz": -330
    },
    "id": "gjvvQEc_5mVs"
   },
   "outputs": [],
   "source": []
  },
  {
   "cell_type": "code",
   "execution_count": 231,
   "metadata": {
    "executionInfo": {
     "elapsed": 47,
     "status": "ok",
     "timestamp": 1627221968775,
     "user": {
      "displayName": "Mohamed Noordeen Alaudeen",
      "photoUrl": "",
      "userId": "13097854355562551879"
     },
     "user_tz": -330
    },
    "id": "gYUTbYrO5mVs"
   },
   "outputs": [],
   "source": []
  },
  {
   "cell_type": "code",
   "execution_count": 232,
   "metadata": {
    "executionInfo": {
     "elapsed": 47,
     "status": "ok",
     "timestamp": 1627221968775,
     "user": {
      "displayName": "Mohamed Noordeen Alaudeen",
      "photoUrl": "",
      "userId": "13097854355562551879"
     },
     "user_tz": -330
    },
    "id": "F0LH387q5mVs"
   },
   "outputs": [],
   "source": [
    "train_preprocessed = final_preprocessed[final_preprocessed[\"data\"]==\"train\"]"
   ]
  },
  {
   "cell_type": "code",
   "execution_count": 233,
   "metadata": {
    "executionInfo": {
     "elapsed": 47,
     "status": "ok",
     "timestamp": 1627221968776,
     "user": {
      "displayName": "Mohamed Noordeen Alaudeen",
      "photoUrl": "",
      "userId": "13097854355562551879"
     },
     "user_tz": -330
    },
    "id": "Cjg1lV6C5mVt"
   },
   "outputs": [],
   "source": [
    "test_preprocessed = final_preprocessed[final_preprocessed[\"data\"]==\"test\"]"
   ]
  },
  {
   "cell_type": "code",
   "execution_count": 234,
   "metadata": {
    "executionInfo": {
     "elapsed": 47,
     "status": "ok",
     "timestamp": 1627221968776,
     "user": {
      "displayName": "Mohamed Noordeen Alaudeen",
      "photoUrl": "",
      "userId": "13097854355562551879"
     },
     "user_tz": -330
    },
    "id": "V4nZMAtF5mVt"
   },
   "outputs": [],
   "source": [
    "test_preprocessed = test_preprocessed.drop(columns = [\"data\",\"Item_Outlet_Sales\"])"
   ]
  },
  {
   "cell_type": "code",
   "execution_count": 235,
   "metadata": {
    "executionInfo": {
     "elapsed": 47,
     "status": "ok",
     "timestamp": 1627221968777,
     "user": {
      "displayName": "Mohamed Noordeen Alaudeen",
      "photoUrl": "",
      "userId": "13097854355562551879"
     },
     "user_tz": -330
    },
    "id": "Et02CFTK5mVt"
   },
   "outputs": [],
   "source": [
    "train_preprocessed = train_preprocessed.drop(columns = [\"data\"])"
   ]
  },
  {
   "cell_type": "code",
   "execution_count": 236,
   "metadata": {
    "executionInfo": {
     "elapsed": 47,
     "status": "ok",
     "timestamp": 1627221968777,
     "user": {
      "displayName": "Mohamed Noordeen Alaudeen",
      "photoUrl": "",
      "userId": "13097854355562551879"
     },
     "user_tz": -330
    },
    "id": "XgPsjDnc5mVt"
   },
   "outputs": [],
   "source": [
    "train_preprocessed.to_csv(\"train_preprocessed.csv\")\n",
    "test_preprocessed.to_csv(\"test_preprocessed.csv\")"
   ]
  },
  {
   "cell_type": "code",
   "execution_count": 237,
   "metadata": {
    "colab": {
     "base_uri": "https://localhost:8080/",
     "height": 242
    },
    "executionInfo": {
     "elapsed": 48,
     "status": "ok",
     "timestamp": 1627221968778,
     "user": {
      "displayName": "Mohamed Noordeen Alaudeen",
      "photoUrl": "",
      "userId": "13097854355562551879"
     },
     "user_tz": -330
    },
    "id": "5ZLDRexT5mVt",
    "outputId": "b6ff65cc-e40b-4807-a24a-13b8e42bcf98"
   },
   "outputs": [
    {
     "data": {
      "text/html": [
       "<div>\n",
       "<style scoped>\n",
       "    .dataframe tbody tr th:only-of-type {\n",
       "        vertical-align: middle;\n",
       "    }\n",
       "\n",
       "    .dataframe tbody tr th {\n",
       "        vertical-align: top;\n",
       "    }\n",
       "\n",
       "    .dataframe thead th {\n",
       "        text-align: right;\n",
       "    }\n",
       "</style>\n",
       "<table border=\"1\" class=\"dataframe\">\n",
       "  <thead>\n",
       "    <tr style=\"text-align: right;\">\n",
       "      <th></th>\n",
       "      <th>Item_Fat_Content_Low Fat</th>\n",
       "      <th>Item_Fat_Content_Regular</th>\n",
       "      <th>Item_Type_Baking Goods</th>\n",
       "      <th>Item_Type_Breads</th>\n",
       "      <th>Item_Type_Breakfast</th>\n",
       "      <th>Item_Type_Canned</th>\n",
       "      <th>Item_Type_Dairy</th>\n",
       "      <th>Item_Type_Frozen Foods</th>\n",
       "      <th>Item_Type_Fruits and Vegetables</th>\n",
       "      <th>Item_Type_Hard Drinks</th>\n",
       "      <th>Item_Type_Health and Hygiene</th>\n",
       "      <th>Item_Type_Household</th>\n",
       "      <th>Item_Type_Meat</th>\n",
       "      <th>Item_Type_Others</th>\n",
       "      <th>Item_Type_Seafood</th>\n",
       "      <th>Item_Type_Snack Foods</th>\n",
       "      <th>Item_Type_Soft Drinks</th>\n",
       "      <th>Item_Type_Starchy Foods</th>\n",
       "      <th>Outlet_Identifier_OUT010</th>\n",
       "      <th>Outlet_Identifier_OUT013</th>\n",
       "      <th>Outlet_Identifier_OUT017</th>\n",
       "      <th>Outlet_Identifier_OUT018</th>\n",
       "      <th>Outlet_Identifier_OUT019</th>\n",
       "      <th>Outlet_Identifier_OUT027</th>\n",
       "      <th>Outlet_Identifier_OUT035</th>\n",
       "      <th>Outlet_Identifier_OUT045</th>\n",
       "      <th>Outlet_Identifier_OUT046</th>\n",
       "      <th>Outlet_Identifier_OUT049</th>\n",
       "      <th>Outlet_Size_High</th>\n",
       "      <th>Outlet_Size_Medium</th>\n",
       "      <th>Outlet_Size_Small</th>\n",
       "      <th>Outlet_Size_Very Small</th>\n",
       "      <th>Outlet_Location_Type_Tier 1</th>\n",
       "      <th>Outlet_Location_Type_Tier 2</th>\n",
       "      <th>Outlet_Location_Type_Tier 3</th>\n",
       "      <th>Outlet_Type_Grocery Store</th>\n",
       "      <th>Outlet_Type_Supermarket Type1</th>\n",
       "      <th>Outlet_Type_Supermarket Type2</th>\n",
       "      <th>Outlet_Type_Supermarket Type3</th>\n",
       "      <th>Item_Identifier_group_DR</th>\n",
       "      <th>Item_Identifier_group_FD</th>\n",
       "      <th>Item_Identifier_group_NC</th>\n",
       "      <th>Item_Weight</th>\n",
       "      <th>Item_Visibility</th>\n",
       "      <th>Item_MRP</th>\n",
       "      <th>Outlet_Age</th>\n",
       "      <th>Item_Identifier</th>\n",
       "      <th>Outlet_Identifier</th>\n",
       "      <th>Item_Outlet_Sales</th>\n",
       "    </tr>\n",
       "  </thead>\n",
       "  <tbody>\n",
       "    <tr>\n",
       "      <th>0</th>\n",
       "      <td>1</td>\n",
       "      <td>0</td>\n",
       "      <td>0</td>\n",
       "      <td>0</td>\n",
       "      <td>0</td>\n",
       "      <td>0</td>\n",
       "      <td>1</td>\n",
       "      <td>0</td>\n",
       "      <td>0</td>\n",
       "      <td>0</td>\n",
       "      <td>0</td>\n",
       "      <td>0</td>\n",
       "      <td>0</td>\n",
       "      <td>0</td>\n",
       "      <td>0</td>\n",
       "      <td>0</td>\n",
       "      <td>0</td>\n",
       "      <td>0</td>\n",
       "      <td>0</td>\n",
       "      <td>0</td>\n",
       "      <td>0</td>\n",
       "      <td>0</td>\n",
       "      <td>0</td>\n",
       "      <td>0</td>\n",
       "      <td>0</td>\n",
       "      <td>0</td>\n",
       "      <td>0</td>\n",
       "      <td>1</td>\n",
       "      <td>0</td>\n",
       "      <td>1</td>\n",
       "      <td>0</td>\n",
       "      <td>0</td>\n",
       "      <td>1</td>\n",
       "      <td>0</td>\n",
       "      <td>0</td>\n",
       "      <td>0</td>\n",
       "      <td>1</td>\n",
       "      <td>0</td>\n",
       "      <td>0</td>\n",
       "      <td>0</td>\n",
       "      <td>1</td>\n",
       "      <td>0</td>\n",
       "      <td>-0.751014</td>\n",
       "      <td>-1.112295</td>\n",
       "      <td>1.752511</td>\n",
       "      <td>-0.139681</td>\n",
       "      <td>FDA15</td>\n",
       "      <td>OUT049</td>\n",
       "      <td>3735.1380</td>\n",
       "    </tr>\n",
       "    <tr>\n",
       "      <th>1</th>\n",
       "      <td>0</td>\n",
       "      <td>1</td>\n",
       "      <td>0</td>\n",
       "      <td>0</td>\n",
       "      <td>0</td>\n",
       "      <td>0</td>\n",
       "      <td>0</td>\n",
       "      <td>0</td>\n",
       "      <td>0</td>\n",
       "      <td>0</td>\n",
       "      <td>0</td>\n",
       "      <td>0</td>\n",
       "      <td>0</td>\n",
       "      <td>0</td>\n",
       "      <td>0</td>\n",
       "      <td>0</td>\n",
       "      <td>1</td>\n",
       "      <td>0</td>\n",
       "      <td>0</td>\n",
       "      <td>0</td>\n",
       "      <td>0</td>\n",
       "      <td>1</td>\n",
       "      <td>0</td>\n",
       "      <td>0</td>\n",
       "      <td>0</td>\n",
       "      <td>0</td>\n",
       "      <td>0</td>\n",
       "      <td>0</td>\n",
       "      <td>0</td>\n",
       "      <td>1</td>\n",
       "      <td>0</td>\n",
       "      <td>0</td>\n",
       "      <td>0</td>\n",
       "      <td>0</td>\n",
       "      <td>1</td>\n",
       "      <td>0</td>\n",
       "      <td>0</td>\n",
       "      <td>1</td>\n",
       "      <td>0</td>\n",
       "      <td>1</td>\n",
       "      <td>0</td>\n",
       "      <td>0</td>\n",
       "      <td>-1.477653</td>\n",
       "      <td>-1.046017</td>\n",
       "      <td>-1.493696</td>\n",
       "      <td>-1.334228</td>\n",
       "      <td>DRC01</td>\n",
       "      <td>OUT018</td>\n",
       "      <td>443.4228</td>\n",
       "    </tr>\n",
       "    <tr>\n",
       "      <th>2</th>\n",
       "      <td>1</td>\n",
       "      <td>0</td>\n",
       "      <td>0</td>\n",
       "      <td>0</td>\n",
       "      <td>0</td>\n",
       "      <td>0</td>\n",
       "      <td>0</td>\n",
       "      <td>0</td>\n",
       "      <td>0</td>\n",
       "      <td>0</td>\n",
       "      <td>0</td>\n",
       "      <td>0</td>\n",
       "      <td>1</td>\n",
       "      <td>0</td>\n",
       "      <td>0</td>\n",
       "      <td>0</td>\n",
       "      <td>0</td>\n",
       "      <td>0</td>\n",
       "      <td>0</td>\n",
       "      <td>0</td>\n",
       "      <td>0</td>\n",
       "      <td>0</td>\n",
       "      <td>0</td>\n",
       "      <td>0</td>\n",
       "      <td>0</td>\n",
       "      <td>0</td>\n",
       "      <td>0</td>\n",
       "      <td>1</td>\n",
       "      <td>0</td>\n",
       "      <td>1</td>\n",
       "      <td>0</td>\n",
       "      <td>0</td>\n",
       "      <td>1</td>\n",
       "      <td>0</td>\n",
       "      <td>0</td>\n",
       "      <td>0</td>\n",
       "      <td>1</td>\n",
       "      <td>0</td>\n",
       "      <td>0</td>\n",
       "      <td>0</td>\n",
       "      <td>1</td>\n",
       "      <td>0</td>\n",
       "      <td>1.011839</td>\n",
       "      <td>-1.097673</td>\n",
       "      <td>0.009874</td>\n",
       "      <td>-0.139681</td>\n",
       "      <td>FDN15</td>\n",
       "      <td>OUT049</td>\n",
       "      <td>2097.2700</td>\n",
       "    </tr>\n",
       "    <tr>\n",
       "      <th>3</th>\n",
       "      <td>0</td>\n",
       "      <td>1</td>\n",
       "      <td>0</td>\n",
       "      <td>0</td>\n",
       "      <td>0</td>\n",
       "      <td>0</td>\n",
       "      <td>0</td>\n",
       "      <td>0</td>\n",
       "      <td>1</td>\n",
       "      <td>0</td>\n",
       "      <td>0</td>\n",
       "      <td>0</td>\n",
       "      <td>0</td>\n",
       "      <td>0</td>\n",
       "      <td>0</td>\n",
       "      <td>0</td>\n",
       "      <td>0</td>\n",
       "      <td>0</td>\n",
       "      <td>1</td>\n",
       "      <td>0</td>\n",
       "      <td>0</td>\n",
       "      <td>0</td>\n",
       "      <td>0</td>\n",
       "      <td>0</td>\n",
       "      <td>0</td>\n",
       "      <td>0</td>\n",
       "      <td>0</td>\n",
       "      <td>0</td>\n",
       "      <td>0</td>\n",
       "      <td>0</td>\n",
       "      <td>0</td>\n",
       "      <td>1</td>\n",
       "      <td>0</td>\n",
       "      <td>0</td>\n",
       "      <td>1</td>\n",
       "      <td>1</td>\n",
       "      <td>0</td>\n",
       "      <td>0</td>\n",
       "      <td>0</td>\n",
       "      <td>0</td>\n",
       "      <td>1</td>\n",
       "      <td>0</td>\n",
       "      <td>1.377308</td>\n",
       "      <td>0.913882</td>\n",
       "      <td>0.661838</td>\n",
       "      <td>-0.020226</td>\n",
       "      <td>FDX07</td>\n",
       "      <td>OUT010</td>\n",
       "      <td>732.3800</td>\n",
       "    </tr>\n",
       "    <tr>\n",
       "      <th>4</th>\n",
       "      <td>1</td>\n",
       "      <td>0</td>\n",
       "      <td>0</td>\n",
       "      <td>0</td>\n",
       "      <td>0</td>\n",
       "      <td>0</td>\n",
       "      <td>0</td>\n",
       "      <td>0</td>\n",
       "      <td>0</td>\n",
       "      <td>0</td>\n",
       "      <td>0</td>\n",
       "      <td>1</td>\n",
       "      <td>0</td>\n",
       "      <td>0</td>\n",
       "      <td>0</td>\n",
       "      <td>0</td>\n",
       "      <td>0</td>\n",
       "      <td>0</td>\n",
       "      <td>0</td>\n",
       "      <td>1</td>\n",
       "      <td>0</td>\n",
       "      <td>0</td>\n",
       "      <td>0</td>\n",
       "      <td>0</td>\n",
       "      <td>0</td>\n",
       "      <td>0</td>\n",
       "      <td>0</td>\n",
       "      <td>0</td>\n",
       "      <td>1</td>\n",
       "      <td>0</td>\n",
       "      <td>0</td>\n",
       "      <td>0</td>\n",
       "      <td>0</td>\n",
       "      <td>0</td>\n",
       "      <td>1</td>\n",
       "      <td>0</td>\n",
       "      <td>1</td>\n",
       "      <td>0</td>\n",
       "      <td>0</td>\n",
       "      <td>0</td>\n",
       "      <td>0</td>\n",
       "      <td>1</td>\n",
       "      <td>-0.830557</td>\n",
       "      <td>-0.256345</td>\n",
       "      <td>-1.403623</td>\n",
       "      <td>1.293777</td>\n",
       "      <td>NCD19</td>\n",
       "      <td>OUT013</td>\n",
       "      <td>994.7052</td>\n",
       "    </tr>\n",
       "  </tbody>\n",
       "</table>\n",
       "</div>"
      ],
      "text/plain": [
       "   Item_Fat_Content_Low Fat  ...  Item_Outlet_Sales\n",
       "0                         1  ...          3735.1380\n",
       "1                         0  ...           443.4228\n",
       "2                         1  ...          2097.2700\n",
       "3                         0  ...           732.3800\n",
       "4                         1  ...           994.7052\n",
       "\n",
       "[5 rows x 49 columns]"
      ]
     },
     "execution_count": 237,
     "metadata": {
      "tags": []
     },
     "output_type": "execute_result"
    }
   ],
   "source": [
    "train_preprocessed.head()"
   ]
  },
  {
   "cell_type": "code",
   "execution_count": 238,
   "metadata": {
    "colab": {
     "base_uri": "https://localhost:8080/",
     "height": 242
    },
    "executionInfo": {
     "elapsed": 46,
     "status": "ok",
     "timestamp": 1627221968778,
     "user": {
      "displayName": "Mohamed Noordeen Alaudeen",
      "photoUrl": "",
      "userId": "13097854355562551879"
     },
     "user_tz": -330
    },
    "id": "lJ4vwGiV5mVt",
    "outputId": "e41d7183-ff65-4f61-9c5c-9ea4fe12650a"
   },
   "outputs": [
    {
     "data": {
      "text/html": [
       "<div>\n",
       "<style scoped>\n",
       "    .dataframe tbody tr th:only-of-type {\n",
       "        vertical-align: middle;\n",
       "    }\n",
       "\n",
       "    .dataframe tbody tr th {\n",
       "        vertical-align: top;\n",
       "    }\n",
       "\n",
       "    .dataframe thead th {\n",
       "        text-align: right;\n",
       "    }\n",
       "</style>\n",
       "<table border=\"1\" class=\"dataframe\">\n",
       "  <thead>\n",
       "    <tr style=\"text-align: right;\">\n",
       "      <th></th>\n",
       "      <th>Item_Fat_Content_Low Fat</th>\n",
       "      <th>Item_Fat_Content_Regular</th>\n",
       "      <th>Item_Type_Baking Goods</th>\n",
       "      <th>Item_Type_Breads</th>\n",
       "      <th>Item_Type_Breakfast</th>\n",
       "      <th>Item_Type_Canned</th>\n",
       "      <th>Item_Type_Dairy</th>\n",
       "      <th>Item_Type_Frozen Foods</th>\n",
       "      <th>Item_Type_Fruits and Vegetables</th>\n",
       "      <th>Item_Type_Hard Drinks</th>\n",
       "      <th>Item_Type_Health and Hygiene</th>\n",
       "      <th>Item_Type_Household</th>\n",
       "      <th>Item_Type_Meat</th>\n",
       "      <th>Item_Type_Others</th>\n",
       "      <th>Item_Type_Seafood</th>\n",
       "      <th>Item_Type_Snack Foods</th>\n",
       "      <th>Item_Type_Soft Drinks</th>\n",
       "      <th>Item_Type_Starchy Foods</th>\n",
       "      <th>Outlet_Identifier_OUT010</th>\n",
       "      <th>Outlet_Identifier_OUT013</th>\n",
       "      <th>Outlet_Identifier_OUT017</th>\n",
       "      <th>Outlet_Identifier_OUT018</th>\n",
       "      <th>Outlet_Identifier_OUT019</th>\n",
       "      <th>Outlet_Identifier_OUT027</th>\n",
       "      <th>Outlet_Identifier_OUT035</th>\n",
       "      <th>Outlet_Identifier_OUT045</th>\n",
       "      <th>Outlet_Identifier_OUT046</th>\n",
       "      <th>Outlet_Identifier_OUT049</th>\n",
       "      <th>Outlet_Size_High</th>\n",
       "      <th>Outlet_Size_Medium</th>\n",
       "      <th>Outlet_Size_Small</th>\n",
       "      <th>Outlet_Size_Very Small</th>\n",
       "      <th>Outlet_Location_Type_Tier 1</th>\n",
       "      <th>Outlet_Location_Type_Tier 2</th>\n",
       "      <th>Outlet_Location_Type_Tier 3</th>\n",
       "      <th>Outlet_Type_Grocery Store</th>\n",
       "      <th>Outlet_Type_Supermarket Type1</th>\n",
       "      <th>Outlet_Type_Supermarket Type2</th>\n",
       "      <th>Outlet_Type_Supermarket Type3</th>\n",
       "      <th>Item_Identifier_group_DR</th>\n",
       "      <th>Item_Identifier_group_FD</th>\n",
       "      <th>Item_Identifier_group_NC</th>\n",
       "      <th>Item_Weight</th>\n",
       "      <th>Item_Visibility</th>\n",
       "      <th>Item_MRP</th>\n",
       "      <th>Outlet_Age</th>\n",
       "      <th>Item_Identifier</th>\n",
       "      <th>Outlet_Identifier</th>\n",
       "    </tr>\n",
       "  </thead>\n",
       "  <tbody>\n",
       "    <tr>\n",
       "      <th>8523</th>\n",
       "      <td>1</td>\n",
       "      <td>0</td>\n",
       "      <td>0</td>\n",
       "      <td>0</td>\n",
       "      <td>0</td>\n",
       "      <td>0</td>\n",
       "      <td>0</td>\n",
       "      <td>0</td>\n",
       "      <td>0</td>\n",
       "      <td>0</td>\n",
       "      <td>0</td>\n",
       "      <td>0</td>\n",
       "      <td>0</td>\n",
       "      <td>0</td>\n",
       "      <td>0</td>\n",
       "      <td>1</td>\n",
       "      <td>0</td>\n",
       "      <td>0</td>\n",
       "      <td>0</td>\n",
       "      <td>0</td>\n",
       "      <td>0</td>\n",
       "      <td>0</td>\n",
       "      <td>0</td>\n",
       "      <td>0</td>\n",
       "      <td>0</td>\n",
       "      <td>0</td>\n",
       "      <td>0</td>\n",
       "      <td>1</td>\n",
       "      <td>0</td>\n",
       "      <td>1</td>\n",
       "      <td>0</td>\n",
       "      <td>0</td>\n",
       "      <td>1</td>\n",
       "      <td>0</td>\n",
       "      <td>0</td>\n",
       "      <td>0</td>\n",
       "      <td>1</td>\n",
       "      <td>0</td>\n",
       "      <td>0</td>\n",
       "      <td>0</td>\n",
       "      <td>1</td>\n",
       "      <td>0</td>\n",
       "      <td>1.710530</td>\n",
       "      <td>-1.286299</td>\n",
       "      <td>-0.533831</td>\n",
       "      <td>-0.139681</td>\n",
       "      <td>FDW58</td>\n",
       "      <td>OUT049</td>\n",
       "    </tr>\n",
       "    <tr>\n",
       "      <th>8524</th>\n",
       "      <td>0</td>\n",
       "      <td>1</td>\n",
       "      <td>0</td>\n",
       "      <td>0</td>\n",
       "      <td>0</td>\n",
       "      <td>0</td>\n",
       "      <td>1</td>\n",
       "      <td>0</td>\n",
       "      <td>0</td>\n",
       "      <td>0</td>\n",
       "      <td>0</td>\n",
       "      <td>0</td>\n",
       "      <td>0</td>\n",
       "      <td>0</td>\n",
       "      <td>0</td>\n",
       "      <td>0</td>\n",
       "      <td>0</td>\n",
       "      <td>0</td>\n",
       "      <td>0</td>\n",
       "      <td>0</td>\n",
       "      <td>1</td>\n",
       "      <td>0</td>\n",
       "      <td>0</td>\n",
       "      <td>0</td>\n",
       "      <td>0</td>\n",
       "      <td>0</td>\n",
       "      <td>0</td>\n",
       "      <td>0</td>\n",
       "      <td>0</td>\n",
       "      <td>0</td>\n",
       "      <td>0</td>\n",
       "      <td>1</td>\n",
       "      <td>0</td>\n",
       "      <td>1</td>\n",
       "      <td>0</td>\n",
       "      <td>0</td>\n",
       "      <td>1</td>\n",
       "      <td>0</td>\n",
       "      <td>0</td>\n",
       "      <td>0</td>\n",
       "      <td>1</td>\n",
       "      <td>0</td>\n",
       "      <td>-0.965996</td>\n",
       "      <td>-0.653196</td>\n",
       "      <td>-0.864708</td>\n",
       "      <td>-1.095319</td>\n",
       "      <td>FDW14</td>\n",
       "      <td>OUT017</td>\n",
       "    </tr>\n",
       "    <tr>\n",
       "      <th>8525</th>\n",
       "      <td>1</td>\n",
       "      <td>0</td>\n",
       "      <td>0</td>\n",
       "      <td>0</td>\n",
       "      <td>0</td>\n",
       "      <td>0</td>\n",
       "      <td>0</td>\n",
       "      <td>0</td>\n",
       "      <td>0</td>\n",
       "      <td>0</td>\n",
       "      <td>0</td>\n",
       "      <td>0</td>\n",
       "      <td>0</td>\n",
       "      <td>1</td>\n",
       "      <td>0</td>\n",
       "      <td>0</td>\n",
       "      <td>0</td>\n",
       "      <td>0</td>\n",
       "      <td>1</td>\n",
       "      <td>0</td>\n",
       "      <td>0</td>\n",
       "      <td>0</td>\n",
       "      <td>0</td>\n",
       "      <td>0</td>\n",
       "      <td>0</td>\n",
       "      <td>0</td>\n",
       "      <td>0</td>\n",
       "      <td>0</td>\n",
       "      <td>0</td>\n",
       "      <td>0</td>\n",
       "      <td>0</td>\n",
       "      <td>1</td>\n",
       "      <td>0</td>\n",
       "      <td>0</td>\n",
       "      <td>1</td>\n",
       "      <td>1</td>\n",
       "      <td>0</td>\n",
       "      <td>0</td>\n",
       "      <td>0</td>\n",
       "      <td>0</td>\n",
       "      <td>0</td>\n",
       "      <td>1</td>\n",
       "      <td>0.388391</td>\n",
       "      <td>0.601144</td>\n",
       "      <td>1.622763</td>\n",
       "      <td>-0.020226</td>\n",
       "      <td>NCN55</td>\n",
       "      <td>OUT010</td>\n",
       "    </tr>\n",
       "    <tr>\n",
       "      <th>8526</th>\n",
       "      <td>1</td>\n",
       "      <td>0</td>\n",
       "      <td>0</td>\n",
       "      <td>0</td>\n",
       "      <td>0</td>\n",
       "      <td>0</td>\n",
       "      <td>0</td>\n",
       "      <td>0</td>\n",
       "      <td>0</td>\n",
       "      <td>0</td>\n",
       "      <td>0</td>\n",
       "      <td>0</td>\n",
       "      <td>0</td>\n",
       "      <td>0</td>\n",
       "      <td>0</td>\n",
       "      <td>1</td>\n",
       "      <td>0</td>\n",
       "      <td>0</td>\n",
       "      <td>0</td>\n",
       "      <td>0</td>\n",
       "      <td>1</td>\n",
       "      <td>0</td>\n",
       "      <td>0</td>\n",
       "      <td>0</td>\n",
       "      <td>0</td>\n",
       "      <td>0</td>\n",
       "      <td>0</td>\n",
       "      <td>0</td>\n",
       "      <td>0</td>\n",
       "      <td>0</td>\n",
       "      <td>0</td>\n",
       "      <td>1</td>\n",
       "      <td>0</td>\n",
       "      <td>1</td>\n",
       "      <td>0</td>\n",
       "      <td>0</td>\n",
       "      <td>1</td>\n",
       "      <td>0</td>\n",
       "      <td>0</td>\n",
       "      <td>0</td>\n",
       "      <td>1</td>\n",
       "      <td>0</td>\n",
       "      <td>-1.177753</td>\n",
       "      <td>-1.125811</td>\n",
       "      <td>0.225966</td>\n",
       "      <td>-1.095319</td>\n",
       "      <td>FDQ58</td>\n",
       "      <td>OUT017</td>\n",
       "    </tr>\n",
       "    <tr>\n",
       "      <th>8527</th>\n",
       "      <td>0</td>\n",
       "      <td>1</td>\n",
       "      <td>0</td>\n",
       "      <td>0</td>\n",
       "      <td>0</td>\n",
       "      <td>0</td>\n",
       "      <td>1</td>\n",
       "      <td>0</td>\n",
       "      <td>0</td>\n",
       "      <td>0</td>\n",
       "      <td>0</td>\n",
       "      <td>0</td>\n",
       "      <td>0</td>\n",
       "      <td>0</td>\n",
       "      <td>0</td>\n",
       "      <td>0</td>\n",
       "      <td>0</td>\n",
       "      <td>0</td>\n",
       "      <td>0</td>\n",
       "      <td>0</td>\n",
       "      <td>0</td>\n",
       "      <td>0</td>\n",
       "      <td>0</td>\n",
       "      <td>1</td>\n",
       "      <td>0</td>\n",
       "      <td>0</td>\n",
       "      <td>0</td>\n",
       "      <td>0</td>\n",
       "      <td>0</td>\n",
       "      <td>1</td>\n",
       "      <td>0</td>\n",
       "      <td>0</td>\n",
       "      <td>0</td>\n",
       "      <td>0</td>\n",
       "      <td>1</td>\n",
       "      <td>0</td>\n",
       "      <td>0</td>\n",
       "      <td>0</td>\n",
       "      <td>1</td>\n",
       "      <td>0</td>\n",
       "      <td>1</td>\n",
       "      <td>0</td>\n",
       "      <td>0.173409</td>\n",
       "      <td>0.991400</td>\n",
       "      <td>1.501577</td>\n",
       "      <td>1.532686</td>\n",
       "      <td>FDY38</td>\n",
       "      <td>OUT027</td>\n",
       "    </tr>\n",
       "  </tbody>\n",
       "</table>\n",
       "</div>"
      ],
      "text/plain": [
       "      Item_Fat_Content_Low Fat  ...  Outlet_Identifier\n",
       "8523                         1  ...             OUT049\n",
       "8524                         0  ...             OUT017\n",
       "8525                         1  ...             OUT010\n",
       "8526                         1  ...             OUT017\n",
       "8527                         0  ...             OUT027\n",
       "\n",
       "[5 rows x 48 columns]"
      ]
     },
     "execution_count": 238,
     "metadata": {
      "tags": []
     },
     "output_type": "execute_result"
    }
   ],
   "source": [
    "test_preprocessed.head()"
   ]
  },
  {
   "cell_type": "markdown",
   "metadata": {
    "id": "iDeDL0jl5mVt"
   },
   "source": [
    "# MODEL"
   ]
  },
  {
   "cell_type": "code",
   "execution_count": 239,
   "metadata": {
    "executionInfo": {
     "elapsed": 46,
     "status": "ok",
     "timestamp": 1627221968779,
     "user": {
      "displayName": "Mohamed Noordeen Alaudeen",
      "photoUrl": "",
      "userId": "13097854355562551879"
     },
     "user_tz": -330
    },
    "id": "H_rmABgr5mVt"
   },
   "outputs": [],
   "source": [
    "model = LinearRegression()"
   ]
  },
  {
   "cell_type": "code",
   "execution_count": 240,
   "metadata": {
    "executionInfo": {
     "elapsed": 46,
     "status": "ok",
     "timestamp": 1627221968779,
     "user": {
      "displayName": "Mohamed Noordeen Alaudeen",
      "photoUrl": "",
      "userId": "13097854355562551879"
     },
     "user_tz": -330
    },
    "id": "zWBOhojr5mVu"
   },
   "outputs": [],
   "source": [
    "X = train_preprocessed.drop(columns=[\"Item_Identifier\",\"Outlet_Identifier\",\"Item_Outlet_Sales\"])"
   ]
  },
  {
   "cell_type": "code",
   "execution_count": 241,
   "metadata": {
    "executionInfo": {
     "elapsed": 46,
     "status": "ok",
     "timestamp": 1627221968779,
     "user": {
      "displayName": "Mohamed Noordeen Alaudeen",
      "photoUrl": "",
      "userId": "13097854355562551879"
     },
     "user_tz": -330
    },
    "id": "OsGbjg9A5mVu"
   },
   "outputs": [],
   "source": [
    "y = train_preprocessed[\"Item_Outlet_Sales\"]"
   ]
  },
  {
   "cell_type": "code",
   "execution_count": 242,
   "metadata": {
    "colab": {
     "base_uri": "https://localhost:8080/"
    },
    "executionInfo": {
     "elapsed": 46,
     "status": "ok",
     "timestamp": 1627221968780,
     "user": {
      "displayName": "Mohamed Noordeen Alaudeen",
      "photoUrl": "",
      "userId": "13097854355562551879"
     },
     "user_tz": -330
    },
    "id": "QmJ5I9OT5mVu",
    "outputId": "452834b4-9539-413e-8776-f094f51cd5bc"
   },
   "outputs": [
    {
     "data": {
      "text/plain": [
       "LinearRegression(copy_X=True, fit_intercept=True, n_jobs=None, normalize=False)"
      ]
     },
     "execution_count": 242,
     "metadata": {
      "tags": []
     },
     "output_type": "execute_result"
    }
   ],
   "source": [
    "model.fit(X,y)"
   ]
  },
  {
   "cell_type": "code",
   "execution_count": 243,
   "metadata": {
    "colab": {
     "base_uri": "https://localhost:8080/"
    },
    "executionInfo": {
     "elapsed": 39,
     "status": "ok",
     "timestamp": 1627221968780,
     "user": {
      "displayName": "Mohamed Noordeen Alaudeen",
      "photoUrl": "",
      "userId": "13097854355562551879"
     },
     "user_tz": -330
    },
    "id": "_7-azTV45mVu",
    "outputId": "98130f51-931b-4663-a9c3-2ef517a9307e"
   },
   "outputs": [
    {
     "data": {
      "text/plain": [
       "1127.1713277439642"
      ]
     },
     "execution_count": 243,
     "metadata": {
      "tags": []
     },
     "output_type": "execute_result"
    }
   ],
   "source": [
    "mean_squared_error(y, model.predict(X),squared=False)"
   ]
  },
  {
   "cell_type": "code",
   "execution_count": 244,
   "metadata": {
    "executionInfo": {
     "elapsed": 35,
     "status": "ok",
     "timestamp": 1627221968781,
     "user": {
      "displayName": "Mohamed Noordeen Alaudeen",
      "photoUrl": "",
      "userId": "13097854355562551879"
     },
     "user_tz": -330
    },
    "id": "pVDRkRXk5mVu"
   },
   "outputs": [],
   "source": [
    "X_test = test_preprocessed.drop(columns=[\"Item_Identifier\",\"Outlet_Identifier\"])"
   ]
  },
  {
   "cell_type": "code",
   "execution_count": 245,
   "metadata": {
    "executionInfo": {
     "elapsed": 34,
     "status": "ok",
     "timestamp": 1627221968781,
     "user": {
      "displayName": "Mohamed Noordeen Alaudeen",
      "photoUrl": "",
      "userId": "13097854355562551879"
     },
     "user_tz": -330
    },
    "id": "daURugji5mVu"
   },
   "outputs": [],
   "source": [
    "y_pred = model.predict(X_test)"
   ]
  },
  {
   "cell_type": "code",
   "execution_count": null,
   "metadata": {
    "executionInfo": {
     "elapsed": 34,
     "status": "ok",
     "timestamp": 1627221968781,
     "user": {
      "displayName": "Mohamed Noordeen Alaudeen",
      "photoUrl": "",
      "userId": "13097854355562551879"
     },
     "user_tz": -330
    },
    "id": "g7f7nBEb5mVu"
   },
   "outputs": [],
   "source": [
    "submission[\"Item_Outlet_Sales\"] = y_pred"
   ]
  },
  {
   "cell_type": "code",
   "execution_count": 247,
   "metadata": {
    "colab": {
     "base_uri": "https://localhost:8080/",
     "height": 421
    },
    "executionInfo": {
     "elapsed": 34,
     "status": "ok",
     "timestamp": 1627221968782,
     "user": {
      "displayName": "Mohamed Noordeen Alaudeen",
      "photoUrl": "",
      "userId": "13097854355562551879"
     },
     "user_tz": -330
    },
    "id": "qrnvP6ba5mVv",
    "outputId": "4ef6796c-c18c-4054-9051-0433b50f873f"
   },
   "outputs": [
    {
     "data": {
      "text/html": [
       "<div>\n",
       "<style scoped>\n",
       "    .dataframe tbody tr th:only-of-type {\n",
       "        vertical-align: middle;\n",
       "    }\n",
       "\n",
       "    .dataframe tbody tr th {\n",
       "        vertical-align: top;\n",
       "    }\n",
       "\n",
       "    .dataframe thead th {\n",
       "        text-align: right;\n",
       "    }\n",
       "</style>\n",
       "<table border=\"1\" class=\"dataframe\">\n",
       "  <thead>\n",
       "    <tr style=\"text-align: right;\">\n",
       "      <th></th>\n",
       "      <th>Item_Identifier</th>\n",
       "      <th>Outlet_Identifier</th>\n",
       "      <th>Item_Outlet_Sales</th>\n",
       "    </tr>\n",
       "  </thead>\n",
       "  <tbody>\n",
       "    <tr>\n",
       "      <th>0</th>\n",
       "      <td>FDW58</td>\n",
       "      <td>OUT049</td>\n",
       "      <td>1840.0</td>\n",
       "    </tr>\n",
       "    <tr>\n",
       "      <th>1</th>\n",
       "      <td>FDW14</td>\n",
       "      <td>OUT017</td>\n",
       "      <td>1512.0</td>\n",
       "    </tr>\n",
       "    <tr>\n",
       "      <th>2</th>\n",
       "      <td>NCN55</td>\n",
       "      <td>OUT010</td>\n",
       "      <td>1852.0</td>\n",
       "    </tr>\n",
       "    <tr>\n",
       "      <th>3</th>\n",
       "      <td>FDQ58</td>\n",
       "      <td>OUT017</td>\n",
       "      <td>2584.0</td>\n",
       "    </tr>\n",
       "    <tr>\n",
       "      <th>4</th>\n",
       "      <td>FDY38</td>\n",
       "      <td>OUT027</td>\n",
       "      <td>5104.0</td>\n",
       "    </tr>\n",
       "    <tr>\n",
       "      <th>...</th>\n",
       "      <td>...</td>\n",
       "      <td>...</td>\n",
       "      <td>...</td>\n",
       "    </tr>\n",
       "    <tr>\n",
       "      <th>5676</th>\n",
       "      <td>FDB58</td>\n",
       "      <td>OUT046</td>\n",
       "      <td>2304.0</td>\n",
       "    </tr>\n",
       "    <tr>\n",
       "      <th>5677</th>\n",
       "      <td>FDD47</td>\n",
       "      <td>OUT018</td>\n",
       "      <td>2440.0</td>\n",
       "    </tr>\n",
       "    <tr>\n",
       "      <th>5678</th>\n",
       "      <td>NCO17</td>\n",
       "      <td>OUT045</td>\n",
       "      <td>1816.0</td>\n",
       "    </tr>\n",
       "    <tr>\n",
       "      <th>5679</th>\n",
       "      <td>FDJ26</td>\n",
       "      <td>OUT017</td>\n",
       "      <td>3600.0</td>\n",
       "    </tr>\n",
       "    <tr>\n",
       "      <th>5680</th>\n",
       "      <td>FDU37</td>\n",
       "      <td>OUT045</td>\n",
       "      <td>1300.0</td>\n",
       "    </tr>\n",
       "  </tbody>\n",
       "</table>\n",
       "<p>5681 rows × 3 columns</p>\n",
       "</div>"
      ],
      "text/plain": [
       "     Item_Identifier Outlet_Identifier  Item_Outlet_Sales\n",
       "0              FDW58            OUT049             1840.0\n",
       "1              FDW14            OUT017             1512.0\n",
       "2              NCN55            OUT010             1852.0\n",
       "3              FDQ58            OUT017             2584.0\n",
       "4              FDY38            OUT027             5104.0\n",
       "...              ...               ...                ...\n",
       "5676           FDB58            OUT046             2304.0\n",
       "5677           FDD47            OUT018             2440.0\n",
       "5678           NCO17            OUT045             1816.0\n",
       "5679           FDJ26            OUT017             3600.0\n",
       "5680           FDU37            OUT045             1300.0\n",
       "\n",
       "[5681 rows x 3 columns]"
      ]
     },
     "execution_count": 247,
     "metadata": {
      "tags": []
     },
     "output_type": "execute_result"
    }
   ],
   "source": [
    "submission"
   ]
  },
  {
   "cell_type": "code",
   "execution_count": 248,
   "metadata": {
    "executionInfo": {
     "elapsed": 33,
     "status": "ok",
     "timestamp": 1627221968782,
     "user": {
      "displayName": "Mohamed Noordeen Alaudeen",
      "photoUrl": "",
      "userId": "13097854355562551879"
     },
     "user_tz": -330
    },
    "id": "t7xQw1PC5mVv"
   },
   "outputs": [],
   "source": [
    "submission['Item_Outlet_Sales'] = np.abs(submission['Item_Outlet_Sales'])"
   ]
  },
  {
   "cell_type": "code",
   "execution_count": 249,
   "metadata": {
    "executionInfo": {
     "elapsed": 33,
     "status": "ok",
     "timestamp": 1627221968782,
     "user": {
      "displayName": "Mohamed Noordeen Alaudeen",
      "photoUrl": "",
      "userId": "13097854355562551879"
     },
     "user_tz": -330
    },
    "id": "6XSsNLgC5mVv"
   },
   "outputs": [],
   "source": [
    "submission.to_csv(\"linear_regression_result.csv\", index = False)"
   ]
  },
  {
   "cell_type": "code",
   "execution_count": 250,
   "metadata": {
    "colab": {
     "base_uri": "https://localhost:8080/",
     "height": 557
    },
    "executionInfo": {
     "elapsed": 33,
     "status": "ok",
     "timestamp": 1627221968783,
     "user": {
      "displayName": "Mohamed Noordeen Alaudeen",
      "photoUrl": "",
      "userId": "13097854355562551879"
     },
     "user_tz": -330
    },
    "id": "x1rV-TrA5mVv",
    "outputId": "e3ef865e-9eba-4f89-8113-588757b311e7"
   },
   "outputs": [
    {
     "data": {
      "image/png": "[encoded data removed]",
      "text/plain": [
       "<IPython.core.display.Image object>"
      ]
     },
     "execution_count": 250,
     "metadata": {
      "tags": []
     },
     "output_type": "execute_result"
    }
   ],
   "source": [
    "from IPython.display import Image\n",
    "Image(filename='result_av_check.png')"
   ]
  },
  {
   "cell_type": "code",
   "execution_count": 250,
   "metadata": {
    "executionInfo": {
     "elapsed": 1637,
     "status": "ok",
     "timestamp": 1627221970388,
     "user": {
      "displayName": "Mohamed Noordeen Alaudeen",
      "photoUrl": "",
      "userId": "13097854355562551879"
     },
     "user_tz": -330
    },
    "id": "qM2lzMqF5mVv"
   },
   "outputs": [],
   "source": []
  },
  {
   "cell_type": "code",
   "execution_count": 250,
   "metadata": {
    "executionInfo": {
     "elapsed": 15,
     "status": "ok",
     "timestamp": 1627221970389,
     "user": {
      "displayName": "Mohamed Noordeen Alaudeen",
      "photoUrl": "",
      "userId": "13097854355562551879"
     },
     "user_tz": -330
    },
    "id": "6fbB_Ezv5mVv"
   },
   "outputs": [],
   "source": []
  },
  {
   "cell_type": "code",
   "execution_count": 251,
   "metadata": {
    "colab": {
     "base_uri": "https://localhost:8080/",
     "height": 435
    },
    "executionInfo": {
     "elapsed": 14,
     "status": "ok",
     "timestamp": 1627221970389,
     "user": {
      "displayName": "Mohamed Noordeen Alaudeen",
      "photoUrl": "",
      "userId": "13097854355562551879"
     },
     "user_tz": -330
    },
    "id": "9Y24UDLa5mVv",
    "outputId": "5ae58afd-1422-45cf-8ba8-4bf17555ec0d"
   },
   "outputs": [
    {
     "data": {
      "text/plain": [
       "<matplotlib.axes._subplots.AxesSubplot at 0x7f6fca509a90>"
      ]
     },
     "execution_count": 251,
     "metadata": {
      "tags": []
     },
     "output_type": "execute_result"
    },
    {
     "data": {
      "image/png": "[encoded data removed]",
      "text/plain": [
       "<Figure size 432x288 with 1 Axes>"
      ]
     },
     "metadata": {
      "needs_background": "light",
      "tags": []
     },
     "output_type": "display_data"
    }
   ],
   "source": [
    "# Regularization\n",
    "\n",
    "# Ridge Regression\n",
    "\n",
    "ridge_model = Ridge(alpha = 10)\n",
    "\n",
    "ridge_model.fit(X,y)\n",
    "\n",
    "X.columns\n",
    "\n",
    "ridge_model.coef_\n",
    "\n",
    "X.columns.values\n",
    "\n",
    "modelSlope = pd.Series(ridge_model.coef_, index=X.columns).sort_values(ascending=False)\n",
    "\n",
    "modelSlope.plot(kind = \"bar\")\n",
    "\n",
    "\n",
    "\n",
    "\n",
    "\n",
    "\n",
    "\n"
   ]
  },
  {
   "cell_type": "code",
   "execution_count": 252,
   "metadata": {
    "colab": {
     "base_uri": "https://localhost:8080/",
     "height": 490
    },
    "executionInfo": {
     "elapsed": 13,
     "status": "ok",
     "timestamp": 1627221970390,
     "user": {
      "displayName": "Mohamed Noordeen Alaudeen",
      "photoUrl": "",
      "userId": "13097854355562551879"
     },
     "user_tz": -330
    },
    "id": "lJCX00kh-u3d",
    "outputId": "ed3e92a4-3999-45d7-d4ce-635653c15a8f"
   },
   "outputs": [
    {
     "name": "stderr",
     "output_type": "stream",
     "text": [
      "/usr/local/lib/python3.7/dist-packages/sklearn/linear_model/_coordinate_descent.py:476: ConvergenceWarning: Objective did not converge. You might want to increase the number of iterations. Duality gap: 117789485.79714012, tolerance: 2481726.5077894614\n",
      "  positive)\n"
     ]
    },
    {
     "data": {
      "text/plain": [
       "<matplotlib.axes._subplots.AxesSubplot at 0x7f6fca42f650>"
      ]
     },
     "execution_count": 252,
     "metadata": {
      "tags": []
     },
     "output_type": "execute_result"
    },
    {
     "data": {
      "image/png": "[encoded data removed]",
      "text/plain": [
       "<Figure size 432x288 with 1 Axes>"
      ]
     },
     "metadata": {
      "needs_background": "light",
      "tags": []
     },
     "output_type": "display_data"
    }
   ],
   "source": [
    "# Lasso Regression\n",
    "\n",
    "lasso_model = Lasso(alpha = 0.2)\n",
    "\n",
    "lasso_model.fit(X,y)\n",
    "\n",
    "X.columns\n",
    "\n",
    "lasso_model.coef_\n",
    "\n",
    "X.columns.values\n",
    "\n",
    "modelSlope = pd.Series(lasso_model.coef_, index=X.columns).sort_values(ascending=False)\n",
    "\n",
    "modelSlope.plot(kind = \"bar\")\n",
    "\n",
    "\n",
    "\n"
   ]
  },
  {
   "cell_type": "code",
   "execution_count": 253,
   "metadata": {
    "colab": {
     "base_uri": "https://localhost:8080/",
     "height": 504
    },
    "executionInfo": {
     "elapsed": 1181,
     "status": "ok",
     "timestamp": 1627221971563,
     "user": {
      "displayName": "Mohamed Noordeen Alaudeen",
      "photoUrl": "",
      "userId": "13097854355562551879"
     },
     "user_tz": -330
    },
    "id": "3Len5mZ5-4kU",
    "outputId": "e535574b-6cd5-4c8d-de8c-fc9e3b4f8102"
   },
   "outputs": [
    {
     "data": {
      "text/plain": [
       "Item_Type_Dairy         -0.0\n",
       "Item_Type_Breads         0.0\n",
       "Item_Type_Breakfast     -0.0\n",
       "Item_Type_Hard Drinks    0.0\n",
       "dtype: float64"
      ]
     },
     "execution_count": 253,
     "metadata": {
      "tags": []
     },
     "output_type": "execute_result"
    },
    {
     "data": {
      "image/png": "[encoded data removed]",
      "text/plain": [
       "<Figure size 432x288 with 1 Axes>"
      ]
     },
     "metadata": {
      "needs_background": "light",
      "tags": []
     },
     "output_type": "display_data"
    }
   ],
   "source": [
    "elastic_model = ElasticNet()\n",
    "\n",
    "elastic_model.fit(X,y)\n",
    "\n",
    "X.columns\n",
    "\n",
    "elastic_model.coef_\n",
    "\n",
    "X.columns.values\n",
    "\n",
    "modelSlope = pd.Series(elastic_model.coef_, index=X.columns).sort_values(ascending=False)\n",
    "\n",
    "modelSlope.plot(kind = \"bar\")\n",
    "\n",
    "modelSlope[modelSlope==0]"
   ]
  },
  {
   "cell_type": "code",
   "execution_count": 253,
   "metadata": {
    "executionInfo": {
     "elapsed": 16,
     "status": "ok",
     "timestamp": 1627221971564,
     "user": {
      "displayName": "Mohamed Noordeen Alaudeen",
      "photoUrl": "",
      "userId": "13097854355562551879"
     },
     "user_tz": -330
    },
    "id": "QsOXwO9R-6jE"
   },
   "outputs": [],
   "source": []
  }
 ],
 "metadata": {
  "colab": {
   "collapsed_sections": [],
   "name": "Analytics_vidhya_BigMartSales.ipynb",
   "provenance": []
  },
  "kernelspec": {
   "display_name": "Python 3",
   "language": "python",
   "name": "python3"
  },
  "language_info": {
   "codemirror_mode": {
    "name": "ipython",
    "version": 3
   },
   "file_extension": ".py",
   "mimetype": "text/x-python",
   "name": "python",
   "nbconvert_exporter": "python",
   "pygments_lexer": "ipython3",
   "version": "3.8.5"
  }
 },
 "nbformat": 4,
 "nbformat_minor": 5
}
